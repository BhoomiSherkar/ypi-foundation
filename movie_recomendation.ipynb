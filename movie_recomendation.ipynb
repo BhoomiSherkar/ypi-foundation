{
  "nbformat": 4,
  "nbformat_minor": 0,
  "metadata": {
    "colab": {
      "provenance": []
    },
    "kernelspec": {
      "name": "python3",
      "display_name": "Python 3"
    },
    "language_info": {
      "name": "python"
    }
  },
  "cells": [
    {
      "cell_type": "code",
      "execution_count": 1,
      "metadata": {
        "id": "BHG3LpdzcuDs"
      },
      "outputs": [],
      "source": [
        "import pandas as pd"
      ]
    },
    {
      "cell_type": "code",
      "source": [
        "import numpy as np"
      ],
      "metadata": {
        "id": "2uPwT0TRff2h"
      },
      "execution_count": 2,
      "outputs": []
    },
    {
      "cell_type": "code",
      "source": [
        "df = pd.read_csv(r'https://raw.githubusercontent.com/YBI-Foundation/Dataset/main/Movies%20Recommendation.csv')"
      ],
      "metadata": {
        "id": "HXKIBLELfiJp"
      },
      "execution_count": 3,
      "outputs": []
    },
    {
      "cell_type": "code",
      "source": [
        "\n",
        "df.head()"
      ],
      "metadata": {
        "colab": {
          "base_uri": "https://localhost:8080/",
          "height": 672
        },
        "id": "hc6J9y9Rgh64",
        "outputId": "d5e2677c-8f27-4662-b85e-d3faec5aace1"
      },
      "execution_count": 4,
      "outputs": [
        {
          "output_type": "execute_result",
          "data": {
            "text/plain": [
              "   Movie_ID      Movie_Title                       Movie_Genre Movie_Language  \\\n",
              "0         1       Four Rooms                      Crime Comedy             en   \n",
              "1         2        Star Wars  Adventure Action Science Fiction             en   \n",
              "2         3     Finding Nemo                  Animation Family             en   \n",
              "3         4     Forrest Gump              Comedy Drama Romance             en   \n",
              "4         5  American Beauty                             Drama             en   \n",
              "\n",
              "   Movie_Budget  Movie_Popularity Movie_Release_Date  Movie_Revenue  \\\n",
              "0       4000000         22.876230         09-12-1995        4300000   \n",
              "1      11000000        126.393695         25-05-1977      775398007   \n",
              "2      94000000         85.688789         30-05-2003      940335536   \n",
              "3      55000000        138.133331         06-07-1994      677945399   \n",
              "4      15000000         80.878605         15-09-1999      356296601   \n",
              "\n",
              "   Movie_Runtime  Movie_Vote  ...  \\\n",
              "0           98.0         6.5  ...   \n",
              "1          121.0         8.1  ...   \n",
              "2          100.0         7.6  ...   \n",
              "3          142.0         8.2  ...   \n",
              "4          122.0         7.9  ...   \n",
              "\n",
              "                                      Movie_Homepage  \\\n",
              "0                                                NaN   \n",
              "1  http://www.starwars.com/films/star-wars-episod...   \n",
              "2              http://movies.disney.com/finding-nemo   \n",
              "3                                                NaN   \n",
              "4                      http://www.dreamworks.com/ab/   \n",
              "\n",
              "                                      Movie_Keywords  \\\n",
              "0          hotel new year's eve witch bet hotel room   \n",
              "1        android galaxy hermit death star lightsaber   \n",
              "2  father son relationship harbor underwater fish...   \n",
              "3  vietnam veteran hippie mentally disabled runni...   \n",
              "4  male nudity female nudity adultery midlife cri...   \n",
              "\n",
              "                                      Movie_Overview  \\\n",
              "0  It's Ted the Bellhop's first night on the job....   \n",
              "1  Princess Leia is captured and held hostage by ...   \n",
              "2  Nemo, an adventurous young clownfish, is unexp...   \n",
              "3  A man with a low IQ has accomplished great thi...   \n",
              "4  Lester Burnham, a depressed suburban father in...   \n",
              "\n",
              "                              Movie_Production_House  \\\n",
              "0  [{\"name\": \"Miramax Films\", \"id\": 14}, {\"name\":...   \n",
              "1  [{\"name\": \"Lucasfilm\", \"id\": 1}, {\"name\": \"Twe...   \n",
              "2     [{\"name\": \"Pixar Animation Studios\", \"id\": 3}]   \n",
              "3          [{\"name\": \"Paramount Pictures\", \"id\": 4}]   \n",
              "4  [{\"name\": \"DreamWorks SKG\", \"id\": 27}, {\"name\"...   \n",
              "\n",
              "                            Movie_Production_Country  \\\n",
              "0  [{\"iso_3166_1\": \"US\", \"name\": \"United States o...   \n",
              "1  [{\"iso_3166_1\": \"US\", \"name\": \"United States o...   \n",
              "2  [{\"iso_3166_1\": \"US\", \"name\": \"United States o...   \n",
              "3  [{\"iso_3166_1\": \"US\", \"name\": \"United States o...   \n",
              "4  [{\"iso_3166_1\": \"US\", \"name\": \"United States o...   \n",
              "\n",
              "                      Movie_Spoken_Language  \\\n",
              "0  [{\"iso_639_1\": \"en\", \"name\": \"English\"}]   \n",
              "1  [{\"iso_639_1\": \"en\", \"name\": \"English\"}]   \n",
              "2  [{\"iso_639_1\": \"en\", \"name\": \"English\"}]   \n",
              "3  [{\"iso_639_1\": \"en\", \"name\": \"English\"}]   \n",
              "4  [{\"iso_639_1\": \"en\", \"name\": \"English\"}]   \n",
              "\n",
              "                                       Movie_Tagline  \\\n",
              "0  Twelve outrageous guests. Four scandalous requ...   \n",
              "1       A long time ago in a galaxy far, far away...   \n",
              "2  There are 3.7 trillion fish in the ocean, they...   \n",
              "3  The world will never be the same, once you've ...   \n",
              "4                                       Look closer.   \n",
              "\n",
              "                                          Movie_Cast  \\\n",
              "0  Tim Roth Antonio Banderas Jennifer Beals Madon...   \n",
              "1  Mark Hamill Harrison Ford Carrie Fisher Peter ...   \n",
              "2  Albert Brooks Ellen DeGeneres Alexander Gould ...   \n",
              "3  Tom Hanks Robin Wright Gary Sinise Mykelti Wil...   \n",
              "4  Kevin Spacey Annette Bening Thora Birch Wes Be...   \n",
              "\n",
              "                                          Movie_Crew   Movie_Director  \n",
              "0  [{'name': 'Allison Anders', 'gender': 1, 'depa...   Allison Anders  \n",
              "1  [{'name': 'George Lucas', 'gender': 2, 'depart...     George Lucas  \n",
              "2  [{'name': 'Andrew Stanton', 'gender': 2, 'depa...   Andrew Stanton  \n",
              "3  [{'name': 'Alan Silvestri', 'gender': 2, 'depa...  Robert Zemeckis  \n",
              "4  [{'name': 'Thomas Newman', 'gender': 2, 'depar...       Sam Mendes  \n",
              "\n",
              "[5 rows x 21 columns]"
            ],
            "text/html": [
              "\n",
              "  <div id=\"df-024f792e-93c8-4f78-9ca3-ba24b379b54b\" class=\"colab-df-container\">\n",
              "    <div>\n",
              "<style scoped>\n",
              "    .dataframe tbody tr th:only-of-type {\n",
              "        vertical-align: middle;\n",
              "    }\n",
              "\n",
              "    .dataframe tbody tr th {\n",
              "        vertical-align: top;\n",
              "    }\n",
              "\n",
              "    .dataframe thead th {\n",
              "        text-align: right;\n",
              "    }\n",
              "</style>\n",
              "<table border=\"1\" class=\"dataframe\">\n",
              "  <thead>\n",
              "    <tr style=\"text-align: right;\">\n",
              "      <th></th>\n",
              "      <th>Movie_ID</th>\n",
              "      <th>Movie_Title</th>\n",
              "      <th>Movie_Genre</th>\n",
              "      <th>Movie_Language</th>\n",
              "      <th>Movie_Budget</th>\n",
              "      <th>Movie_Popularity</th>\n",
              "      <th>Movie_Release_Date</th>\n",
              "      <th>Movie_Revenue</th>\n",
              "      <th>Movie_Runtime</th>\n",
              "      <th>Movie_Vote</th>\n",
              "      <th>...</th>\n",
              "      <th>Movie_Homepage</th>\n",
              "      <th>Movie_Keywords</th>\n",
              "      <th>Movie_Overview</th>\n",
              "      <th>Movie_Production_House</th>\n",
              "      <th>Movie_Production_Country</th>\n",
              "      <th>Movie_Spoken_Language</th>\n",
              "      <th>Movie_Tagline</th>\n",
              "      <th>Movie_Cast</th>\n",
              "      <th>Movie_Crew</th>\n",
              "      <th>Movie_Director</th>\n",
              "    </tr>\n",
              "  </thead>\n",
              "  <tbody>\n",
              "    <tr>\n",
              "      <th>0</th>\n",
              "      <td>1</td>\n",
              "      <td>Four Rooms</td>\n",
              "      <td>Crime Comedy</td>\n",
              "      <td>en</td>\n",
              "      <td>4000000</td>\n",
              "      <td>22.876230</td>\n",
              "      <td>09-12-1995</td>\n",
              "      <td>4300000</td>\n",
              "      <td>98.0</td>\n",
              "      <td>6.5</td>\n",
              "      <td>...</td>\n",
              "      <td>NaN</td>\n",
              "      <td>hotel new year's eve witch bet hotel room</td>\n",
              "      <td>It's Ted the Bellhop's first night on the job....</td>\n",
              "      <td>[{\"name\": \"Miramax Films\", \"id\": 14}, {\"name\":...</td>\n",
              "      <td>[{\"iso_3166_1\": \"US\", \"name\": \"United States o...</td>\n",
              "      <td>[{\"iso_639_1\": \"en\", \"name\": \"English\"}]</td>\n",
              "      <td>Twelve outrageous guests. Four scandalous requ...</td>\n",
              "      <td>Tim Roth Antonio Banderas Jennifer Beals Madon...</td>\n",
              "      <td>[{'name': 'Allison Anders', 'gender': 1, 'depa...</td>\n",
              "      <td>Allison Anders</td>\n",
              "    </tr>\n",
              "    <tr>\n",
              "      <th>1</th>\n",
              "      <td>2</td>\n",
              "      <td>Star Wars</td>\n",
              "      <td>Adventure Action Science Fiction</td>\n",
              "      <td>en</td>\n",
              "      <td>11000000</td>\n",
              "      <td>126.393695</td>\n",
              "      <td>25-05-1977</td>\n",
              "      <td>775398007</td>\n",
              "      <td>121.0</td>\n",
              "      <td>8.1</td>\n",
              "      <td>...</td>\n",
              "      <td>http://www.starwars.com/films/star-wars-episod...</td>\n",
              "      <td>android galaxy hermit death star lightsaber</td>\n",
              "      <td>Princess Leia is captured and held hostage by ...</td>\n",
              "      <td>[{\"name\": \"Lucasfilm\", \"id\": 1}, {\"name\": \"Twe...</td>\n",
              "      <td>[{\"iso_3166_1\": \"US\", \"name\": \"United States o...</td>\n",
              "      <td>[{\"iso_639_1\": \"en\", \"name\": \"English\"}]</td>\n",
              "      <td>A long time ago in a galaxy far, far away...</td>\n",
              "      <td>Mark Hamill Harrison Ford Carrie Fisher Peter ...</td>\n",
              "      <td>[{'name': 'George Lucas', 'gender': 2, 'depart...</td>\n",
              "      <td>George Lucas</td>\n",
              "    </tr>\n",
              "    <tr>\n",
              "      <th>2</th>\n",
              "      <td>3</td>\n",
              "      <td>Finding Nemo</td>\n",
              "      <td>Animation Family</td>\n",
              "      <td>en</td>\n",
              "      <td>94000000</td>\n",
              "      <td>85.688789</td>\n",
              "      <td>30-05-2003</td>\n",
              "      <td>940335536</td>\n",
              "      <td>100.0</td>\n",
              "      <td>7.6</td>\n",
              "      <td>...</td>\n",
              "      <td>http://movies.disney.com/finding-nemo</td>\n",
              "      <td>father son relationship harbor underwater fish...</td>\n",
              "      <td>Nemo, an adventurous young clownfish, is unexp...</td>\n",
              "      <td>[{\"name\": \"Pixar Animation Studios\", \"id\": 3}]</td>\n",
              "      <td>[{\"iso_3166_1\": \"US\", \"name\": \"United States o...</td>\n",
              "      <td>[{\"iso_639_1\": \"en\", \"name\": \"English\"}]</td>\n",
              "      <td>There are 3.7 trillion fish in the ocean, they...</td>\n",
              "      <td>Albert Brooks Ellen DeGeneres Alexander Gould ...</td>\n",
              "      <td>[{'name': 'Andrew Stanton', 'gender': 2, 'depa...</td>\n",
              "      <td>Andrew Stanton</td>\n",
              "    </tr>\n",
              "    <tr>\n",
              "      <th>3</th>\n",
              "      <td>4</td>\n",
              "      <td>Forrest Gump</td>\n",
              "      <td>Comedy Drama Romance</td>\n",
              "      <td>en</td>\n",
              "      <td>55000000</td>\n",
              "      <td>138.133331</td>\n",
              "      <td>06-07-1994</td>\n",
              "      <td>677945399</td>\n",
              "      <td>142.0</td>\n",
              "      <td>8.2</td>\n",
              "      <td>...</td>\n",
              "      <td>NaN</td>\n",
              "      <td>vietnam veteran hippie mentally disabled runni...</td>\n",
              "      <td>A man with a low IQ has accomplished great thi...</td>\n",
              "      <td>[{\"name\": \"Paramount Pictures\", \"id\": 4}]</td>\n",
              "      <td>[{\"iso_3166_1\": \"US\", \"name\": \"United States o...</td>\n",
              "      <td>[{\"iso_639_1\": \"en\", \"name\": \"English\"}]</td>\n",
              "      <td>The world will never be the same, once you've ...</td>\n",
              "      <td>Tom Hanks Robin Wright Gary Sinise Mykelti Wil...</td>\n",
              "      <td>[{'name': 'Alan Silvestri', 'gender': 2, 'depa...</td>\n",
              "      <td>Robert Zemeckis</td>\n",
              "    </tr>\n",
              "    <tr>\n",
              "      <th>4</th>\n",
              "      <td>5</td>\n",
              "      <td>American Beauty</td>\n",
              "      <td>Drama</td>\n",
              "      <td>en</td>\n",
              "      <td>15000000</td>\n",
              "      <td>80.878605</td>\n",
              "      <td>15-09-1999</td>\n",
              "      <td>356296601</td>\n",
              "      <td>122.0</td>\n",
              "      <td>7.9</td>\n",
              "      <td>...</td>\n",
              "      <td>http://www.dreamworks.com/ab/</td>\n",
              "      <td>male nudity female nudity adultery midlife cri...</td>\n",
              "      <td>Lester Burnham, a depressed suburban father in...</td>\n",
              "      <td>[{\"name\": \"DreamWorks SKG\", \"id\": 27}, {\"name\"...</td>\n",
              "      <td>[{\"iso_3166_1\": \"US\", \"name\": \"United States o...</td>\n",
              "      <td>[{\"iso_639_1\": \"en\", \"name\": \"English\"}]</td>\n",
              "      <td>Look closer.</td>\n",
              "      <td>Kevin Spacey Annette Bening Thora Birch Wes Be...</td>\n",
              "      <td>[{'name': 'Thomas Newman', 'gender': 2, 'depar...</td>\n",
              "      <td>Sam Mendes</td>\n",
              "    </tr>\n",
              "  </tbody>\n",
              "</table>\n",
              "<p>5 rows × 21 columns</p>\n",
              "</div>\n",
              "    <div class=\"colab-df-buttons\">\n",
              "\n",
              "  <div class=\"colab-df-container\">\n",
              "    <button class=\"colab-df-convert\" onclick=\"convertToInteractive('df-024f792e-93c8-4f78-9ca3-ba24b379b54b')\"\n",
              "            title=\"Convert this dataframe to an interactive table.\"\n",
              "            style=\"display:none;\">\n",
              "\n",
              "  <svg xmlns=\"http://www.w3.org/2000/svg\" height=\"24px\" viewBox=\"0 -960 960 960\">\n",
              "    <path d=\"M120-120v-720h720v720H120Zm60-500h600v-160H180v160Zm220 220h160v-160H400v160Zm0 220h160v-160H400v160ZM180-400h160v-160H180v160Zm440 0h160v-160H620v160ZM180-180h160v-160H180v160Zm440 0h160v-160H620v160Z\"/>\n",
              "  </svg>\n",
              "    </button>\n",
              "\n",
              "  <style>\n",
              "    .colab-df-container {\n",
              "      display:flex;\n",
              "      gap: 12px;\n",
              "    }\n",
              "\n",
              "    .colab-df-convert {\n",
              "      background-color: #E8F0FE;\n",
              "      border: none;\n",
              "      border-radius: 50%;\n",
              "      cursor: pointer;\n",
              "      display: none;\n",
              "      fill: #1967D2;\n",
              "      height: 32px;\n",
              "      padding: 0 0 0 0;\n",
              "      width: 32px;\n",
              "    }\n",
              "\n",
              "    .colab-df-convert:hover {\n",
              "      background-color: #E2EBFA;\n",
              "      box-shadow: 0px 1px 2px rgba(60, 64, 67, 0.3), 0px 1px 3px 1px rgba(60, 64, 67, 0.15);\n",
              "      fill: #174EA6;\n",
              "    }\n",
              "\n",
              "    .colab-df-buttons div {\n",
              "      margin-bottom: 4px;\n",
              "    }\n",
              "\n",
              "    [theme=dark] .colab-df-convert {\n",
              "      background-color: #3B4455;\n",
              "      fill: #D2E3FC;\n",
              "    }\n",
              "\n",
              "    [theme=dark] .colab-df-convert:hover {\n",
              "      background-color: #434B5C;\n",
              "      box-shadow: 0px 1px 3px 1px rgba(0, 0, 0, 0.15);\n",
              "      filter: drop-shadow(0px 1px 2px rgba(0, 0, 0, 0.3));\n",
              "      fill: #FFFFFF;\n",
              "    }\n",
              "  </style>\n",
              "\n",
              "    <script>\n",
              "      const buttonEl =\n",
              "        document.querySelector('#df-024f792e-93c8-4f78-9ca3-ba24b379b54b button.colab-df-convert');\n",
              "      buttonEl.style.display =\n",
              "        google.colab.kernel.accessAllowed ? 'block' : 'none';\n",
              "\n",
              "      async function convertToInteractive(key) {\n",
              "        const element = document.querySelector('#df-024f792e-93c8-4f78-9ca3-ba24b379b54b');\n",
              "        const dataTable =\n",
              "          await google.colab.kernel.invokeFunction('convertToInteractive',\n",
              "                                                    [key], {});\n",
              "        if (!dataTable) return;\n",
              "\n",
              "        const docLinkHtml = 'Like what you see? Visit the ' +\n",
              "          '<a target=\"_blank\" href=https://colab.research.google.com/notebooks/data_table.ipynb>data table notebook</a>'\n",
              "          + ' to learn more about interactive tables.';\n",
              "        element.innerHTML = '';\n",
              "        dataTable['output_type'] = 'display_data';\n",
              "        await google.colab.output.renderOutput(dataTable, element);\n",
              "        const docLink = document.createElement('div');\n",
              "        docLink.innerHTML = docLinkHtml;\n",
              "        element.appendChild(docLink);\n",
              "      }\n",
              "    </script>\n",
              "  </div>\n",
              "\n",
              "\n",
              "<div id=\"df-591eba57-e27d-4e5f-afbb-1ef99057f527\">\n",
              "  <button class=\"colab-df-quickchart\" onclick=\"quickchart('df-591eba57-e27d-4e5f-afbb-1ef99057f527')\"\n",
              "            title=\"Suggest charts\"\n",
              "            style=\"display:none;\">\n",
              "\n",
              "<svg xmlns=\"http://www.w3.org/2000/svg\" height=\"24px\"viewBox=\"0 0 24 24\"\n",
              "     width=\"24px\">\n",
              "    <g>\n",
              "        <path d=\"M19 3H5c-1.1 0-2 .9-2 2v14c0 1.1.9 2 2 2h14c1.1 0 2-.9 2-2V5c0-1.1-.9-2-2-2zM9 17H7v-7h2v7zm4 0h-2V7h2v10zm4 0h-2v-4h2v4z\"/>\n",
              "    </g>\n",
              "</svg>\n",
              "  </button>\n",
              "\n",
              "<style>\n",
              "  .colab-df-quickchart {\n",
              "      --bg-color: #E8F0FE;\n",
              "      --fill-color: #1967D2;\n",
              "      --hover-bg-color: #E2EBFA;\n",
              "      --hover-fill-color: #174EA6;\n",
              "      --disabled-fill-color: #AAA;\n",
              "      --disabled-bg-color: #DDD;\n",
              "  }\n",
              "\n",
              "  [theme=dark] .colab-df-quickchart {\n",
              "      --bg-color: #3B4455;\n",
              "      --fill-color: #D2E3FC;\n",
              "      --hover-bg-color: #434B5C;\n",
              "      --hover-fill-color: #FFFFFF;\n",
              "      --disabled-bg-color: #3B4455;\n",
              "      --disabled-fill-color: #666;\n",
              "  }\n",
              "\n",
              "  .colab-df-quickchart {\n",
              "    background-color: var(--bg-color);\n",
              "    border: none;\n",
              "    border-radius: 50%;\n",
              "    cursor: pointer;\n",
              "    display: none;\n",
              "    fill: var(--fill-color);\n",
              "    height: 32px;\n",
              "    padding: 0;\n",
              "    width: 32px;\n",
              "  }\n",
              "\n",
              "  .colab-df-quickchart:hover {\n",
              "    background-color: var(--hover-bg-color);\n",
              "    box-shadow: 0 1px 2px rgba(60, 64, 67, 0.3), 0 1px 3px 1px rgba(60, 64, 67, 0.15);\n",
              "    fill: var(--button-hover-fill-color);\n",
              "  }\n",
              "\n",
              "  .colab-df-quickchart-complete:disabled,\n",
              "  .colab-df-quickchart-complete:disabled:hover {\n",
              "    background-color: var(--disabled-bg-color);\n",
              "    fill: var(--disabled-fill-color);\n",
              "    box-shadow: none;\n",
              "  }\n",
              "\n",
              "  .colab-df-spinner {\n",
              "    border: 2px solid var(--fill-color);\n",
              "    border-color: transparent;\n",
              "    border-bottom-color: var(--fill-color);\n",
              "    animation:\n",
              "      spin 1s steps(1) infinite;\n",
              "  }\n",
              "\n",
              "  @keyframes spin {\n",
              "    0% {\n",
              "      border-color: transparent;\n",
              "      border-bottom-color: var(--fill-color);\n",
              "      border-left-color: var(--fill-color);\n",
              "    }\n",
              "    20% {\n",
              "      border-color: transparent;\n",
              "      border-left-color: var(--fill-color);\n",
              "      border-top-color: var(--fill-color);\n",
              "    }\n",
              "    30% {\n",
              "      border-color: transparent;\n",
              "      border-left-color: var(--fill-color);\n",
              "      border-top-color: var(--fill-color);\n",
              "      border-right-color: var(--fill-color);\n",
              "    }\n",
              "    40% {\n",
              "      border-color: transparent;\n",
              "      border-right-color: var(--fill-color);\n",
              "      border-top-color: var(--fill-color);\n",
              "    }\n",
              "    60% {\n",
              "      border-color: transparent;\n",
              "      border-right-color: var(--fill-color);\n",
              "    }\n",
              "    80% {\n",
              "      border-color: transparent;\n",
              "      border-right-color: var(--fill-color);\n",
              "      border-bottom-color: var(--fill-color);\n",
              "    }\n",
              "    90% {\n",
              "      border-color: transparent;\n",
              "      border-bottom-color: var(--fill-color);\n",
              "    }\n",
              "  }\n",
              "</style>\n",
              "\n",
              "  <script>\n",
              "    async function quickchart(key) {\n",
              "      const quickchartButtonEl =\n",
              "        document.querySelector('#' + key + ' button');\n",
              "      quickchartButtonEl.disabled = true;  // To prevent multiple clicks.\n",
              "      quickchartButtonEl.classList.add('colab-df-spinner');\n",
              "      try {\n",
              "        const charts = await google.colab.kernel.invokeFunction(\n",
              "            'suggestCharts', [key], {});\n",
              "      } catch (error) {\n",
              "        console.error('Error during call to suggestCharts:', error);\n",
              "      }\n",
              "      quickchartButtonEl.classList.remove('colab-df-spinner');\n",
              "      quickchartButtonEl.classList.add('colab-df-quickchart-complete');\n",
              "    }\n",
              "    (() => {\n",
              "      let quickchartButtonEl =\n",
              "        document.querySelector('#df-591eba57-e27d-4e5f-afbb-1ef99057f527 button');\n",
              "      quickchartButtonEl.style.display =\n",
              "        google.colab.kernel.accessAllowed ? 'block' : 'none';\n",
              "    })();\n",
              "  </script>\n",
              "</div>\n",
              "\n",
              "    </div>\n",
              "  </div>\n"
            ],
            "application/vnd.google.colaboratory.intrinsic+json": {
              "type": "dataframe",
              "variable_name": "df"
            }
          },
          "metadata": {},
          "execution_count": 4
        }
      ]
    },
    {
      "cell_type": "code",
      "source": [
        "df.info()"
      ],
      "metadata": {
        "colab": {
          "base_uri": "https://localhost:8080/"
        },
        "id": "X6Jhpjsegw2G",
        "outputId": "2c3a347a-196d-4c38-cb39-32ec38ae06ba"
      },
      "execution_count": 5,
      "outputs": [
        {
          "output_type": "stream",
          "name": "stdout",
          "text": [
            "<class 'pandas.core.frame.DataFrame'>\n",
            "RangeIndex: 4760 entries, 0 to 4759\n",
            "Data columns (total 21 columns):\n",
            " #   Column                    Non-Null Count  Dtype  \n",
            "---  ------                    --------------  -----  \n",
            " 0   Movie_ID                  4760 non-null   int64  \n",
            " 1   Movie_Title               4760 non-null   object \n",
            " 2   Movie_Genre               4760 non-null   object \n",
            " 3   Movie_Language            4760 non-null   object \n",
            " 4   Movie_Budget              4760 non-null   int64  \n",
            " 5   Movie_Popularity          4760 non-null   float64\n",
            " 6   Movie_Release_Date        4760 non-null   object \n",
            " 7   Movie_Revenue             4760 non-null   int64  \n",
            " 8   Movie_Runtime             4758 non-null   float64\n",
            " 9   Movie_Vote                4760 non-null   float64\n",
            " 10  Movie_Vote_Count          4760 non-null   int64  \n",
            " 11  Movie_Homepage            1699 non-null   object \n",
            " 12  Movie_Keywords            4373 non-null   object \n",
            " 13  Movie_Overview            4757 non-null   object \n",
            " 14  Movie_Production_House    4760 non-null   object \n",
            " 15  Movie_Production_Country  4760 non-null   object \n",
            " 16  Movie_Spoken_Language     4760 non-null   object \n",
            " 17  Movie_Tagline             3942 non-null   object \n",
            " 18  Movie_Cast                4733 non-null   object \n",
            " 19  Movie_Crew                4760 non-null   object \n",
            " 20  Movie_Director            4738 non-null   object \n",
            "dtypes: float64(3), int64(4), object(14)\n",
            "memory usage: 781.1+ KB\n"
          ]
        }
      ]
    },
    {
      "cell_type": "code",
      "source": [
        "df.describe()"
      ],
      "metadata": {
        "colab": {
          "base_uri": "https://localhost:8080/",
          "height": 300
        },
        "id": "S1q1Olmvgyot",
        "outputId": "ea79bc8a-cd27-45c7-8783-cd660dee1672"
      },
      "execution_count": 6,
      "outputs": [
        {
          "output_type": "execute_result",
          "data": {
            "text/plain": [
              "          Movie_ID  Movie_Budget  Movie_Popularity  Movie_Revenue  \\\n",
              "count  4760.000000  4.760000e+03       4760.000000   4.760000e+03   \n",
              "mean   2382.566387  2.920129e+07         21.599510   8.263743e+07   \n",
              "std    1377.270159  4.075620e+07         31.887919   1.630554e+08   \n",
              "min       1.000000  0.000000e+00          0.000372   0.000000e+00   \n",
              "25%    1190.750000  9.257500e+05          4.807074   0.000000e+00   \n",
              "50%    2380.500000  1.500000e+07         13.119058   1.944716e+07   \n",
              "75%    3572.250000  4.000000e+07         28.411929   9.341276e+07   \n",
              "max    4788.000000  3.800000e+08        875.581305   2.787965e+09   \n",
              "\n",
              "       Movie_Runtime   Movie_Vote  Movie_Vote_Count  \n",
              "count    4758.000000  4760.000000       4760.000000  \n",
              "mean      107.184111     6.113866        692.508403  \n",
              "std        21.960332     1.141294       1235.007337  \n",
              "min         0.000000     0.000000          0.000000  \n",
              "25%        94.000000     5.600000         55.000000  \n",
              "50%       104.000000     6.200000        238.000000  \n",
              "75%       118.000000     6.800000        740.250000  \n",
              "max       338.000000    10.000000      13752.000000  "
            ],
            "text/html": [
              "\n",
              "  <div id=\"df-f0090db2-9a84-4472-82a1-de8d2a85640f\" class=\"colab-df-container\">\n",
              "    <div>\n",
              "<style scoped>\n",
              "    .dataframe tbody tr th:only-of-type {\n",
              "        vertical-align: middle;\n",
              "    }\n",
              "\n",
              "    .dataframe tbody tr th {\n",
              "        vertical-align: top;\n",
              "    }\n",
              "\n",
              "    .dataframe thead th {\n",
              "        text-align: right;\n",
              "    }\n",
              "</style>\n",
              "<table border=\"1\" class=\"dataframe\">\n",
              "  <thead>\n",
              "    <tr style=\"text-align: right;\">\n",
              "      <th></th>\n",
              "      <th>Movie_ID</th>\n",
              "      <th>Movie_Budget</th>\n",
              "      <th>Movie_Popularity</th>\n",
              "      <th>Movie_Revenue</th>\n",
              "      <th>Movie_Runtime</th>\n",
              "      <th>Movie_Vote</th>\n",
              "      <th>Movie_Vote_Count</th>\n",
              "    </tr>\n",
              "  </thead>\n",
              "  <tbody>\n",
              "    <tr>\n",
              "      <th>count</th>\n",
              "      <td>4760.000000</td>\n",
              "      <td>4.760000e+03</td>\n",
              "      <td>4760.000000</td>\n",
              "      <td>4.760000e+03</td>\n",
              "      <td>4758.000000</td>\n",
              "      <td>4760.000000</td>\n",
              "      <td>4760.000000</td>\n",
              "    </tr>\n",
              "    <tr>\n",
              "      <th>mean</th>\n",
              "      <td>2382.566387</td>\n",
              "      <td>2.920129e+07</td>\n",
              "      <td>21.599510</td>\n",
              "      <td>8.263743e+07</td>\n",
              "      <td>107.184111</td>\n",
              "      <td>6.113866</td>\n",
              "      <td>692.508403</td>\n",
              "    </tr>\n",
              "    <tr>\n",
              "      <th>std</th>\n",
              "      <td>1377.270159</td>\n",
              "      <td>4.075620e+07</td>\n",
              "      <td>31.887919</td>\n",
              "      <td>1.630554e+08</td>\n",
              "      <td>21.960332</td>\n",
              "      <td>1.141294</td>\n",
              "      <td>1235.007337</td>\n",
              "    </tr>\n",
              "    <tr>\n",
              "      <th>min</th>\n",
              "      <td>1.000000</td>\n",
              "      <td>0.000000e+00</td>\n",
              "      <td>0.000372</td>\n",
              "      <td>0.000000e+00</td>\n",
              "      <td>0.000000</td>\n",
              "      <td>0.000000</td>\n",
              "      <td>0.000000</td>\n",
              "    </tr>\n",
              "    <tr>\n",
              "      <th>25%</th>\n",
              "      <td>1190.750000</td>\n",
              "      <td>9.257500e+05</td>\n",
              "      <td>4.807074</td>\n",
              "      <td>0.000000e+00</td>\n",
              "      <td>94.000000</td>\n",
              "      <td>5.600000</td>\n",
              "      <td>55.000000</td>\n",
              "    </tr>\n",
              "    <tr>\n",
              "      <th>50%</th>\n",
              "      <td>2380.500000</td>\n",
              "      <td>1.500000e+07</td>\n",
              "      <td>13.119058</td>\n",
              "      <td>1.944716e+07</td>\n",
              "      <td>104.000000</td>\n",
              "      <td>6.200000</td>\n",
              "      <td>238.000000</td>\n",
              "    </tr>\n",
              "    <tr>\n",
              "      <th>75%</th>\n",
              "      <td>3572.250000</td>\n",
              "      <td>4.000000e+07</td>\n",
              "      <td>28.411929</td>\n",
              "      <td>9.341276e+07</td>\n",
              "      <td>118.000000</td>\n",
              "      <td>6.800000</td>\n",
              "      <td>740.250000</td>\n",
              "    </tr>\n",
              "    <tr>\n",
              "      <th>max</th>\n",
              "      <td>4788.000000</td>\n",
              "      <td>3.800000e+08</td>\n",
              "      <td>875.581305</td>\n",
              "      <td>2.787965e+09</td>\n",
              "      <td>338.000000</td>\n",
              "      <td>10.000000</td>\n",
              "      <td>13752.000000</td>\n",
              "    </tr>\n",
              "  </tbody>\n",
              "</table>\n",
              "</div>\n",
              "    <div class=\"colab-df-buttons\">\n",
              "\n",
              "  <div class=\"colab-df-container\">\n",
              "    <button class=\"colab-df-convert\" onclick=\"convertToInteractive('df-f0090db2-9a84-4472-82a1-de8d2a85640f')\"\n",
              "            title=\"Convert this dataframe to an interactive table.\"\n",
              "            style=\"display:none;\">\n",
              "\n",
              "  <svg xmlns=\"http://www.w3.org/2000/svg\" height=\"24px\" viewBox=\"0 -960 960 960\">\n",
              "    <path d=\"M120-120v-720h720v720H120Zm60-500h600v-160H180v160Zm220 220h160v-160H400v160Zm0 220h160v-160H400v160ZM180-400h160v-160H180v160Zm440 0h160v-160H620v160ZM180-180h160v-160H180v160Zm440 0h160v-160H620v160Z\"/>\n",
              "  </svg>\n",
              "    </button>\n",
              "\n",
              "  <style>\n",
              "    .colab-df-container {\n",
              "      display:flex;\n",
              "      gap: 12px;\n",
              "    }\n",
              "\n",
              "    .colab-df-convert {\n",
              "      background-color: #E8F0FE;\n",
              "      border: none;\n",
              "      border-radius: 50%;\n",
              "      cursor: pointer;\n",
              "      display: none;\n",
              "      fill: #1967D2;\n",
              "      height: 32px;\n",
              "      padding: 0 0 0 0;\n",
              "      width: 32px;\n",
              "    }\n",
              "\n",
              "    .colab-df-convert:hover {\n",
              "      background-color: #E2EBFA;\n",
              "      box-shadow: 0px 1px 2px rgba(60, 64, 67, 0.3), 0px 1px 3px 1px rgba(60, 64, 67, 0.15);\n",
              "      fill: #174EA6;\n",
              "    }\n",
              "\n",
              "    .colab-df-buttons div {\n",
              "      margin-bottom: 4px;\n",
              "    }\n",
              "\n",
              "    [theme=dark] .colab-df-convert {\n",
              "      background-color: #3B4455;\n",
              "      fill: #D2E3FC;\n",
              "    }\n",
              "\n",
              "    [theme=dark] .colab-df-convert:hover {\n",
              "      background-color: #434B5C;\n",
              "      box-shadow: 0px 1px 3px 1px rgba(0, 0, 0, 0.15);\n",
              "      filter: drop-shadow(0px 1px 2px rgba(0, 0, 0, 0.3));\n",
              "      fill: #FFFFFF;\n",
              "    }\n",
              "  </style>\n",
              "\n",
              "    <script>\n",
              "      const buttonEl =\n",
              "        document.querySelector('#df-f0090db2-9a84-4472-82a1-de8d2a85640f button.colab-df-convert');\n",
              "      buttonEl.style.display =\n",
              "        google.colab.kernel.accessAllowed ? 'block' : 'none';\n",
              "\n",
              "      async function convertToInteractive(key) {\n",
              "        const element = document.querySelector('#df-f0090db2-9a84-4472-82a1-de8d2a85640f');\n",
              "        const dataTable =\n",
              "          await google.colab.kernel.invokeFunction('convertToInteractive',\n",
              "                                                    [key], {});\n",
              "        if (!dataTable) return;\n",
              "\n",
              "        const docLinkHtml = 'Like what you see? Visit the ' +\n",
              "          '<a target=\"_blank\" href=https://colab.research.google.com/notebooks/data_table.ipynb>data table notebook</a>'\n",
              "          + ' to learn more about interactive tables.';\n",
              "        element.innerHTML = '';\n",
              "        dataTable['output_type'] = 'display_data';\n",
              "        await google.colab.output.renderOutput(dataTable, element);\n",
              "        const docLink = document.createElement('div');\n",
              "        docLink.innerHTML = docLinkHtml;\n",
              "        element.appendChild(docLink);\n",
              "      }\n",
              "    </script>\n",
              "  </div>\n",
              "\n",
              "\n",
              "<div id=\"df-123280bf-82ec-4d31-87ed-089bcc263d41\">\n",
              "  <button class=\"colab-df-quickchart\" onclick=\"quickchart('df-123280bf-82ec-4d31-87ed-089bcc263d41')\"\n",
              "            title=\"Suggest charts\"\n",
              "            style=\"display:none;\">\n",
              "\n",
              "<svg xmlns=\"http://www.w3.org/2000/svg\" height=\"24px\"viewBox=\"0 0 24 24\"\n",
              "     width=\"24px\">\n",
              "    <g>\n",
              "        <path d=\"M19 3H5c-1.1 0-2 .9-2 2v14c0 1.1.9 2 2 2h14c1.1 0 2-.9 2-2V5c0-1.1-.9-2-2-2zM9 17H7v-7h2v7zm4 0h-2V7h2v10zm4 0h-2v-4h2v4z\"/>\n",
              "    </g>\n",
              "</svg>\n",
              "  </button>\n",
              "\n",
              "<style>\n",
              "  .colab-df-quickchart {\n",
              "      --bg-color: #E8F0FE;\n",
              "      --fill-color: #1967D2;\n",
              "      --hover-bg-color: #E2EBFA;\n",
              "      --hover-fill-color: #174EA6;\n",
              "      --disabled-fill-color: #AAA;\n",
              "      --disabled-bg-color: #DDD;\n",
              "  }\n",
              "\n",
              "  [theme=dark] .colab-df-quickchart {\n",
              "      --bg-color: #3B4455;\n",
              "      --fill-color: #D2E3FC;\n",
              "      --hover-bg-color: #434B5C;\n",
              "      --hover-fill-color: #FFFFFF;\n",
              "      --disabled-bg-color: #3B4455;\n",
              "      --disabled-fill-color: #666;\n",
              "  }\n",
              "\n",
              "  .colab-df-quickchart {\n",
              "    background-color: var(--bg-color);\n",
              "    border: none;\n",
              "    border-radius: 50%;\n",
              "    cursor: pointer;\n",
              "    display: none;\n",
              "    fill: var(--fill-color);\n",
              "    height: 32px;\n",
              "    padding: 0;\n",
              "    width: 32px;\n",
              "  }\n",
              "\n",
              "  .colab-df-quickchart:hover {\n",
              "    background-color: var(--hover-bg-color);\n",
              "    box-shadow: 0 1px 2px rgba(60, 64, 67, 0.3), 0 1px 3px 1px rgba(60, 64, 67, 0.15);\n",
              "    fill: var(--button-hover-fill-color);\n",
              "  }\n",
              "\n",
              "  .colab-df-quickchart-complete:disabled,\n",
              "  .colab-df-quickchart-complete:disabled:hover {\n",
              "    background-color: var(--disabled-bg-color);\n",
              "    fill: var(--disabled-fill-color);\n",
              "    box-shadow: none;\n",
              "  }\n",
              "\n",
              "  .colab-df-spinner {\n",
              "    border: 2px solid var(--fill-color);\n",
              "    border-color: transparent;\n",
              "    border-bottom-color: var(--fill-color);\n",
              "    animation:\n",
              "      spin 1s steps(1) infinite;\n",
              "  }\n",
              "\n",
              "  @keyframes spin {\n",
              "    0% {\n",
              "      border-color: transparent;\n",
              "      border-bottom-color: var(--fill-color);\n",
              "      border-left-color: var(--fill-color);\n",
              "    }\n",
              "    20% {\n",
              "      border-color: transparent;\n",
              "      border-left-color: var(--fill-color);\n",
              "      border-top-color: var(--fill-color);\n",
              "    }\n",
              "    30% {\n",
              "      border-color: transparent;\n",
              "      border-left-color: var(--fill-color);\n",
              "      border-top-color: var(--fill-color);\n",
              "      border-right-color: var(--fill-color);\n",
              "    }\n",
              "    40% {\n",
              "      border-color: transparent;\n",
              "      border-right-color: var(--fill-color);\n",
              "      border-top-color: var(--fill-color);\n",
              "    }\n",
              "    60% {\n",
              "      border-color: transparent;\n",
              "      border-right-color: var(--fill-color);\n",
              "    }\n",
              "    80% {\n",
              "      border-color: transparent;\n",
              "      border-right-color: var(--fill-color);\n",
              "      border-bottom-color: var(--fill-color);\n",
              "    }\n",
              "    90% {\n",
              "      border-color: transparent;\n",
              "      border-bottom-color: var(--fill-color);\n",
              "    }\n",
              "  }\n",
              "</style>\n",
              "\n",
              "  <script>\n",
              "    async function quickchart(key) {\n",
              "      const quickchartButtonEl =\n",
              "        document.querySelector('#' + key + ' button');\n",
              "      quickchartButtonEl.disabled = true;  // To prevent multiple clicks.\n",
              "      quickchartButtonEl.classList.add('colab-df-spinner');\n",
              "      try {\n",
              "        const charts = await google.colab.kernel.invokeFunction(\n",
              "            'suggestCharts', [key], {});\n",
              "      } catch (error) {\n",
              "        console.error('Error during call to suggestCharts:', error);\n",
              "      }\n",
              "      quickchartButtonEl.classList.remove('colab-df-spinner');\n",
              "      quickchartButtonEl.classList.add('colab-df-quickchart-complete');\n",
              "    }\n",
              "    (() => {\n",
              "      let quickchartButtonEl =\n",
              "        document.querySelector('#df-123280bf-82ec-4d31-87ed-089bcc263d41 button');\n",
              "      quickchartButtonEl.style.display =\n",
              "        google.colab.kernel.accessAllowed ? 'block' : 'none';\n",
              "    })();\n",
              "  </script>\n",
              "</div>\n",
              "\n",
              "    </div>\n",
              "  </div>\n"
            ],
            "application/vnd.google.colaboratory.intrinsic+json": {
              "type": "dataframe",
              "summary": "{\n  \"name\": \"df\",\n  \"rows\": 8,\n  \"fields\": [\n    {\n      \"column\": \"Movie_ID\",\n      \"properties\": {\n        \"dtype\": \"number\",\n        \"std\": 1720.2332807214548,\n        \"min\": 1.0,\n        \"max\": 4788.0,\n        \"num_unique_values\": 8,\n        \"samples\": [\n          2382.5663865546217,\n          2380.5,\n          4760.0\n        ],\n        \"semantic_type\": \"\",\n        \"description\": \"\"\n      }\n    },\n    {\n      \"column\": \"Movie_Budget\",\n      \"properties\": {\n        \"dtype\": \"number\",\n        \"std\": 129145160.11869688,\n        \"min\": 0.0,\n        \"max\": 380000000.0,\n        \"num_unique_values\": 8,\n        \"samples\": [\n          29201287.084033612,\n          15000000.0,\n          4760.0\n        ],\n        \"semantic_type\": \"\",\n        \"description\": \"\"\n      }\n    },\n    {\n      \"column\": \"Movie_Popularity\",\n      \"properties\": {\n        \"dtype\": \"number\",\n        \"std\": 1661.1040447605237,\n        \"min\": 0.000372,\n        \"max\": 4760.0,\n        \"num_unique_values\": 8,\n        \"samples\": [\n          21.599509934663867,\n          13.119057999999999,\n          4760.0\n        ],\n        \"semantic_type\": \"\",\n        \"description\": \"\"\n      }\n    },\n    {\n      \"column\": \"Movie_Revenue\",\n      \"properties\": {\n        \"dtype\": \"number\",\n        \"std\": 969366059.9423022,\n        \"min\": 0.0,\n        \"max\": 2787965087.0,\n        \"num_unique_values\": 7,\n        \"samples\": [\n          4760.0,\n          82637425.44285715,\n          93412759.75\n        ],\n        \"semantic_type\": \"\",\n        \"description\": \"\"\n      }\n    },\n    {\n      \"column\": \"Movie_Runtime\",\n      \"properties\": {\n        \"dtype\": \"number\",\n        \"std\": 1645.7876738678387,\n        \"min\": 0.0,\n        \"max\": 4758.0,\n        \"num_unique_values\": 8,\n        \"samples\": [\n          107.18411097099622,\n          104.0,\n          4758.0\n        ],\n        \"semantic_type\": \"\",\n        \"description\": \"\"\n      }\n    },\n    {\n      \"column\": \"Movie_Vote\",\n      \"properties\": {\n        \"dtype\": \"number\",\n        \"std\": 1681.106199712945,\n        \"min\": 0.0,\n        \"max\": 4760.0,\n        \"num_unique_values\": 8,\n        \"samples\": [\n          6.113865546218487,\n          6.2,\n          4760.0\n        ],\n        \"semantic_type\": \"\",\n        \"description\": \"\"\n      }\n    },\n    {\n      \"column\": \"Movie_Vote_Count\",\n      \"properties\": {\n        \"dtype\": \"number\",\n        \"std\": 4732.148341860835,\n        \"min\": 0.0,\n        \"max\": 13752.0,\n        \"num_unique_values\": 8,\n        \"samples\": [\n          692.5084033613446,\n          238.0,\n          4760.0\n        ],\n        \"semantic_type\": \"\",\n        \"description\": \"\"\n      }\n    }\n  ]\n}"
            }
          },
          "metadata": {},
          "execution_count": 6
        }
      ]
    },
    {
      "cell_type": "code",
      "source": [
        "df.shape"
      ],
      "metadata": {
        "colab": {
          "base_uri": "https://localhost:8080/"
        },
        "id": "rmL5VUheg1X6",
        "outputId": "f8bb176e-366d-432e-cc64-f66b3cf3e36b"
      },
      "execution_count": 7,
      "outputs": [
        {
          "output_type": "execute_result",
          "data": {
            "text/plain": [
              "(4760, 21)"
            ]
          },
          "metadata": {},
          "execution_count": 7
        }
      ]
    },
    {
      "cell_type": "code",
      "source": [
        "df.columns"
      ],
      "metadata": {
        "colab": {
          "base_uri": "https://localhost:8080/"
        },
        "id": "OzOra7oIhBVd",
        "outputId": "8c8e76de-547e-484d-abad-126fc134411f"
      },
      "execution_count": 8,
      "outputs": [
        {
          "output_type": "execute_result",
          "data": {
            "text/plain": [
              "Index(['Movie_ID', 'Movie_Title', 'Movie_Genre', 'Movie_Language',\n",
              "       'Movie_Budget', 'Movie_Popularity', 'Movie_Release_Date',\n",
              "       'Movie_Revenue', 'Movie_Runtime', 'Movie_Vote', 'Movie_Vote_Count',\n",
              "       'Movie_Homepage', 'Movie_Keywords', 'Movie_Overview',\n",
              "       'Movie_Production_House', 'Movie_Production_Country',\n",
              "       'Movie_Spoken_Language', 'Movie_Tagline', 'Movie_Cast', 'Movie_Crew',\n",
              "       'Movie_Director'],\n",
              "      dtype='object')"
            ]
          },
          "metadata": {},
          "execution_count": 8
        }
      ]
    },
    {
      "cell_type": "code",
      "source": [
        "df_features = df[['Movie_Genre','Movie_Keywords','Movie_Tagline','Movie_Cast','Movie_Director']].fillna('')"
      ],
      "metadata": {
        "id": "c7zRLQKniqIy"
      },
      "execution_count": 9,
      "outputs": []
    },
    {
      "cell_type": "code",
      "source": [
        "df_features.shape"
      ],
      "metadata": {
        "colab": {
          "base_uri": "https://localhost:8080/"
        },
        "id": "YyXywdFshF-l",
        "outputId": "9897627a-c631-401c-884d-719163739193"
      },
      "execution_count": 10,
      "outputs": [
        {
          "output_type": "execute_result",
          "data": {
            "text/plain": [
              "(4760, 5)"
            ]
          },
          "metadata": {},
          "execution_count": 10
        }
      ]
    },
    {
      "cell_type": "code",
      "source": [
        "df_features"
      ],
      "metadata": {
        "colab": {
          "base_uri": "https://localhost:8080/",
          "height": 493
        },
        "id": "wTkwq35ti35l",
        "outputId": "064c6c23-fb49-4f33-a9b2-3e6191143780"
      },
      "execution_count": 11,
      "outputs": [
        {
          "output_type": "execute_result",
          "data": {
            "text/plain": [
              "                           Movie_Genre  \\\n",
              "0                         Crime Comedy   \n",
              "1     Adventure Action Science Fiction   \n",
              "2                     Animation Family   \n",
              "3                 Comedy Drama Romance   \n",
              "4                                Drama   \n",
              "...                                ...   \n",
              "4755                            Horror   \n",
              "4756               Comedy Family Drama   \n",
              "4757                    Thriller Drama   \n",
              "4758                            Family   \n",
              "4759                       Documentary   \n",
              "\n",
              "                                         Movie_Keywords  \\\n",
              "0             hotel new year's eve witch bet hotel room   \n",
              "1           android galaxy hermit death star lightsaber   \n",
              "2     father son relationship harbor underwater fish...   \n",
              "3     vietnam veteran hippie mentally disabled runni...   \n",
              "4     male nudity female nudity adultery midlife cri...   \n",
              "...                                                 ...   \n",
              "4755                                                      \n",
              "4756                                                      \n",
              "4757                     christian film sex trafficking   \n",
              "4758                                                      \n",
              "4759  music actors legendary perfomer classic hollyw...   \n",
              "\n",
              "                                          Movie_Tagline  \\\n",
              "0     Twelve outrageous guests. Four scandalous requ...   \n",
              "1          A long time ago in a galaxy far, far away...   \n",
              "2     There are 3.7 trillion fish in the ocean, they...   \n",
              "3     The world will never be the same, once you've ...   \n",
              "4                                          Look closer.   \n",
              "...                                                 ...   \n",
              "4755                The hot spot where Satan's waitin'.   \n",
              "4756           It’s better to stand out than to fit in.   \n",
              "4757           She never knew it could happen to her...   \n",
              "4758                                                      \n",
              "4759                                                      \n",
              "\n",
              "                                             Movie_Cast     Movie_Director  \n",
              "0     Tim Roth Antonio Banderas Jennifer Beals Madon...     Allison Anders  \n",
              "1     Mark Hamill Harrison Ford Carrie Fisher Peter ...       George Lucas  \n",
              "2     Albert Brooks Ellen DeGeneres Alexander Gould ...     Andrew Stanton  \n",
              "3     Tom Hanks Robin Wright Gary Sinise Mykelti Wil...    Robert Zemeckis  \n",
              "4     Kevin Spacey Annette Bening Thora Birch Wes Be...         Sam Mendes  \n",
              "...                                                 ...                ...  \n",
              "4755  Lisa Hart Carroll Michael Des Barres Paul Drak...         Pece Dingo  \n",
              "4756  Roni Akurati Brighton Sharbino Jason Lee Anjul...       Frank Lotito  \n",
              "4757  Nicole Smolen Kim Baldwin Ariana Stephens Brys...       Jaco Booyens  \n",
              "4758                                                                        \n",
              "4759                                    Tony Oppedisano  Simon Napier-Bell  \n",
              "\n",
              "[4760 rows x 5 columns]"
            ],
            "text/html": [
              "\n",
              "  <div id=\"df-0b4bdddf-ff44-42b6-86a6-f19d35b0aab3\" class=\"colab-df-container\">\n",
              "    <div>\n",
              "<style scoped>\n",
              "    .dataframe tbody tr th:only-of-type {\n",
              "        vertical-align: middle;\n",
              "    }\n",
              "\n",
              "    .dataframe tbody tr th {\n",
              "        vertical-align: top;\n",
              "    }\n",
              "\n",
              "    .dataframe thead th {\n",
              "        text-align: right;\n",
              "    }\n",
              "</style>\n",
              "<table border=\"1\" class=\"dataframe\">\n",
              "  <thead>\n",
              "    <tr style=\"text-align: right;\">\n",
              "      <th></th>\n",
              "      <th>Movie_Genre</th>\n",
              "      <th>Movie_Keywords</th>\n",
              "      <th>Movie_Tagline</th>\n",
              "      <th>Movie_Cast</th>\n",
              "      <th>Movie_Director</th>\n",
              "    </tr>\n",
              "  </thead>\n",
              "  <tbody>\n",
              "    <tr>\n",
              "      <th>0</th>\n",
              "      <td>Crime Comedy</td>\n",
              "      <td>hotel new year's eve witch bet hotel room</td>\n",
              "      <td>Twelve outrageous guests. Four scandalous requ...</td>\n",
              "      <td>Tim Roth Antonio Banderas Jennifer Beals Madon...</td>\n",
              "      <td>Allison Anders</td>\n",
              "    </tr>\n",
              "    <tr>\n",
              "      <th>1</th>\n",
              "      <td>Adventure Action Science Fiction</td>\n",
              "      <td>android galaxy hermit death star lightsaber</td>\n",
              "      <td>A long time ago in a galaxy far, far away...</td>\n",
              "      <td>Mark Hamill Harrison Ford Carrie Fisher Peter ...</td>\n",
              "      <td>George Lucas</td>\n",
              "    </tr>\n",
              "    <tr>\n",
              "      <th>2</th>\n",
              "      <td>Animation Family</td>\n",
              "      <td>father son relationship harbor underwater fish...</td>\n",
              "      <td>There are 3.7 trillion fish in the ocean, they...</td>\n",
              "      <td>Albert Brooks Ellen DeGeneres Alexander Gould ...</td>\n",
              "      <td>Andrew Stanton</td>\n",
              "    </tr>\n",
              "    <tr>\n",
              "      <th>3</th>\n",
              "      <td>Comedy Drama Romance</td>\n",
              "      <td>vietnam veteran hippie mentally disabled runni...</td>\n",
              "      <td>The world will never be the same, once you've ...</td>\n",
              "      <td>Tom Hanks Robin Wright Gary Sinise Mykelti Wil...</td>\n",
              "      <td>Robert Zemeckis</td>\n",
              "    </tr>\n",
              "    <tr>\n",
              "      <th>4</th>\n",
              "      <td>Drama</td>\n",
              "      <td>male nudity female nudity adultery midlife cri...</td>\n",
              "      <td>Look closer.</td>\n",
              "      <td>Kevin Spacey Annette Bening Thora Birch Wes Be...</td>\n",
              "      <td>Sam Mendes</td>\n",
              "    </tr>\n",
              "    <tr>\n",
              "      <th>...</th>\n",
              "      <td>...</td>\n",
              "      <td>...</td>\n",
              "      <td>...</td>\n",
              "      <td>...</td>\n",
              "      <td>...</td>\n",
              "    </tr>\n",
              "    <tr>\n",
              "      <th>4755</th>\n",
              "      <td>Horror</td>\n",
              "      <td></td>\n",
              "      <td>The hot spot where Satan's waitin'.</td>\n",
              "      <td>Lisa Hart Carroll Michael Des Barres Paul Drak...</td>\n",
              "      <td>Pece Dingo</td>\n",
              "    </tr>\n",
              "    <tr>\n",
              "      <th>4756</th>\n",
              "      <td>Comedy Family Drama</td>\n",
              "      <td></td>\n",
              "      <td>It’s better to stand out than to fit in.</td>\n",
              "      <td>Roni Akurati Brighton Sharbino Jason Lee Anjul...</td>\n",
              "      <td>Frank Lotito</td>\n",
              "    </tr>\n",
              "    <tr>\n",
              "      <th>4757</th>\n",
              "      <td>Thriller Drama</td>\n",
              "      <td>christian film sex trafficking</td>\n",
              "      <td>She never knew it could happen to her...</td>\n",
              "      <td>Nicole Smolen Kim Baldwin Ariana Stephens Brys...</td>\n",
              "      <td>Jaco Booyens</td>\n",
              "    </tr>\n",
              "    <tr>\n",
              "      <th>4758</th>\n",
              "      <td>Family</td>\n",
              "      <td></td>\n",
              "      <td></td>\n",
              "      <td></td>\n",
              "      <td></td>\n",
              "    </tr>\n",
              "    <tr>\n",
              "      <th>4759</th>\n",
              "      <td>Documentary</td>\n",
              "      <td>music actors legendary perfomer classic hollyw...</td>\n",
              "      <td></td>\n",
              "      <td>Tony Oppedisano</td>\n",
              "      <td>Simon Napier-Bell</td>\n",
              "    </tr>\n",
              "  </tbody>\n",
              "</table>\n",
              "<p>4760 rows × 5 columns</p>\n",
              "</div>\n",
              "    <div class=\"colab-df-buttons\">\n",
              "\n",
              "  <div class=\"colab-df-container\">\n",
              "    <button class=\"colab-df-convert\" onclick=\"convertToInteractive('df-0b4bdddf-ff44-42b6-86a6-f19d35b0aab3')\"\n",
              "            title=\"Convert this dataframe to an interactive table.\"\n",
              "            style=\"display:none;\">\n",
              "\n",
              "  <svg xmlns=\"http://www.w3.org/2000/svg\" height=\"24px\" viewBox=\"0 -960 960 960\">\n",
              "    <path d=\"M120-120v-720h720v720H120Zm60-500h600v-160H180v160Zm220 220h160v-160H400v160Zm0 220h160v-160H400v160ZM180-400h160v-160H180v160Zm440 0h160v-160H620v160ZM180-180h160v-160H180v160Zm440 0h160v-160H620v160Z\"/>\n",
              "  </svg>\n",
              "    </button>\n",
              "\n",
              "  <style>\n",
              "    .colab-df-container {\n",
              "      display:flex;\n",
              "      gap: 12px;\n",
              "    }\n",
              "\n",
              "    .colab-df-convert {\n",
              "      background-color: #E8F0FE;\n",
              "      border: none;\n",
              "      border-radius: 50%;\n",
              "      cursor: pointer;\n",
              "      display: none;\n",
              "      fill: #1967D2;\n",
              "      height: 32px;\n",
              "      padding: 0 0 0 0;\n",
              "      width: 32px;\n",
              "    }\n",
              "\n",
              "    .colab-df-convert:hover {\n",
              "      background-color: #E2EBFA;\n",
              "      box-shadow: 0px 1px 2px rgba(60, 64, 67, 0.3), 0px 1px 3px 1px rgba(60, 64, 67, 0.15);\n",
              "      fill: #174EA6;\n",
              "    }\n",
              "\n",
              "    .colab-df-buttons div {\n",
              "      margin-bottom: 4px;\n",
              "    }\n",
              "\n",
              "    [theme=dark] .colab-df-convert {\n",
              "      background-color: #3B4455;\n",
              "      fill: #D2E3FC;\n",
              "    }\n",
              "\n",
              "    [theme=dark] .colab-df-convert:hover {\n",
              "      background-color: #434B5C;\n",
              "      box-shadow: 0px 1px 3px 1px rgba(0, 0, 0, 0.15);\n",
              "      filter: drop-shadow(0px 1px 2px rgba(0, 0, 0, 0.3));\n",
              "      fill: #FFFFFF;\n",
              "    }\n",
              "  </style>\n",
              "\n",
              "    <script>\n",
              "      const buttonEl =\n",
              "        document.querySelector('#df-0b4bdddf-ff44-42b6-86a6-f19d35b0aab3 button.colab-df-convert');\n",
              "      buttonEl.style.display =\n",
              "        google.colab.kernel.accessAllowed ? 'block' : 'none';\n",
              "\n",
              "      async function convertToInteractive(key) {\n",
              "        const element = document.querySelector('#df-0b4bdddf-ff44-42b6-86a6-f19d35b0aab3');\n",
              "        const dataTable =\n",
              "          await google.colab.kernel.invokeFunction('convertToInteractive',\n",
              "                                                    [key], {});\n",
              "        if (!dataTable) return;\n",
              "\n",
              "        const docLinkHtml = 'Like what you see? Visit the ' +\n",
              "          '<a target=\"_blank\" href=https://colab.research.google.com/notebooks/data_table.ipynb>data table notebook</a>'\n",
              "          + ' to learn more about interactive tables.';\n",
              "        element.innerHTML = '';\n",
              "        dataTable['output_type'] = 'display_data';\n",
              "        await google.colab.output.renderOutput(dataTable, element);\n",
              "        const docLink = document.createElement('div');\n",
              "        docLink.innerHTML = docLinkHtml;\n",
              "        element.appendChild(docLink);\n",
              "      }\n",
              "    </script>\n",
              "  </div>\n",
              "\n",
              "\n",
              "<div id=\"df-c2cc58dc-b4c3-4e47-be13-f76fa1658a9d\">\n",
              "  <button class=\"colab-df-quickchart\" onclick=\"quickchart('df-c2cc58dc-b4c3-4e47-be13-f76fa1658a9d')\"\n",
              "            title=\"Suggest charts\"\n",
              "            style=\"display:none;\">\n",
              "\n",
              "<svg xmlns=\"http://www.w3.org/2000/svg\" height=\"24px\"viewBox=\"0 0 24 24\"\n",
              "     width=\"24px\">\n",
              "    <g>\n",
              "        <path d=\"M19 3H5c-1.1 0-2 .9-2 2v14c0 1.1.9 2 2 2h14c1.1 0 2-.9 2-2V5c0-1.1-.9-2-2-2zM9 17H7v-7h2v7zm4 0h-2V7h2v10zm4 0h-2v-4h2v4z\"/>\n",
              "    </g>\n",
              "</svg>\n",
              "  </button>\n",
              "\n",
              "<style>\n",
              "  .colab-df-quickchart {\n",
              "      --bg-color: #E8F0FE;\n",
              "      --fill-color: #1967D2;\n",
              "      --hover-bg-color: #E2EBFA;\n",
              "      --hover-fill-color: #174EA6;\n",
              "      --disabled-fill-color: #AAA;\n",
              "      --disabled-bg-color: #DDD;\n",
              "  }\n",
              "\n",
              "  [theme=dark] .colab-df-quickchart {\n",
              "      --bg-color: #3B4455;\n",
              "      --fill-color: #D2E3FC;\n",
              "      --hover-bg-color: #434B5C;\n",
              "      --hover-fill-color: #FFFFFF;\n",
              "      --disabled-bg-color: #3B4455;\n",
              "      --disabled-fill-color: #666;\n",
              "  }\n",
              "\n",
              "  .colab-df-quickchart {\n",
              "    background-color: var(--bg-color);\n",
              "    border: none;\n",
              "    border-radius: 50%;\n",
              "    cursor: pointer;\n",
              "    display: none;\n",
              "    fill: var(--fill-color);\n",
              "    height: 32px;\n",
              "    padding: 0;\n",
              "    width: 32px;\n",
              "  }\n",
              "\n",
              "  .colab-df-quickchart:hover {\n",
              "    background-color: var(--hover-bg-color);\n",
              "    box-shadow: 0 1px 2px rgba(60, 64, 67, 0.3), 0 1px 3px 1px rgba(60, 64, 67, 0.15);\n",
              "    fill: var(--button-hover-fill-color);\n",
              "  }\n",
              "\n",
              "  .colab-df-quickchart-complete:disabled,\n",
              "  .colab-df-quickchart-complete:disabled:hover {\n",
              "    background-color: var(--disabled-bg-color);\n",
              "    fill: var(--disabled-fill-color);\n",
              "    box-shadow: none;\n",
              "  }\n",
              "\n",
              "  .colab-df-spinner {\n",
              "    border: 2px solid var(--fill-color);\n",
              "    border-color: transparent;\n",
              "    border-bottom-color: var(--fill-color);\n",
              "    animation:\n",
              "      spin 1s steps(1) infinite;\n",
              "  }\n",
              "\n",
              "  @keyframes spin {\n",
              "    0% {\n",
              "      border-color: transparent;\n",
              "      border-bottom-color: var(--fill-color);\n",
              "      border-left-color: var(--fill-color);\n",
              "    }\n",
              "    20% {\n",
              "      border-color: transparent;\n",
              "      border-left-color: var(--fill-color);\n",
              "      border-top-color: var(--fill-color);\n",
              "    }\n",
              "    30% {\n",
              "      border-color: transparent;\n",
              "      border-left-color: var(--fill-color);\n",
              "      border-top-color: var(--fill-color);\n",
              "      border-right-color: var(--fill-color);\n",
              "    }\n",
              "    40% {\n",
              "      border-color: transparent;\n",
              "      border-right-color: var(--fill-color);\n",
              "      border-top-color: var(--fill-color);\n",
              "    }\n",
              "    60% {\n",
              "      border-color: transparent;\n",
              "      border-right-color: var(--fill-color);\n",
              "    }\n",
              "    80% {\n",
              "      border-color: transparent;\n",
              "      border-right-color: var(--fill-color);\n",
              "      border-bottom-color: var(--fill-color);\n",
              "    }\n",
              "    90% {\n",
              "      border-color: transparent;\n",
              "      border-bottom-color: var(--fill-color);\n",
              "    }\n",
              "  }\n",
              "</style>\n",
              "\n",
              "  <script>\n",
              "    async function quickchart(key) {\n",
              "      const quickchartButtonEl =\n",
              "        document.querySelector('#' + key + ' button');\n",
              "      quickchartButtonEl.disabled = true;  // To prevent multiple clicks.\n",
              "      quickchartButtonEl.classList.add('colab-df-spinner');\n",
              "      try {\n",
              "        const charts = await google.colab.kernel.invokeFunction(\n",
              "            'suggestCharts', [key], {});\n",
              "      } catch (error) {\n",
              "        console.error('Error during call to suggestCharts:', error);\n",
              "      }\n",
              "      quickchartButtonEl.classList.remove('colab-df-spinner');\n",
              "      quickchartButtonEl.classList.add('colab-df-quickchart-complete');\n",
              "    }\n",
              "    (() => {\n",
              "      let quickchartButtonEl =\n",
              "        document.querySelector('#df-c2cc58dc-b4c3-4e47-be13-f76fa1658a9d button');\n",
              "      quickchartButtonEl.style.display =\n",
              "        google.colab.kernel.accessAllowed ? 'block' : 'none';\n",
              "    })();\n",
              "  </script>\n",
              "</div>\n",
              "\n",
              "  <div id=\"id_ab523087-a0d8-4e4a-b7c1-9eae6e7e29c1\">\n",
              "    <style>\n",
              "      .colab-df-generate {\n",
              "        background-color: #E8F0FE;\n",
              "        border: none;\n",
              "        border-radius: 50%;\n",
              "        cursor: pointer;\n",
              "        display: none;\n",
              "        fill: #1967D2;\n",
              "        height: 32px;\n",
              "        padding: 0 0 0 0;\n",
              "        width: 32px;\n",
              "      }\n",
              "\n",
              "      .colab-df-generate:hover {\n",
              "        background-color: #E2EBFA;\n",
              "        box-shadow: 0px 1px 2px rgba(60, 64, 67, 0.3), 0px 1px 3px 1px rgba(60, 64, 67, 0.15);\n",
              "        fill: #174EA6;\n",
              "      }\n",
              "\n",
              "      [theme=dark] .colab-df-generate {\n",
              "        background-color: #3B4455;\n",
              "        fill: #D2E3FC;\n",
              "      }\n",
              "\n",
              "      [theme=dark] .colab-df-generate:hover {\n",
              "        background-color: #434B5C;\n",
              "        box-shadow: 0px 1px 3px 1px rgba(0, 0, 0, 0.15);\n",
              "        filter: drop-shadow(0px 1px 2px rgba(0, 0, 0, 0.3));\n",
              "        fill: #FFFFFF;\n",
              "      }\n",
              "    </style>\n",
              "    <button class=\"colab-df-generate\" onclick=\"generateWithVariable('df_features')\"\n",
              "            title=\"Generate code using this dataframe.\"\n",
              "            style=\"display:none;\">\n",
              "\n",
              "  <svg xmlns=\"http://www.w3.org/2000/svg\" height=\"24px\"viewBox=\"0 0 24 24\"\n",
              "       width=\"24px\">\n",
              "    <path d=\"M7,19H8.4L18.45,9,17,7.55,7,17.6ZM5,21V16.75L18.45,3.32a2,2,0,0,1,2.83,0l1.4,1.43a1.91,1.91,0,0,1,.58,1.4,1.91,1.91,0,0,1-.58,1.4L9.25,21ZM18.45,9,17,7.55Zm-12,3A5.31,5.31,0,0,0,4.9,8.1,5.31,5.31,0,0,0,1,6.5,5.31,5.31,0,0,0,4.9,4.9,5.31,5.31,0,0,0,6.5,1,5.31,5.31,0,0,0,8.1,4.9,5.31,5.31,0,0,0,12,6.5,5.46,5.46,0,0,0,6.5,12Z\"/>\n",
              "  </svg>\n",
              "    </button>\n",
              "    <script>\n",
              "      (() => {\n",
              "      const buttonEl =\n",
              "        document.querySelector('#id_ab523087-a0d8-4e4a-b7c1-9eae6e7e29c1 button.colab-df-generate');\n",
              "      buttonEl.style.display =\n",
              "        google.colab.kernel.accessAllowed ? 'block' : 'none';\n",
              "\n",
              "      buttonEl.onclick = () => {\n",
              "        google.colab.notebook.generateWithVariable('df_features');\n",
              "      }\n",
              "      })();\n",
              "    </script>\n",
              "  </div>\n",
              "\n",
              "    </div>\n",
              "  </div>\n"
            ],
            "application/vnd.google.colaboratory.intrinsic+json": {
              "type": "dataframe",
              "variable_name": "df_features",
              "summary": "{\n  \"name\": \"df_features\",\n  \"rows\": 4760,\n  \"fields\": [\n    {\n      \"column\": \"Movie_Genre\",\n      \"properties\": {\n        \"dtype\": \"category\",\n        \"num_unique_values\": 1164,\n        \"samples\": [\n          \"Family Animation Adventure\",\n          \"Adventure Science Fiction Action\",\n          \"Action Crime Drama Romance Thriller\"\n        ],\n        \"semantic_type\": \"\",\n        \"description\": \"\"\n      }\n    },\n    {\n      \"column\": \"Movie_Keywords\",\n      \"properties\": {\n        \"dtype\": \"string\",\n        \"num_unique_values\": 4203,\n        \"samples\": [\n          \"canada nazis sequel spin off ancient evil\",\n          \"sex professor wedding woman director columbia university\",\n          \"prophecy sea beach gold small town\"\n        ],\n        \"semantic_type\": \"\",\n        \"description\": \"\"\n      }\n    },\n    {\n      \"column\": \"Movie_Tagline\",\n      \"properties\": {\n        \"dtype\": \"string\",\n        \"num_unique_values\": 3928,\n        \"samples\": [\n          \"The messenger must be silenced.\",\n          \"It's not the house that's haunted.\",\n          \"The final hunt begins.\"\n        ],\n        \"semantic_type\": \"\",\n        \"description\": \"\"\n      }\n    },\n    {\n      \"column\": \"Movie_Cast\",\n      \"properties\": {\n        \"dtype\": \"string\",\n        \"num_unique_values\": 4715,\n        \"samples\": [\n          \"Robin Tunney Fairuza Balk Neve Campbell Rachel True Skeet Ulrich\",\n          \"Peter Sellers Christopher Plummer Herbert Lom Catherine Schell Peter Arne\",\n          \"John Wayne Laraine Day Cedric Hardwicke Judith Anderson Anthony Quinn\"\n        ],\n        \"semantic_type\": \"\",\n        \"description\": \"\"\n      }\n    },\n    {\n      \"column\": \"Movie_Director\",\n      \"properties\": {\n        \"dtype\": \"category\",\n        \"num_unique_values\": 2332,\n        \"samples\": [\n          \"Rob McKittrick\",\n          \"Terron R. Parsons\",\n          \"Cyrus Nowrasteh\"\n        ],\n        \"semantic_type\": \"\",\n        \"description\": \"\"\n      }\n    }\n  ]\n}"
            }
          },
          "metadata": {},
          "execution_count": 11
        }
      ]
    },
    {
      "cell_type": "code",
      "source": [
        "X = df_features['Movie_Genre']+ ' ' + df_features['Movie_Keywords']+ ' ' + df_features['Movie_Tagline']+ ' ' + df_features['Movie_Cast']+ ' ' + df_features['Movie_Director']"
      ],
      "metadata": {
        "id": "w9UbHarqi5bU"
      },
      "execution_count": 12,
      "outputs": []
    },
    {
      "cell_type": "code",
      "source": [
        "\n",
        "X"
      ],
      "metadata": {
        "colab": {
          "base_uri": "https://localhost:8080/"
        },
        "id": "2pJQMJq4j1p-",
        "outputId": "3d487d80-c81f-4918-d2a7-837ac16ed794"
      },
      "execution_count": 13,
      "outputs": [
        {
          "output_type": "execute_result",
          "data": {
            "text/plain": [
              "0       Crime Comedy hotel new year's eve witch bet ho...\n",
              "1       Adventure Action Science Fiction android galax...\n",
              "2       Animation Family father son relationship harbo...\n",
              "3       Comedy Drama Romance vietnam veteran hippie me...\n",
              "4       Drama male nudity female nudity adultery midli...\n",
              "                              ...                        \n",
              "4755    Horror  The hot spot where Satan's waitin'. Li...\n",
              "4756    Comedy Family Drama  It’s better to stand out ...\n",
              "4757    Thriller Drama christian film sex trafficking ...\n",
              "4758                                           Family    \n",
              "4759    Documentary music actors legendary perfomer cl...\n",
              "Length: 4760, dtype: object"
            ]
          },
          "metadata": {},
          "execution_count": 13
        }
      ]
    },
    {
      "cell_type": "code",
      "source": [
        "X.shape\n"
      ],
      "metadata": {
        "colab": {
          "base_uri": "https://localhost:8080/"
        },
        "id": "ZHKOTbcdj3Ov",
        "outputId": "36d0490a-5b75-4652-9a4b-478de261fe13"
      },
      "execution_count": 14,
      "outputs": [
        {
          "output_type": "execute_result",
          "data": {
            "text/plain": [
              "(4760,)"
            ]
          },
          "metadata": {},
          "execution_count": 14
        }
      ]
    },
    {
      "cell_type": "code",
      "source": [
        "from sklearn.feature_extraction.text import TfidfVectorizer"
      ],
      "metadata": {
        "id": "OMNyAFXnkDfj"
      },
      "execution_count": 15,
      "outputs": []
    },
    {
      "cell_type": "code",
      "source": [
        "tfidf = TfidfVectorizer()"
      ],
      "metadata": {
        "id": "DA7grWmJk39n"
      },
      "execution_count": 16,
      "outputs": []
    },
    {
      "cell_type": "code",
      "source": [
        "X = tfidf.fit_transform(X)"
      ],
      "metadata": {
        "id": "JcZ_H7QElJx0"
      },
      "execution_count": 17,
      "outputs": []
    },
    {
      "cell_type": "code",
      "source": [
        "X.shape"
      ],
      "metadata": {
        "colab": {
          "base_uri": "https://localhost:8080/"
        },
        "id": "ttrH3mqVlUuN",
        "outputId": "2cdc003e-e03c-48ae-ef93-afa16cc30398"
      },
      "execution_count": 18,
      "outputs": [
        {
          "output_type": "execute_result",
          "data": {
            "text/plain": [
              "(4760, 17258)"
            ]
          },
          "metadata": {},
          "execution_count": 18
        }
      ]
    },
    {
      "cell_type": "code",
      "source": [
        "print(X)"
      ],
      "metadata": {
        "colab": {
          "base_uri": "https://localhost:8080/"
        },
        "id": "p17_ulD8lXvu",
        "outputId": "c3a69c47-978a-4663-9522-16b15ad932d8"
      },
      "execution_count": 19,
      "outputs": [
        {
          "output_type": "stream",
          "name": "stdout",
          "text": [
            "  (0, 617)\t0.1633382144407513\n",
            "  (0, 492)\t0.1432591540388685\n",
            "  (0, 15413)\t0.1465525095337543\n",
            "  (0, 9675)\t0.14226057295252661\n",
            "  (0, 9465)\t0.1659841367820977\n",
            "  (0, 1390)\t0.16898383612799558\n",
            "  (0, 7825)\t0.09799561597509843\n",
            "  (0, 1214)\t0.13865857545144072\n",
            "  (0, 729)\t0.13415063359531618\n",
            "  (0, 13093)\t0.1432591540388685\n",
            "  (0, 15355)\t0.10477815972666779\n",
            "  (0, 9048)\t0.0866842116160778\n",
            "  (0, 11161)\t0.06250380151644369\n",
            "  (0, 16773)\t0.17654247479915475\n",
            "  (0, 5612)\t0.08603537588547631\n",
            "  (0, 16735)\t0.10690083751525419\n",
            "  (0, 7904)\t0.13348000542112332\n",
            "  (0, 15219)\t0.09800472886453934\n",
            "  (0, 11242)\t0.07277788238484746\n",
            "  (0, 3878)\t0.11998399582562203\n",
            "  (0, 5499)\t0.11454057510303811\n",
            "  (0, 7071)\t0.19822417598406614\n",
            "  (0, 7454)\t0.14745635785412262\n",
            "  (0, 1495)\t0.19712637387361423\n",
            "  (0, 9206)\t0.15186283580984414\n",
            "  :\t:\n",
            "  (4757, 5455)\t0.12491480594769522\n",
            "  (4757, 2967)\t0.16273475835631626\n",
            "  (4757, 8464)\t0.23522565554066333\n",
            "  (4757, 6938)\t0.17088173678136628\n",
            "  (4757, 8379)\t0.17480603856721913\n",
            "  (4757, 15303)\t0.07654356007668191\n",
            "  (4757, 15384)\t0.09754322497537371\n",
            "  (4757, 7649)\t0.11479421494340192\n",
            "  (4757, 10896)\t0.14546473055066447\n",
            "  (4757, 4494)\t0.05675298448720501\n",
            "  (4758, 5238)\t1.0\n",
            "  (4759, 11264)\t0.33947721804318337\n",
            "  (4759, 11708)\t0.33947721804318337\n",
            "  (4759, 205)\t0.3237911628497312\n",
            "  (4759, 8902)\t0.3040290704566037\n",
            "  (4759, 14062)\t0.3237911628497312\n",
            "  (4759, 3058)\t0.2812896191863103\n",
            "  (4759, 7130)\t0.26419662449963793\n",
            "  (4759, 10761)\t0.3126617295732147\n",
            "  (4759, 4358)\t0.18306542312175342\n",
            "  (4759, 14051)\t0.20084315377640435\n",
            "  (4759, 5690)\t0.19534291014627303\n",
            "  (4759, 15431)\t0.19628653185946862\n",
            "  (4759, 1490)\t0.21197258705292082\n",
            "  (4759, 10666)\t0.15888268987343043\n"
          ]
        }
      ]
    },
    {
      "cell_type": "code",
      "source": [
        "from sklearn.metrics.pairwise import cosine_similarity"
      ],
      "metadata": {
        "id": "-Sq6ufwNlZXR"
      },
      "execution_count": 20,
      "outputs": []
    },
    {
      "cell_type": "code",
      "source": [
        "Similarity_Score =cosine_similarity(X)"
      ],
      "metadata": {
        "id": "tlG0TxKcmJFY"
      },
      "execution_count": 21,
      "outputs": []
    },
    {
      "cell_type": "code",
      "source": [
        "Similarity_Score"
      ],
      "metadata": {
        "colab": {
          "base_uri": "https://localhost:8080/"
        },
        "id": "CbKGdmr5mn6-",
        "outputId": "0708dcc4-d2c9-42e8-fcd4-8e9fce31f0dd"
      },
      "execution_count": 22,
      "outputs": [
        {
          "output_type": "execute_result",
          "data": {
            "text/plain": [
              "array([[1.        , 0.01351235, 0.03570468, ..., 0.        , 0.        ,\n",
              "        0.        ],\n",
              "       [0.01351235, 1.        , 0.00806674, ..., 0.        , 0.        ,\n",
              "        0.        ],\n",
              "       [0.03570468, 0.00806674, 1.        , ..., 0.        , 0.08014876,\n",
              "        0.        ],\n",
              "       ...,\n",
              "       [0.        , 0.        , 0.        , ..., 1.        , 0.        ,\n",
              "        0.        ],\n",
              "       [0.        , 0.        , 0.08014876, ..., 0.        , 1.        ,\n",
              "        0.        ],\n",
              "       [0.        , 0.        , 0.        , ..., 0.        , 0.        ,\n",
              "        1.        ]])"
            ]
          },
          "metadata": {},
          "execution_count": 22
        }
      ]
    },
    {
      "cell_type": "code",
      "source": [
        "Similarity_Score.shape"
      ],
      "metadata": {
        "colab": {
          "base_uri": "https://localhost:8080/"
        },
        "id": "jctqMhmkmtGf",
        "outputId": "dea9e4e9-417f-470a-fa13-910c5ac13148"
      },
      "execution_count": 23,
      "outputs": [
        {
          "output_type": "execute_result",
          "data": {
            "text/plain": [
              "(4760, 4760)"
            ]
          },
          "metadata": {},
          "execution_count": 23
        }
      ]
    },
    {
      "cell_type": "code",
      "source": [
        "fav_movie_name = input('Enter your favourite movie name:')"
      ],
      "metadata": {
        "id": "cM04KQa_nIP9",
        "colab": {
          "base_uri": "https://localhost:8080/"
        },
        "outputId": "0bc8f1da-92c6-4685-8e4b-b68d82735c91"
      },
      "execution_count": 27,
      "outputs": [
        {
          "name": "stdout",
          "output_type": "stream",
          "text": [
            "Enter your favourite movie name:quantumania\n"
          ]
        }
      ]
    },
    {
      "cell_type": "code",
      "source": [
        "All_Movie_title_list = df['Movie_Title'].tolist()"
      ],
      "metadata": {
        "id": "hprfZAn0nqF_"
      },
      "execution_count": 28,
      "outputs": []
    },
    {
      "cell_type": "code",
      "source": [
        "import difflib"
      ],
      "metadata": {
        "id": "OcRnPQF9n-RH"
      },
      "execution_count": 29,
      "outputs": []
    },
    {
      "cell_type": "code",
      "source": [
        "Movie_Recomendation = difflib.get_close_matches(fav_movie_name,All_Movie_title_list)\n",
        "print(Movie_Recomendation)"
      ],
      "metadata": {
        "colab": {
          "base_uri": "https://localhost:8080/"
        },
        "id": "75_RztpHo1cb",
        "outputId": "01d3ff02-5193-4b9e-baaa-37e2808cc67f"
      },
      "execution_count": 30,
      "outputs": [
        {
          "output_type": "stream",
          "name": "stdout",
          "text": [
            "['Fantasia']\n"
          ]
        }
      ]
    },
    {
      "cell_type": "code",
      "source": [
        "Close_match = Movie_Recomendation[0]\n",
        "print(Close_match)"
      ],
      "metadata": {
        "colab": {
          "base_uri": "https://localhost:8080/"
        },
        "id": "_i1pub5npV6r",
        "outputId": "97f79f2f-46b0-4e03-83e6-dce60c37e9db"
      },
      "execution_count": 31,
      "outputs": [
        {
          "output_type": "stream",
          "name": "stdout",
          "text": [
            "Fantasia\n"
          ]
        }
      ]
    },
    {
      "cell_type": "code",
      "source": [
        "Index_of_Close_Match_Movie = df[df.Movie_Title == Close_match]['Movie_ID'].values[0]\n",
        "print(Index_of_Close_Match_Movie)"
      ],
      "metadata": {
        "id": "_m-XjNqArMRD",
        "colab": {
          "base_uri": "https://localhost:8080/"
        },
        "outputId": "ea6e1e8b-0c3c-4c7e-cd38-3cf8f2fc0163"
      },
      "execution_count": 32,
      "outputs": [
        {
          "output_type": "stream",
          "name": "stdout",
          "text": [
            "336\n"
          ]
        }
      ]
    },
    {
      "cell_type": "code",
      "source": [
        "Recomendation_score = list(enumerate(Similarity_Score[Index_of_Close_Match_Movie]))\n",
        "print(Recomendation_score)"
      ],
      "metadata": {
        "id": "RWgO9AoRscJi",
        "colab": {
          "base_uri": "https://localhost:8080/"
        },
        "outputId": "3c6bdaaa-cbd0-473c-9b09-0077c92c494d"
      },
      "execution_count": 37,
      "outputs": [
        {
          "output_type": "stream",
          "name": "stdout",
          "text": [
            "[(0, 0.02817250317034438), (1, 0.004815540132146866), (2, 0.01385799719505456), (3, 0.05151651443531151), (4, 0.0), (5, 0.0), (6, 0.021825923936134018), (7, 0.03673152448689872), (8, 0.008808977020087674), (9, 0.023739141591647753), (10, 0.0071071376360196704), (11, 0.006906150743188671), (12, 0.02988723299968647), (13, 0.03671928279467694), (14, 0.016129216346589544), (15, 0.053095183584509646), (16, 0.0), (17, 0.021548768898387336), (18, 0.00639494841588903), (19, 0.023463772447372862), (20, 0.03774464762177405), (21, 0.0), (22, 0.16469593616427958), (23, 0.007010474365593132), (24, 0.02287295154744971), (25, 0.03133149866223261), (26, 0.017399771003598647), (27, 0.0056003937419861925), (28, 0.017952883293347953), (29, 0.04085887667918026), (30, 0.017919673520437385), (31, 0.019274171395314295), (32, 0.02491330063061326), (33, 0.014273036908029627), (34, 0.0), (35, 0.07028068064605628), (36, 0.022934450743880126), (37, 0.12965080568436715), (38, 0.026406314241139844), (39, 0.018806486635048518), (40, 0.016978034416769972), (41, 0.0059990652852918176), (42, 0.017552567259155282), (43, 0.004979684710247403), (44, 0.004516112699614307), (45, 0.014147390675472885), (46, 0.018929683801687615), (47, 0.01990498865496017), (48, 0.01476091645398831), (49, 0.0027586521860425294), (50, 0.009589184447386469), (51, 0.0), (52, 0.0), (53, 0.029605605655455575), (54, 0.02339804875495779), (55, 0.02119641666690019), (56, 0.03975760606373334), (57, 0.05114061751977599), (58, 0.016960502419183614), (59, 0.022630770440269395), (60, 0.026705329135379152), (61, 0.008063142957407303), (62, 0.019406868866915696), (63, 0.015064048357040635), (64, 0.011220090221364361), (65, 0.02397749568627586), (66, 0.0), (67, 0.048996017730456455), (68, 0.0), (69, 0.00591971584080782), (70, 0.0), (71, 0.026584965440223554), (72, 0.02687462395589622), (73, 0.007131561118659197), (74, 0.03309863943493511), (75, 0.026934220911262872), (76, 0.0), (77, 0.0), (78, 0.04099649212120495), (79, 0.017431184031106932), (80, 0.011050651833641099), (81, 0.010054149991413427), (82, 0.26818408564519874), (83, 0.012255863250437716), (84, 0.013116777485046287), (85, 0.020812239411824272), (86, 0.021003034171069742), (87, 0.0), (88, 0.025570998178940423), (89, 0.007585215832018903), (90, 0.00527204176397075), (91, 0.044997566177715956), (92, 0.027648899969302684), (93, 0.011607164482346558), (94, 0.0110754247018706), (95, 0.00554586419253525), (96, 0.006172444722780889), (97, 0.0770059835104744), (98, 0.0), (99, 0.0), (100, 0.0), (101, 0.026744703514822808), (102, 0.014635832174600946), (103, 0.002465092463921892), (104, 0.026853755656757208), (105, 0.006614216049928584), (106, 0.013486313374071156), (107, 0.007629919438720099), (108, 0.068017965978042), (109, 0.023137953530419048), (110, 0.009724742147189588), (111, 0.006376267649132688), (112, 0.006420600198000817), (113, 0.04789805771210785), (114, 0.029948787101572387), (115, 0.002910153289219022), (116, 0.02783958818624503), (117, 0.008043241320310524), (118, 0.012434571139230393), (119, 0.05356505682191246), (120, 0.0), (121, 0.02488354459870116), (122, 0.019810235213041552), (123, 0.0072965405992864085), (124, 0.02208702915997688), (125, 0.026415080407255865), (126, 0.0), (127, 0.006550366790869276), (128, 0.0), (129, 0.001987399651986822), (130, 0.0699690015596783), (131, 0.012253276756000863), (132, 0.0), (133, 0.0), (134, 0.0029073636352379578), (135, 0.013326788952476734), (136, 0.038944580214657396), (137, 0.022213514548630322), (138, 0.012862950810934325), (139, 0.0108944522938211), (140, 0.0), (141, 0.012096587826485405), (142, 0.017910489112616983), (143, 0.0), (144, 0.014799036766239879), (145, 0.0), (146, 0.0030699530672071928), (147, 0.004693701089182729), (148, 0.07141550526396134), (149, 0.0), (150, 0.01708356109232036), (151, 0.005569257435751974), (152, 0.025881756991372625), (153, 0.01751989836994798), (154, 0.014056674538420143), (155, 0.03132683921185984), (156, 0.012136949002470698), (157, 0.0027105613009615922), (158, 0.007275857379990873), (159, 0.014685246776836192), (160, 0.014982198220923941), (161, 0.020833619496894353), (162, 0.03094500087386557), (163, 0.02000605882086817), (164, 0.012880529196629634), (165, 0.01619102461317535), (166, 0.00588987639443222), (167, 0.01962905437971999), (168, 0.01479251712688942), (169, 0.023927484999351857), (170, 0.05454771425854156), (171, 0.01144822835842245), (172, 0.0), (173, 0.005685918787522332), (174, 0.008169957483219921), (175, 0.01946494856355111), (176, 0.0), (177, 0.022957771567933574), (178, 0.0), (179, 0.01944269951891336), (180, 0.045923547703709676), (181, 0.016169933329539407), (182, 0.03744465558808604), (183, 0.004975558929430657), (184, 0.014221978535885919), (185, 0.01940586943099562), (186, 0.0055771616516767965), (187, 0.0), (188, 0.010941177279618814), (189, 0.01248912345156584), (190, 0.005857466130524818), (191, 0.050345366926518954), (192, 0.026446720226762272), (193, 0.022873511112289732), (194, 0.0183867946827324), (195, 0.007997820949900545), (196, 0.01883602922624831), (197, 0.007809829844697498), (198, 0.0), (199, 0.012342792802393313), (200, 0.0), (201, 0.019744491914823234), (202, 0.02647558457677586), (203, 0.016826233591304727), (204, 0.04725843254887484), (205, 0.0030136681737854064), (206, 0.008663427634561731), (207, 0.0), (208, 0.011483559307417745), (209, 0.012203917376114858), (210, 0.018479667666030448), (211, 0.03150831377802323), (212, 0.046621672739403035), (213, 0.0), (214, 0.020607737646471287), (215, 0.03337976898642374), (216, 0.0351802673239404), (217, 0.03180101832201359), (218, 0.07772176589083438), (219, 0.015225969947138028), (220, 0.014101518657393224), (221, 0.012681809448915515), (222, 0.03320126479175464), (223, 0.012900139065148166), (224, 0.0), (225, 0.021953240075784513), (226, 0.006726429522308332), (227, 0.0), (228, 0.015196766024802688), (229, 0.007562089545218721), (230, 0.013236792219649317), (231, 0.03553825377726976), (232, 0.03782814462216111), (233, 0.016132427780949928), (234, 0.016169727442158763), (235, 0.0), (236, 0.0), (237, 0.03596880639156505), (238, 0.011232552726226594), (239, 0.012792518791746265), (240, 0.006172960198528652), (241, 0.02802454197666193), (242, 0.036402951180174975), (243, 0.013210068023892418), (244, 0.0067148260215126885), (245, 0.009959979903090005), (246, 0.040248624181859594), (247, 0.06424601571017202), (248, 0.0050189406482307785), (249, 0.05321922119391508), (250, 0.13392492278549267), (251, 0.027731388732081544), (252, 0.014386728109531448), (253, 0.026116784999775672), (254, 0.0), (255, 0.0), (256, 0.0), (257, 0.04347410535103281), (258, 0.026903875282726978), (259, 0.013261887650791268), (260, 0.011439256683306816), (261, 0.011636052615955983), (262, 0.0), (263, 0.06059995338365863), (264, 0.059624830789339237), (265, 0.008130367148093317), (266, 0.08055504910958315), (267, 0.0), (268, 0.0), (269, 0.0714051298586186), (270, 0.007178628922713075), (271, 0.004157782995741637), (272, 0.027116357033330766), (273, 0.005264689924881357), (274, 0.0), (275, 0.025553474720903642), (276, 0.008939998812765002), (277, 0.028411481643653383), (278, 0.014779459058142107), (279, 0.03900920030673599), (280, 0.012062736189812389), (281, 0.0), (282, 0.026073873291743408), (283, 0.027607959743489743), (284, 0.031046700832479172), (285, 0.006216560198169055), (286, 0.01934019226671286), (287, 0.02386389811816335), (288, 0.020513233790748965), (289, 0.004327095710633863), (290, 0.004399429640464907), (291, 0.012211001248399658), (292, 0.01696490331293559), (293, 0.004741931320127697), (294, 0.0214176622633773), (295, 0.009882961711729844), (296, 0.014211414239780982), (297, 0.028455292988848517), (298, 0.02815728620504547), (299, 0.03481280570361866), (300, 0.03354098340132797), (301, 0.027135725392931687), (302, 0.0), (303, 0.015833182782261812), (304, 0.006328233182545624), (305, 0.01890610471296749), (306, 0.023454939374493992), (307, 0.011527224845775284), (308, 0.0), (309, 0.02906810028695707), (310, 0.025788231082489642), (311, 0.009113948286564961), (312, 0.002865748327922083), (313, 0.00562243594135146), (314, 0.021699118018280034), (315, 0.021803692866665416), (316, 0.011358192430225084), (317, 0.009500910725888564), (318, 0.0031102620242813633), (319, 0.02719961697468973), (320, 0.027854245747542843), (321, 0.02382313647084782), (322, 0.02403479251589807), (323, 0.00482259035287501), (324, 0.043843050549437955), (325, 0.025980056879717838), (326, 0.038475881815915214), (327, 0.0422955913165648), (328, 0.023492425921586103), (329, 0.017051838856919736), (330, 0.028953390829762046), (331, 0.005653369220637277), (332, 0.01937917649025423), (333, 0.019425598291651136), (334, 0.026765567976491263), (335, 0.006165495961054273), (336, 1.0), (337, 0.006053029458191555), (338, 0.022216934511483852), (339, 0.041649832021535806), (340, 0.020396662739677315), (341, 0.04658471385889008), (342, 0.01317511548275571), (343, 0.02582523408523188), (344, 0.020220051086203835), (345, 0.02109977686907128), (346, 0.01484576703000235), (347, 0.013441843113601804), (348, 0.013396646004413733), (349, 0.0), (350, 0.011928814186377321), (351, 0.002171364716713733), (352, 0.01853853859375057), (353, 0.026087071694096155), (354, 0.04713389894807335), (355, 0.023752976905856128), (356, 0.026997187740692583), (357, 0.03481824843948057), (358, 0.010552833659363247), (359, 0.006299124645097306), (360, 0.006513059844867679), (361, 0.03177919171600849), (362, 0.050526280462422746), (363, 0.02385378561017646), (364, 0.004638205614093256), (365, 0.018216934275561848), (366, 0.02343794656016687), (367, 0.0027264551991339164), (368, 0.04730281898694132), (369, 0.013489970000183512), (370, 0.0), (371, 0.023089788638095035), (372, 0.012427849067934166), (373, 0.015490974360213166), (374, 0.010705344814940794), (375, 0.008071289481578373), (376, 0.0), (377, 0.029612416674781178), (378, 0.0), (379, 0.004965037647954121), (380, 0.0155469119120453), (381, 0.02875202774054552), (382, 0.012470528766145978), (383, 0.00976557569449792), (384, 0.01887071527756701), (385, 0.029962228076583962), (386, 0.005649187856966595), (387, 0.01263446156059867), (388, 0.03450086018210106), (389, 0.027061912292368352), (390, 0.024914107934512295), (391, 0.012436036047521215), (392, 0.01739859348033706), (393, 0.016995336288800185), (394, 0.0), (395, 0.04247050560340656), (396, 0.09193666169393275), (397, 0.0049294360601492785), (398, 0.0028658463288009427), (399, 0.0), (400, 0.0), (401, 0.057362724870128376), (402, 0.0066136807551656854), (403, 0.015903756618371803), (404, 0.017348805287576485), (405, 0.00305110642548399), (406, 0.005535177375401566), (407, 0.0377757373363346), (408, 0.012794936580217992), (409, 0.027511046983686595), (410, 0.015025600258364979), (411, 0.013617620193213682), (412, 0.01532928226048158), (413, 0.011871379906069037), (414, 0.024526590972504543), (415, 0.01888233450973345), (416, 0.011327509088162551), (417, 0.020095077172782055), (418, 0.02282173267540561), (419, 0.006072078026131497), (420, 0.014552201236804542), (421, 0.022039918222211352), (422, 0.010352884498190463), (423, 0.01701834717883754), (424, 0.013693874255558479), (425, 0.021468838840667012), (426, 0.011280635691705287), (427, 0.046429789484721984), (428, 0.06737071352409413), (429, 0.0), (430, 0.00879038111705717), (431, 0.0033564231761675227), (432, 0.0), (433, 0.008875606999459497), (434, 0.040853228667834446), (435, 0.006577208393985859), (436, 0.007526752070855007), (437, 0.010295592089509736), (438, 0.0), (439, 0.020141238491598563), (440, 0.03851507728956348), (441, 0.03858633424200393), (442, 0.005529862439842379), (443, 0.009381786467144552), (444, 0.010564456295054023), (445, 0.00464437269850311), (446, 0.005292351480808841), (447, 0.0), (448, 0.007697822225529652), (449, 0.013481812913332994), (450, 0.0), (451, 0.03125132985045611), (452, 0.033410908515941695), (453, 0.0), (454, 0.03157043936803248), (455, 0.09700426662024414), (456, 0.014683550986277206), (457, 0.004948234594327074), (458, 0.0), (459, 0.012729674598769634), (460, 0.01327626198989694), (461, 0.009754862915903571), (462, 0.01310700648685892), (463, 0.01126265906815143), (464, 0.014734569548748704), (465, 0.009905958816961088), (466, 0.01615990060485087), (467, 0.019697659327093345), (468, 0.010121759344224695), (469, 0.027536545749707583), (470, 0.005721901382664616), (471, 0.01664254417068709), (472, 0.03468864800434976), (473, 0.017965321706885324), (474, 0.0029904916556306995), (475, 0.001896603493403808), (476, 0.0), (477, 0.028934465878564908), (478, 0.0), (479, 0.0028426948759464376), (480, 0.019727175344550176), (481, 0.0), (482, 0.005662694633743023), (483, 0.015664502897438405), (484, 0.008890578199495765), (485, 0.015636381645265707), (486, 0.015509795284804836), (487, 0.0), (488, 0.0), (489, 0.0), (490, 0.0), (491, 0.023647227867461287), (492, 0.03524774191900573), (493, 0.01581395696344755), (494, 0.00285912009805162), (495, 0.041448147422822726), (496, 0.03787274228219191), (497, 0.013265166593501274), (498, 0.021997082271834806), (499, 0.0), (500, 0.013005594423356939), (501, 0.004841292852579867), (502, 0.025170309483660627), (503, 0.0027685445337932027), (504, 0.009572689737167364), (505, 0.0027036977215901046), (506, 0.002306384113663071), (507, 0.08506649148804102), (508, 0.03351088206308163), (509, 0.026555136360536476), (510, 0.02692122965076425), (511, 0.0159557523044931), (512, 0.015922462871946565), (513, 0.0340959664815441), (514, 0.0), (515, 0.015467993723433212), (516, 0.01787292302238984), (517, 0.0), (518, 0.0), (519, 0.017922126266594396), (520, 0.025527603112212575), (521, 0.022194180818130193), (522, 0.007927720214448831), (523, 0.03401141089744267), (524, 0.04111306646351439), (525, 0.009464242740310932), (526, 0.0), (527, 0.02251750687628925), (528, 0.016703354648595046), (529, 0.009573996328761084), (530, 0.019752146418838743), (531, 0.006834178382040652), (532, 0.018979148505918364), (533, 0.0), (534, 0.0), (535, 0.04296705547609409), (536, 0.011661115670580003), (537, 0.023105039336578606), (538, 0.04866663857744403), (539, 0.005275706970259937), (540, 0.038526270514627314), (541, 0.0), (542, 0.0), (543, 0.0), (544, 0.0), (545, 0.01900459254496744), (546, 0.04342741362917708), (547, 0.03759382790509612), (548, 0.03104119695580075), (549, 0.00618764566790249), (550, 0.029347293237759295), (551, 0.018194849730621066), (552, 0.0), (553, 0.033536456488636394), (554, 0.016632786966394995), (555, 0.03086635242556028), (556, 0.0), (557, 0.0), (558, 0.0), (559, 0.031685961077500345), (560, 0.04101494619656228), (561, 0.045560150250971126), (562, 0.05021917040861017), (563, 0.032070685588837126), (564, 0.014382108538953461), (565, 0.005035557544771231), (566, 0.04876241467226114), (567, 0.043927188787853504), (568, 0.043791642553548435), (569, 0.03709783608123104), (570, 0.027894050916777227), (571, 0.0), (572, 0.02020111970353364), (573, 0.0), (574, 0.0), (575, 0.014107655945909648), (576, 0.007737674944119872), (577, 0.023038933519567255), (578, 0.0), (579, 0.013171610786954904), (580, 0.01495771052268569), (581, 0.0), (582, 0.020914221254514715), (583, 0.016124409480619332), (584, 0.0), (585, 0.015756579611200243), (586, 0.017088050116621643), (587, 0.0), (588, 0.028794860562052233), (589, 0.03614682448160043), (590, 0.006146694758386331), (591, 0.005920744983908707), (592, 0.013770805042840673), (593, 0.0), (594, 0.16014936593977033), (595, 0.007548959004001107), (596, 0.0), (597, 0.04484666252172767), (598, 0.007557458915090529), (599, 0.018360042645820803), (600, 0.026934187339914605), (601, 0.0045992598884680705), (602, 0.0044018529076795924), (603, 0.019983151831917012), (604, 0.021884645267551676), (605, 0.016778813027253932), (606, 0.008375895233401761), (607, 0.045834688605243035), (608, 0.018113376392255885), (609, 0.04376066320636122), (610, 0.026935817188034443), (611, 0.0), (612, 0.02601371342489051), (613, 0.019937736654317154), (614, 0.027325010462266465), (615, 0.02657322916226423), (616, 0.019340471840015257), (617, 0.04267311741196515), (618, 0.03433195283768199), (619, 0.0), (620, 0.0104214818265964), (621, 0.008022172034846049), (622, 0.010074898435073788), (623, 0.01821098953058088), (624, 0.0), (625, 0.014755602831350656), (626, 0.01163384451097458), (627, 0.007300334068988695), (628, 0.0), (629, 0.0071423713683920285), (630, 0.002875689962756486), (631, 0.017978609208509216), (632, 0.002572233899062845), (633, 0.0), (634, 0.020132682864793597), (635, 0.035288281169424715), (636, 0.017959457477786135), (637, 0.009818507756539994), (638, 0.013192801802782778), (639, 0.04467895187488704), (640, 0.022516627807452956), (641, 0.0422667910145736), (642, 0.0), (643, 0.011719757256603828), (644, 0.014093701749060258), (645, 0.01452415221610576), (646, 0.0), (647, 0.00711684296178891), (648, 0.036809261355562325), (649, 0.009202512016201234), (650, 0.005047823903984971), (651, 0.022406454722542532), (652, 0.0), (653, 0.02326065449083728), (654, 0.031038722161972558), (655, 0.0), (656, 0.0), (657, 0.031004455064094213), (658, 0.0), (659, 0.008917548328752953), (660, 0.022268651025952716), (661, 0.016371390783152997), (662, 0.010677901381774903), (663, 0.0), (664, 0.013392448850609869), (665, 0.04810102680981186), (666, 0.013571437003925085), (667, 0.002992215148000662), (668, 0.005276205218441107), (669, 0.01859145935770768), (670, 0.011684871056134251), (671, 0.008540798837116614), (672, 0.0025378306818378974), (673, 0.0), (674, 0.013440092609971444), (675, 0.022094776920658702), (676, 0.027429725761017487), (677, 0.013217313534160436), (678, 0.05255404295065941), (679, 0.021780635322176126), (680, 0.0215466673339079), (681, 0.01975810139383048), (682, 0.0), (683, 0.02582755978569498), (684, 0.03056598851623227), (685, 0.03457436230314436), (686, 0.03303768595667163), (687, 0.03420861819467682), (688, 0.0), (689, 0.018718477542050475), (690, 0.008852989832592736), (691, 0.030439596591428416), (692, 0.03489797365686617), (693, 0.0), (694, 0.0), (695, 0.0), (696, 0.0), (697, 0.017826994388363087), (698, 0.0), (699, 0.024187736656235533), (700, 0.038200754435725626), (701, 0.015106708015760806), (702, 0.011533575706376706), (703, 0.03482689515427955), (704, 0.007211185710441543), (705, 0.03628963554800718), (706, 0.040658303231740425), (707, 0.002393821658271288), (708, 0.0029363668247564876), (709, 0.002383204728708724), (710, 0.03089624445257584), (711, 0.015262523813610311), (712, 0.00972997376009439), (713, 0.0244459803465547), (714, 0.020607531285535552), (715, 0.037473325926651105), (716, 0.012851402047246755), (717, 0.0168424093680032), (718, 0.014414676771643768), (719, 0.02043202333085728), (720, 0.015777305992498367), (721, 0.0), (722, 0.00599248512651506), (723, 0.01693719655893562), (724, 0.013464868426176824), (725, 0.061877008842019916), (726, 0.06335543391078588), (727, 0.013104587060924171), (728, 0.0), (729, 0.0), (730, 0.0029305055915173285), (731, 0.04271520536741186), (732, 0.030001413100505907), (733, 0.03581678158637502), (734, 0.01267733266056004), (735, 0.0038862933796322643), (736, 0.02471077655225159), (737, 0.048861353378608544), (738, 0.04199641508810298), (739, 0.0), (740, 0.03241931444125914), (741, 0.045246743115801465), (742, 0.011368667138617897), (743, 0.0), (744, 0.014935870600003117), (745, 0.02889405924636458), (746, 0.0), (747, 0.007435412797243489), (748, 0.019972156940391093), (749, 0.013346278710154457), (750, 0.014582905014633472), (751, 0.02807826830906277), (752, 0.06018564702785753), (753, 0.0), (754, 0.0030491177037801145), (755, 0.0027658761526784463), (756, 0.02244732620676564), (757, 0.05071071838795437), (758, 0.023039560114168543), (759, 0.017955338719056146), (760, 0.014905996498290712), (761, 0.010149047694477858), (762, 0.02096627086094214), (763, 0.025371550191635804), (764, 0.004153654670611311), (765, 0.02155692480072894), (766, 0.005019826725854436), (767, 0.006326361488162827), (768, 0.035790161765578046), (769, 0.015939200829232624), (770, 0.016385718642514164), (771, 0.003066199551493687), (772, 0.025764605288093774), (773, 0.01584485743421057), (774, 0.006970522312518456), (775, 0.0399977562565122), (776, 0.018685450531672334), (777, 0.021945058891936133), (778, 0.018304431446218093), (779, 0.025366248437301335), (780, 0.03722022625024097), (781, 0.01862167942812333), (782, 0.011605525405913182), (783, 0.01792024606537829), (784, 0.0029509885891181474), (785, 0.016193906202969073), (786, 0.0023837249113033998), (787, 0.06620925265717234), (788, 0.033593954749832594), (789, 0.06522296743222088), (790, 0.020337671005235862), (791, 0.02197459833367745), (792, 0.007094138104458649), (793, 0.018401714881860157), (794, 0.02197270952659173), (795, 0.0033638624011750056), (796, 0.03920681234380244), (797, 0.002970263949341477), (798, 0.012728709146412425), (799, 0.0), (800, 0.011045952368497284), (801, 0.0), (802, 0.007360976279792611), (803, 0.0653124483552622), (804, 0.0), (805, 0.012388075554142708), (806, 0.016868155928172326), (807, 0.030267026710923715), (808, 0.009565568324251676), (809, 0.012476226182723354), (810, 0.006230902111146424), (811, 0.006820364625379829), (812, 0.027629393871755788), (813, 0.014980763869969847), (814, 0.02877370226323913), (815, 0.019511073575491592), (816, 0.0), (817, 0.005250087463836573), (818, 0.026857979515161036), (819, 0.007740859237594106), (820, 0.01434766083935893), (821, 0.018620580558781526), (822, 0.02891795151561533), (823, 0.0), (824, 0.012315035725422273), (825, 0.006657156385897331), (826, 0.01657208983728699), (827, 0.0), (828, 0.0), (829, 0.006126454768183745), (830, 0.0), (831, 0.0), (832, 0.006781061800399881), (833, 0.013950841463694961), (834, 0.024850282578952786), (835, 0.02368878121359793), (836, 0.04611502964739623), (837, 0.0021877815056992795), (838, 0.013861165995427367), (839, 0.0032155153855882106), (840, 0.02212588676217999), (841, 0.010511914128637953), (842, 0.040209445846591474), (843, 0.004461540091043689), (844, 0.005847602233908979), (845, 0.0), (846, 0.02474322645662113), (847, 0.017132658409130204), (848, 0.006784549140041416), (849, 0.17388862548214076), (850, 0.012312491648689881), (851, 0.009647847826453566), (852, 0.03965164734919906), (853, 0.10166322366735178), (854, 0.006364706645463659), (855, 0.0), (856, 0.004812401813508557), (857, 0.0), (858, 0.0), (859, 0.030561567026617015), (860, 0.0), (861, 0.00873830285484485), (862, 0.025939952718948903), (863, 0.006274259313900601), (864, 0.012220951920627762), (865, 0.008328647696807575), (866, 0.02602936968177821), (867, 0.020263305104525498), (868, 0.015049286984796895), (869, 0.0029180448936752907), (870, 0.018537825418435204), (871, 0.012451739706733533), (872, 0.008818615358809569), (873, 0.0030476740472097025), (874, 0.024357791844764654), (875, 0.021627712110030936), (876, 0.0), (877, 0.0), (878, 0.03840485980602297), (879, 0.0215220094747588), (880, 0.008049737140041875), (881, 0.027442037854969653), (882, 0.017930355154607065), (883, 0.022072529686553086), (884, 0.017101576808723595), (885, 0.008534676767819757), (886, 0.0026681948340427347), (887, 0.008880267666215563), (888, 0.0074559353210488), (889, 0.0), (890, 0.028271828660559203), (891, 0.01411144465651247), (892, 0.022402784529706735), (893, 0.012255661236253176), (894, 0.006606481064211111), (895, 0.05765668286713674), (896, 0.0), (897, 0.01896485245531502), (898, 0.020639744408694916), (899, 0.04893516125205025), (900, 0.0050725055155534165), (901, 0.05710480387959065), (902, 0.005530462166679993), (903, 0.0077214796511558235), (904, 0.019119916421645254), (905, 0.003292274006377586), (906, 0.020247010505348703), (907, 0.023512716044045215), (908, 0.009720618788892466), (909, 0.02845067057600297), (910, 0.04883565164405521), (911, 0.017744125578590245), (912, 0.04455399690664832), (913, 0.014355009613436373), (914, 0.046329244276668825), (915, 0.034502757816277395), (916, 0.013843744647399472), (917, 0.0), (918, 0.02668776288559306), (919, 0.05761712688237783), (920, 0.0075620714061792275), (921, 0.010066812178054867), (922, 0.0), (923, 0.029880973682193675), (924, 0.031837741364699974), (925, 0.0032724868007542717), (926, 0.0490889780052304), (927, 0.0), (928, 0.028346316124257982), (929, 0.02189326896149749), (930, 0.01415739216455951), (931, 0.009508616604308184), (932, 0.012795799229325167), (933, 0.002906609686219482), (934, 0.029437542901140656), (935, 0.023624037205905352), (936, 0.023206699151518143), (937, 0.0), (938, 0.02316130622931091), (939, 0.05666794251939851), (940, 0.03487731062613359), (941, 0.00266561383773738), (942, 0.008249610798098555), (943, 0.002852878114317602), (944, 0.03548484315671653), (945, 0.015093792497022168), (946, 0.022717093985391405), (947, 0.0), (948, 0.011980779626004183), (949, 0.014617543166668742), (950, 0.0), (951, 0.013848413005135736), (952, 0.026362020496225207), (953, 0.012102300910177954), (954, 0.012117673248867655), (955, 0.028652628123972203), (956, 0.009025084333591709), (957, 0.04685479122360794), (958, 0.007560103941893658), (959, 0.0), (960, 0.0), (961, 0.011394523491696321), (962, 0.02430039058063585), (963, 0.051348327450390904), (964, 0.00913453503856812), (965, 0.008219391014957663), (966, 0.06286033546612511), (967, 0.0), (968, 0.009828903900018617), (969, 0.017797627230937675), (970, 0.019476105849030773), (971, 0.009794059385286602), (972, 0.013650491665853866), (973, 0.023936374466630526), (974, 0.006243155757104576), (975, 0.0), (976, 0.0), (977, 0.03388888277611532), (978, 0.027881987607278818), (979, 0.027131747345944562), (980, 0.006952892349065802), (981, 0.038502884723576006), (982, 0.017803416401071723), (983, 0.002795269377330358), (984, 0.026021614819425568), (985, 0.0032556765819685505), (986, 0.0), (987, 0.0), (988, 0.02752379352305774), (989, 0.014079044494987059), (990, 0.03148327892594455), (991, 0.008766689311121826), (992, 0.019024673400738264), (993, 0.0067181790902213195), (994, 0.020648699043668197), (995, 0.022388072911773662), (996, 0.004016052886644547), (997, 0.006050352522632359), (998, 0.0032263799832378723), (999, 0.003223739416087863), (1000, 0.005998479993429861), (1001, 0.024392668993897765), (1002, 0.025860444893581563), (1003, 0.0), (1004, 0.0), (1005, 0.014341823289623374), (1006, 0.015608917947917283), (1007, 0.014347687354637527), (1008, 0.014941537839337053), (1009, 0.0048128622237715865), (1010, 0.016630547980389945), (1011, 0.027460981327373266), (1012, 0.010715269396301085), (1013, 0.015956655812074685), (1014, 0.006285477326460903), (1015, 0.005864520415172944), (1016, 0.021876087348048898), (1017, 0.011812067044715331), (1018, 0.016532186681909897), (1019, 0.00514818824606153), (1020, 0.011790141521948912), (1021, 0.0176832502433142), (1022, 0.10224425975191684), (1023, 0.01675618461417131), (1024, 0.0029642582354724146), (1025, 0.04000379349257744), (1026, 0.009303950707512517), (1027, 0.014319836188016523), (1028, 0.0028089055470010703), (1029, 0.015315293554401178), (1030, 0.006512015874540458), (1031, 0.014243440667601397), (1032, 0.009584419862700205), (1033, 0.03616059412256989), (1034, 0.0), (1035, 0.0064788948276806235), (1036, 0.01604439952488325), (1037, 0.004413225195233039), (1038, 0.017260390502813548), (1039, 0.021351355707971843), (1040, 0.0022228915357682603), (1041, 0.01883508452722158), (1042, 0.005618576057699628), (1043, 0.031005444468691197), (1044, 0.02102378932821321), (1045, 0.0886809556507841), (1046, 0.07465021297332707), (1047, 0.024074345724873845), (1048, 0.012568026310078605), (1049, 0.003374768269537107), (1050, 0.04690796331116645), (1051, 0.20932411438623763), (1052, 0.006174135865591685), (1053, 0.0), (1054, 0.006297430566073092), (1055, 0.01372487865427631), (1056, 0.014575537146191614), (1057, 0.0), (1058, 0.0), (1059, 0.006601604541854512), (1060, 0.012869160716545801), (1061, 0.00874164287628136), (1062, 0.002379708036014162), (1063, 0.011841117530632326), (1064, 0.008315959528932725), (1065, 0.0), (1066, 0.012284578984194222), (1067, 0.01934775377964762), (1068, 0.011184857946423923), (1069, 0.028766440883410543), (1070, 0.002432520926112954), (1071, 0.02846795598478682), (1072, 0.0), (1073, 0.00270579277255453), (1074, 0.008296689890296749), (1075, 0.012945828985773776), (1076, 0.01443528832935744), (1077, 0.01235575564382306), (1078, 0.0023701460698593723), (1079, 0.0239282349556922), (1080, 0.0304602369077177), (1081, 0.024909016683235443), (1082, 0.014707576770237563), (1083, 0.00843944632514214), (1084, 0.022698435739621756), (1085, 0.015395194187865616), (1086, 0.006411047097900975), (1087, 0.04263623278367252), (1088, 0.002432921174054585), (1089, 0.04202231990366686), (1090, 0.047235974328920544), (1091, 0.013267260494903642), (1092, 0.0), (1093, 0.0025723387080753917), (1094, 0.04752694260753827), (1095, 0.089227490580994), (1096, 0.00527800251924755), (1097, 0.01403800602310587), (1098, 0.006614270146891575), (1099, 0.01448751071189743), (1100, 0.02275815056848418), (1101, 0.0), (1102, 0.0), (1103, 0.0030668542104605014), (1104, 0.007019571289868706), (1105, 0.05727410730052061), (1106, 0.043731764022023244), (1107, 0.007546794979044455), (1108, 0.008404938436098162), (1109, 0.02110189517540676), (1110, 0.007972865219298145), (1111, 0.03302921885455089), (1112, 0.012941642032514074), (1113, 0.02082832603354483), (1114, 0.040482962318732794), (1115, 0.006618918454110454), (1116, 0.005747453640481998), (1117, 0.04004600812783595), (1118, 0.02961653799156238), (1119, 0.0), (1120, 0.02901053193598033), (1121, 0.008599504244537681), (1122, 0.008258009915477753), (1123, 0.006523472752405095), (1124, 0.015549794081652637), (1125, 0.002734912304698962), (1126, 0.022542022960879555), (1127, 0.0), (1128, 0.012041782534332544), (1129, 0.04185302424140197), (1130, 0.019267365074789402), (1131, 0.0), (1132, 0.006338107003080821), (1133, 0.025493325508400846), (1134, 0.03869715433844281), (1135, 0.01380155084532728), (1136, 0.01644966475715533), (1137, 0.022349731310779854), (1138, 0.0), (1139, 0.0026769482085642515), (1140, 0.007140800945472298), (1141, 0.005797789955217967), (1142, 0.0748433561183147), (1143, 0.009408520197758043), (1144, 0.01610928311687592), (1145, 0.0), (1146, 0.011694051155571927), (1147, 0.0), (1148, 0.0), (1149, 0.0026237084088731946), (1150, 0.029220547517478546), (1151, 0.005406001805800775), (1152, 0.0026385794247408166), (1153, 0.0019954808453951796), (1154, 0.0), (1155, 0.018339248543330314), (1156, 0.002336375195800761), (1157, 0.03482806765022544), (1158, 0.0), (1159, 0.008027308667517167), (1160, 0.0), (1161, 0.0), (1162, 0.011837711278255444), (1163, 0.006715494817692496), (1164, 0.0), (1165, 0.026293997329094067), (1166, 0.0029011198274332805), (1167, 0.0), (1168, 0.024329365519529238), (1169, 0.02708349139377153), (1170, 0.009525876502667367), (1171, 0.013439103944287418), (1172, 0.0231017818874277), (1173, 0.01839951343683487), (1174, 0.0), (1175, 0.013683097182458267), (1176, 0.008336628983394328), (1177, 0.0), (1178, 0.0533057746456895), (1179, 0.03251130524889338), (1180, 0.0053019331239238625), (1181, 0.0076366665064237305), (1182, 0.037589890945664485), (1183, 0.013286384846969347), (1184, 0.007674762750917092), (1185, 0.027025417689779684), (1186, 0.03287411094453346), (1187, 0.0033438432918868385), (1188, 0.0), (1189, 0.04168518945035686), (1190, 0.010470519624982097), (1191, 0.013390864701271009), (1192, 0.04213788299309433), (1193, 0.0369060926886298), (1194, 0.03650911223801926), (1195, 0.02659093446249821), (1196, 0.04564276419142446), (1197, 0.012370812692319686), (1198, 0.008153931639098555), (1199, 0.04487478394618035), (1200, 0.024857066898539826), (1201, 0.006446464908015972), (1202, 0.013760337170372164), (1203, 0.002672206022060019), (1204, 0.042571856442624095), (1205, 0.0030282518225254558), (1206, 0.028968330734798424), (1207, 0.0051505992337803844), (1208, 0.012131004210503782), (1209, 0.007901171238488302), (1210, 0.0421477228135325), (1211, 0.01168102754709447), (1212, 0.016498366886703683), (1213, 0.008529678863439232), (1214, 0.04848319769453413), (1215, 0.01846814365108003), (1216, 0.02932129723731163), (1217, 0.00247083936234808), (1218, 0.020571141979649658), (1219, 0.013342495517662145), (1220, 0.03175308325748466), (1221, 0.015733354329045973), (1222, 0.0023858614196931153), (1223, 0.014893527845726404), (1224, 0.017015853452439136), (1225, 0.020169801701534238), (1226, 0.005370606581786331), (1227, 0.01231504539664397), (1228, 0.02332590208485906), (1229, 0.0), (1230, 0.0), (1231, 0.03694981467843614), (1232, 0.002868010054901349), (1233, 0.0), (1234, 0.01013758922039429), (1235, 0.011972527849442874), (1236, 0.006118053020671057), (1237, 0.0), (1238, 0.020193163684784795), (1239, 0.0398564164051709), (1240, 0.01502638824816483), (1241, 0.028490364864846206), (1242, 0.007535653043695821), (1243, 0.003104260782212603), (1244, 0.015435868371439582), (1245, 0.0318078228351786), (1246, 0.026369680983838677), (1247, 0.015655535020968607), (1248, 0.006594840329588885), (1249, 0.018954854908938168), (1250, 0.027646939393926498), (1251, 0.0025184609957133656), (1252, 0.017618781398768754), (1253, 0.03682765400044743), (1254, 0.08820488823324005), (1255, 0.0051547959726343335), (1256, 0.016750218873993934), (1257, 0.02383577232196674), (1258, 0.016402011839468135), (1259, 0.024435599010031055), (1260, 0.003174754320950334), (1261, 0.018516180897135186), (1262, 0.027559592265715246), (1263, 0.043170937346616825), (1264, 0.0), (1265, 0.007311624499512539), (1266, 0.030342350525135627), (1267, 0.052195043506716964), (1268, 0.0022784612436985868), (1269, 0.014848863145324053), (1270, 0.012228018480403996), (1271, 0.0070583447202705605), (1272, 0.03220490885157996), (1273, 0.03551650179139613), (1274, 0.006333565910150679), (1275, 0.0), (1276, 0.0), (1277, 0.013181158093321986), (1278, 0.042324660053956305), (1279, 0.010182698166686408), (1280, 0.005740955901982246), (1281, 0.0), (1282, 0.02733433209729578), (1283, 0.037680948889482896), (1284, 0.009319246784555027), (1285, 0.0), (1286, 0.0027901295095590696), (1287, 0.025745051591518995), (1288, 0.03217443592428508), (1289, 0.002338236764651457), (1290, 0.01889707213087018), (1291, 0.014991511806220043), (1292, 0.002798736221670884), (1293, 0.032371141296917004), (1294, 0.015373164638370612), (1295, 0.0), (1296, 0.03199084876666674), (1297, 0.012371593272988155), (1298, 0.0028302880670408054), (1299, 0.010193073232099507), (1300, 0.008095020433836761), (1301, 0.06782934674140835), (1302, 0.015350796939600314), (1303, 0.0), (1304, 0.023055966202016286), (1305, 0.03090350024247843), (1306, 0.052122142529439246), (1307, 0.029190610687710592), (1308, 0.03953310886777872), (1309, 0.02470546075426502), (1310, 0.030794007507457578), (1311, 0.003192858343360616), (1312, 0.030598630713922555), (1313, 0.0028045223145340206), (1314, 0.05354883013669244), (1315, 0.005244095222563559), (1316, 0.012180455388388516), (1317, 0.0377148010515225), (1318, 0.02744786114710876), (1319, 0.07968583161530204), (1320, 0.008645277507490366), (1321, 0.033948483063054154), (1322, 0.009686185425315135), (1323, 0.002445304785168988), (1324, 0.005750981012035217), (1325, 0.0), (1326, 0.01232776580201124), (1327, 0.012992152741051859), (1328, 0.005685380610637575), (1329, 0.02413313171344933), (1330, 0.0027938332648963318), (1331, 0.018908185188116468), (1332, 0.01659485959551825), (1333, 0.00878429538610368), (1334, 0.0), (1335, 0.021780716291819047), (1336, 0.009990936889385243), (1337, 0.021537651149760747), (1338, 0.048494411141850914), (1339, 0.010786010374376844), (1340, 0.0024169937564275244), (1341, 0.04216720112326159), (1342, 0.0), (1343, 0.007928024436278332), (1344, 0.007741258155612928), (1345, 0.008252947677037527), (1346, 0.020343050907383517), (1347, 0.02704453990841324), (1348, 0.0095443688856561), (1349, 0.007514405309207835), (1350, 0.03644815477464269), (1351, 0.11911087644192392), (1352, 0.01024462860998749), (1353, 0.0026462604120043257), (1354, 0.017277886967623647), (1355, 0.0), (1356, 0.026184221357201214), (1357, 0.0), (1358, 0.005313482751974441), (1359, 0.01194614957040649), (1360, 0.02067978629861333), (1361, 0.002891009453991232), (1362, 0.002114969088816621), (1363, 0.010451865520527131), (1364, 0.03172876219518408), (1365, 0.03420123972275548), (1366, 0.01217996137906556), (1367, 0.002376716291400701), (1368, 0.04296283032460227), (1369, 0.03111312685343629), (1370, 0.009495980721589407), (1371, 0.035852644844849034), (1372, 0.00898043825382972), (1373, 0.04313911461519134), (1374, 0.0841727746222162), (1375, 0.026965796763155435), (1376, 0.013005594256827136), (1377, 0.009756148667516763), (1378, 0.008160077375819658), (1379, 0.011842150081792896), (1380, 0.01981426647481436), (1381, 0.021716934212811068), (1382, 0.008537489834753824), (1383, 0.007594026464562394), (1384, 0.019263755622190716), (1385, 0.027196228173081802), (1386, 0.05459054845074523), (1387, 0.02956437002089881), (1388, 0.008273272464849622), (1389, 0.04060443162101765), (1390, 0.01023704247673803), (1391, 0.0), (1392, 0.03156616038825742), (1393, 0.0), (1394, 0.021112280950108944), (1395, 0.017113156921619528), (1396, 0.025260613445449526), (1397, 0.007123417320068883), (1398, 0.006241117492832044), (1399, 0.0), (1400, 0.015844344555351407), (1401, 0.020155842129601254), (1402, 0.022003292824260577), (1403, 0.014691505647827889), (1404, 0.006304103520497525), (1405, 0.046453425432975676), (1406, 0.0), (1407, 0.027544643835163966), (1408, 0.026510453644756175), (1409, 0.021097916606021522), (1410, 0.012459298347048477), (1411, 0.027445377816671605), (1412, 0.03717944474836246), (1413, 0.019042678179002733), (1414, 0.020523869155871354), (1415, 0.0), (1416, 0.0), (1417, 0.004234905095801744), (1418, 0.029014770344605905), (1419, 0.006872170676677527), (1420, 0.0431333867002027), (1421, 0.012914666229034578), (1422, 0.012035573346513161), (1423, 0.008414746593490431), (1424, 0.0032492723004978376), (1425, 0.022181424319072465), (1426, 0.014337871295125749), (1427, 0.0023330220978850054), (1428, 0.0), (1429, 0.0), (1430, 0.04238230226842343), (1431, 0.02088632001948739), (1432, 0.0029645965876735217), (1433, 0.022930135302379494), (1434, 0.0298399082956986), (1435, 0.006877810169601875), (1436, 0.012760823146518004), (1437, 0.009334097683556575), (1438, 0.0), (1439, 0.0), (1440, 0.015102449928358084), (1441, 0.003068097885952181), (1442, 0.056633854736692774), (1443, 0.034738399082034396), (1444, 0.0028320236381022346), (1445, 0.02005196093552726), (1446, 0.014317380837064374), (1447, 0.01939417910573462), (1448, 0.009376399742387256), (1449, 0.0), (1450, 0.014659852682666844), (1451, 0.012528806340379197), (1452, 0.0), (1453, 0.0316952885802781), (1454, 0.0), (1455, 0.017761433025462785), (1456, 0.023791444761174323), (1457, 0.044219195058830686), (1458, 0.0357432068853602), (1459, 0.01843597305936398), (1460, 0.005968509395232516), (1461, 0.015107584566899552), (1462, 0.0), (1463, 0.09109045314461528), (1464, 0.01757022588679886), (1465, 0.029271079102439937), (1466, 0.033104241394733745), (1467, 0.028698965505287097), (1468, 0.04176350784638927), (1469, 0.0029463572148825334), (1470, 0.02039671243641924), (1471, 0.03374620993269611), (1472, 0.02024000032277796), (1473, 0.0028827242938390305), (1474, 0.020952409216897623), (1475, 0.02116037747303877), (1476, 0.0028834368770292657), (1477, 0.01993175893106778), (1478, 0.007767329934939407), (1479, 0.052529142578737885), (1480, 0.0), (1481, 0.017211547288397664), (1482, 0.008317070177408188), (1483, 0.006675172197136802), (1484, 0.00726072762510196), (1485, 0.002567742807920483), (1486, 0.016453685147636267), (1487, 0.021722900212604902), (1488, 0.028777931381376735), (1489, 0.003198011399911194), (1490, 0.007870491109034462), (1491, 0.0031015140329985935), (1492, 0.0071578897488043195), (1493, 0.05441573590535436), (1494, 0.02226195385904222), (1495, 0.04408718977092815), (1496, 0.015208292925258993), (1497, 0.011581076312511816), (1498, 0.015110176757585258), (1499, 0.011359414947947637), (1500, 0.04728620311075244), (1501, 0.06184119837761698), (1502, 0.014146870134269336), (1503, 0.03903180229877657), (1504, 0.0), (1505, 0.008295225858881605), (1506, 0.024920313027062227), (1507, 0.0032591643392472355), (1508, 0.013593745643801652), (1509, 0.01942865261386238), (1510, 0.04906701571783723), (1511, 0.016110319425520745), (1512, 0.008220211942259482), (1513, 0.002964743860980239), (1514, 0.010010393438998852), (1515, 0.02581987114589241), (1516, 0.021245125133645463), (1517, 0.02418877797904358), (1518, 0.04067575850629011), (1519, 0.018738599564977882), (1520, 0.017582734245568884), (1521, 0.012874263768379272), (1522, 0.01891334232638449), (1523, 0.022997183771625965), (1524, 0.008714521353518556), (1525, 0.06439464062964916), (1526, 0.014277167860258039), (1527, 0.0), (1528, 0.015586308533797274), (1529, 0.017301163030135534), (1530, 0.009876850693613796), (1531, 0.01072183439281328), (1532, 0.0027015509424341533), (1533, 0.031960383978433475), (1534, 0.007001319121298298), (1535, 0.04253401862139561), (1536, 0.01669308937101137), (1537, 0.036419138576264644), (1538, 0.012286951705057048), (1539, 0.02314241070006054), (1540, 0.0), (1541, 0.0), (1542, 0.0029466630810108313), (1543, 0.011357555093004307), (1544, 0.0027320527135831847), (1545, 0.009311306917661548), (1546, 0.005737303603373817), (1547, 0.014273689189478885), (1548, 0.00844183472922775), (1549, 0.010808503168111598), (1550, 0.007998257820820602), (1551, 0.011886814227911817), (1552, 0.01306284451982983), (1553, 0.016559893748068676), (1554, 0.020899993108373077), (1555, 0.04069871810185813), (1556, 0.0), (1557, 0.0029244932550031386), (1558, 0.0), (1559, 0.005771863969358951), (1560, 0.010942039416104686), (1561, 0.010532065653635217), (1562, 0.006357797908989076), (1563, 0.041692380860198844), (1564, 0.009745143971579478), (1565, 0.012681377910249769), (1566, 0.031310788433095246), (1567, 0.012376297168962463), (1568, 0.0060859746295324445), (1569, 0.02585509492167301), (1570, 0.005669933116282984), (1571, 0.017914110647105127), (1572, 0.014537648084810506), (1573, 0.0), (1574, 0.05248485914358607), (1575, 0.0), (1576, 0.006496921101022665), (1577, 0.06435577401135882), (1578, 0.018623325010427686), (1579, 0.02387402541010512), (1580, 0.0), (1581, 0.010252958919967026), (1582, 0.08716237659509789), (1583, 0.03515347316537257), (1584, 0.018271638290372056), (1585, 0.00582476014543148), (1586, 0.03006628640182788), (1587, 0.015173578521374062), (1588, 0.021413645633964855), (1589, 0.01680950007815112), (1590, 0.0), (1591, 0.0), (1592, 0.017406361788395077), (1593, 0.008318304078692756), (1594, 0.018120340032777918), (1595, 0.018989243470859125), (1596, 0.003023200002066677), (1597, 0.024779699676508928), (1598, 0.025685946924585267), (1599, 0.02586707193189979), (1600, 0.030678823553652625), (1601, 0.01456102392338853), (1602, 0.0029528790838108305), (1603, 0.024178566446201928), (1604, 0.02284344345510217), (1605, 0.01318182170668717), (1606, 0.0), (1607, 0.0052502745815994414), (1608, 0.05754124893587503), (1609, 0.013155081417485916), (1610, 0.010196527524398662), (1611, 0.008324665917179837), (1612, 0.020314635666010005), (1613, 0.06626781677675123), (1614, 0.0030446565922984292), (1615, 0.01942636377655985), (1616, 0.10974106319738702), (1617, 0.04545245190684602), (1618, 0.012581533874033197), (1619, 0.0299961698149098), (1620, 0.019072466879292673), (1621, 0.0), (1622, 0.014070821452061687), (1623, 0.0), (1624, 0.0066005323928238924), (1625, 0.02371231678726242), (1626, 0.008621739638306597), (1627, 0.006981227587662427), (1628, 0.0), (1629, 0.045987630659849746), (1630, 0.019168899747961144), (1631, 0.10366323306216627), (1632, 0.006394275175119331), (1633, 0.014362398413995801), (1634, 0.005641570546656588), (1635, 0.00795483876100971), (1636, 0.006871399468114082), (1637, 0.01026902405158179), (1638, 0.002835017053909824), (1639, 0.002409368367788718), (1640, 0.016100034140649148), (1641, 0.0), (1642, 0.008806436735053708), (1643, 0.007001631906064912), (1644, 0.008261933234097248), (1645, 0.01165113871794465), (1646, 0.008816358885641591), (1647, 0.01865923113945886), (1648, 0.016018263574369588), (1649, 0.019032871721835688), (1650, 0.056169494340998494), (1651, 0.0), (1652, 0.009768628438260762), (1653, 0.027022557054874392), (1654, 0.02212423718403258), (1655, 0.018132829471822917), (1656, 0.003262975877686486), (1657, 0.0), (1658, 0.009157426386042857), (1659, 0.007170575882202414), (1660, 0.018416684384544975), (1661, 0.0073915743993990144), (1662, 0.011272149326760635), (1663, 0.0026811914466665482), (1664, 0.03318284288506596), (1665, 0.015030490294987774), (1666, 0.027921129339493964), (1667, 0.0196580720620359), (1668, 0.029364659200612285), (1669, 0.02653215078440005), (1670, 0.0), (1671, 0.013858531019744732), (1672, 0.0062835742394984915), (1673, 0.002649558675985716), (1674, 0.01633589651605321), (1675, 0.029266773518138917), (1676, 0.0022724419285080183), (1677, 0.015098731557201175), (1678, 0.018850034962260533), (1679, 0.024972997718846195), (1680, 0.013476390100784587), (1681, 0.02224343935105958), (1682, 0.016440651463475713), (1683, 0.011784984417101341), (1684, 0.01439921948924855), (1685, 0.013002183995838992), (1686, 0.005511842636358428), (1687, 0.007071061810503872), (1688, 0.02203548566043639), (1689, 0.024181641603800066), (1690, 0.018558837625756795), (1691, 0.023830817800983697), (1692, 0.011966465539013735), (1693, 0.002672203767471661), (1694, 0.011536532209844434), (1695, 0.02508599918003913), (1696, 0.013273879195354065), (1697, 0.022435100515297752), (1698, 0.052183874978217235), (1699, 0.0), (1700, 0.025700414386227083), (1701, 0.0421923058178235), (1702, 0.009889706347908511), (1703, 0.0), (1704, 0.024276806846473434), (1705, 0.08843336701515013), (1706, 0.01236695970147346), (1707, 0.03914179745203275), (1708, 0.01319923255418903), (1709, 0.02142425823430541), (1710, 0.019139968237721742), (1711, 0.0), (1712, 0.00579902049173374), (1713, 0.012282525733331658), (1714, 0.027288544441494658), (1715, 0.017221481631137486), (1716, 0.015024047159838853), (1717, 0.0), (1718, 0.01566033033225988), (1719, 0.04860966904934732), (1720, 0.01453263049224388), (1721, 0.012816475168133586), (1722, 0.002874013285144777), (1723, 0.030592710072190575), (1724, 0.01745250951756676), (1725, 0.020921524806356215), (1726, 0.01814485113931147), (1727, 0.0029591191524760353), (1728, 0.012400659517550044), (1729, 0.002592177879783871), (1730, 0.004946116069102069), (1731, 0.057208967238139743), (1732, 0.019106840083695363), (1733, 0.01043301439212372), (1734, 0.0029821345676736685), (1735, 0.0029350410820592745), (1736, 0.0), (1737, 0.008823018694872276), (1738, 0.021851416529361244), (1739, 0.0), (1740, 0.03974436117854896), (1741, 0.017965515208752475), (1742, 0.012666781991811395), (1743, 0.025269383202234298), (1744, 0.04231280867902698), (1745, 0.0046145750076799046), (1746, 0.04007509511606372), (1747, 0.0042220549729621104), (1748, 0.0), (1749, 0.0), (1750, 0.02263472906649774), (1751, 0.016571674893474213), (1752, 0.002353074505082377), (1753, 0.0069721970091207765), (1754, 0.007561308195405705), (1755, 0.03170737401345956), (1756, 0.033264128193212096), (1757, 0.0028036633279850884), (1758, 0.0251744759500412), (1759, 0.0053782447586130586), (1760, 0.0), (1761, 0.005544135692466871), (1762, 0.025371255986809997), (1763, 0.0), (1764, 0.02093769844084352), (1765, 0.01343880422435355), (1766, 0.003140638463771023), (1767, 0.0027339898920974628), (1768, 0.0233614615232042), (1769, 0.013130519554241335), (1770, 0.005833565508497675), (1771, 0.02496228008698468), (1772, 0.022886951354576014), (1773, 0.00531542492335222), (1774, 0.01507185838651708), (1775, 0.007162235571072473), (1776, 0.037981330521346425), (1777, 0.0029239096551673905), (1778, 0.01769419571846025), (1779, 0.016579787629356434), (1780, 0.03185698560783935), (1781, 0.013770655573285188), (1782, 0.0317614132041043), (1783, 0.0026778952097396684), (1784, 0.04081375037134071), (1785, 0.04624616872247236), (1786, 0.010529135042960892), (1787, 0.07332291452270144), (1788, 0.058307127884880135), (1789, 0.004978444745361876), (1790, 0.009860137259698329), (1791, 0.0030298972328301173), (1792, 0.0033446103758357935), (1793, 0.011335623421889322), (1794, 0.008706697282723766), (1795, 0.0), (1796, 0.01866359416066162), (1797, 0.013239323637578774), (1798, 0.03178140041690579), (1799, 0.041319685900188294), (1800, 0.0), (1801, 0.0), (1802, 0.01600222035396599), (1803, 0.015074575098769973), (1804, 0.024483638368991454), (1805, 0.007329573574577219), (1806, 0.011962462238918364), (1807, 0.021816582725627635), (1808, 0.005981088761690476), (1809, 0.044862020550663656), (1810, 0.0181484681539303), (1811, 0.006808793303994331), (1812, 0.025803187277051), (1813, 0.016515591756974774), (1814, 0.0), (1815, 0.024677795058229566), (1816, 0.011142798613693829), (1817, 0.011970064310494953), (1818, 0.028164164295434776), (1819, 0.0), (1820, 0.0), (1821, 0.019995595873009486), (1822, 0.02886848710280855), (1823, 0.012340884842049997), (1824, 0.03811010854937903), (1825, 0.01275900285642667), (1826, 0.0), (1827, 0.01723100438593582), (1828, 0.03242299242024679), (1829, 0.007322747734331091), (1830, 0.036753881717089265), (1831, 0.006651669802398023), (1832, 0.007010267542564229), (1833, 0.011699146765114306), (1834, 0.0028214873687812387), (1835, 0.007058619964911089), (1836, 0.02349478511970013), (1837, 0.010849787527966049), (1838, 0.0), (1839, 0.002717897294977335), (1840, 0.012241817243776336), (1841, 0.04451449513097608), (1842, 0.002784647596155011), (1843, 0.012306703748477258), (1844, 0.009043751051980036), (1845, 0.010227546575766262), (1846, 0.0052520028767795105), (1847, 0.0029384576453259114), (1848, 0.003063751805781919), (1849, 0.008142683137540824), (1850, 0.01877769761930163), (1851, 0.009906113680827252), (1852, 0.011926616847741716), (1853, 0.0), (1854, 0.0), (1855, 0.015343726477306308), (1856, 0.003026691278578457), (1857, 0.006565499609853724), (1858, 0.015142914626152425), (1859, 0.007032297584354804), (1860, 0.022248800185114014), (1861, 0.03483547291808107), (1862, 0.0), (1863, 0.004685459088860378), (1864, 0.011688584528743454), (1865, 0.013585455971196677), (1866, 0.0), (1867, 0.02230519728336809), (1868, 0.005330913537169735), (1869, 0.024685310909407593), (1870, 0.03669381390473406), (1871, 0.028066978238923755), (1872, 0.017986131506603862), (1873, 0.012301382956904198), (1874, 0.02647888547250191), (1875, 0.011106234356054998), (1876, 0.021895784368692325), (1877, 0.01562969785930029), (1878, 0.009219605479080063), (1879, 0.0028792942815325556), (1880, 0.002774844157430685), (1881, 0.03226238079392255), (1882, 0.0), (1883, 0.018820693344571548), (1884, 0.0), (1885, 0.0), (1886, 0.009585930083883677), (1887, 0.02574948366084031), (1888, 0.01214283183545109), (1889, 0.0083629957514204), (1890, 0.0), (1891, 0.03109317990521599), (1892, 0.0), (1893, 0.023740632568171563), (1894, 0.005842266890993207), (1895, 0.03006742481569048), (1896, 0.007074980435024162), (1897, 0.016162528718484698), (1898, 0.007702445479325389), (1899, 0.002653221344599497), (1900, 0.009348494882480223), (1901, 0.005525384802300234), (1902, 0.02072876211974531), (1903, 0.08134116986992482), (1904, 0.005701592799816512), (1905, 0.0031028571296896953), (1906, 0.0028557106695814077), (1907, 0.010242145448601005), (1908, 0.053842851098759435), (1909, 0.009206593424326804), (1910, 0.020496458663549003), (1911, 0.039156169172185055), (1912, 0.014458231636741932), (1913, 0.038352409379973154), (1914, 0.02898921417219616), (1915, 0.0153914388490612), (1916, 0.0), (1917, 0.002921486733642781), (1918, 0.007105963459481938), (1919, 0.04541032357659678), (1920, 0.013782959995493206), (1921, 0.008473621244044223), (1922, 0.016205023620852153), (1923, 0.0031608134620571826), (1924, 0.007685612620213304), (1925, 0.017465685715963956), (1926, 0.027506248519905307), (1927, 0.016891844796768533), (1928, 0.0690068621206817), (1929, 0.002713208801968282), (1930, 0.0), (1931, 0.015195845767837763), (1932, 0.014078722434934004), (1933, 0.022129197398422246), (1934, 0.01447205745182854), (1935, 0.04695068242228648), (1936, 0.034575941040561865), (1937, 0.0), (1938, 0.0023728989334846676), (1939, 0.01093197824039185), (1940, 0.0), (1941, 0.011621751799482197), (1942, 0.03325839578005784), (1943, 0.015560290422818746), (1944, 0.03362628189891646), (1945, 0.01767710512468683), (1946, 0.0), (1947, 0.015083832811434356), (1948, 0.05883345201633588), (1949, 0.00992494751467724), (1950, 0.009878871933744982), (1951, 0.018871023624951647), (1952, 0.007181511507221877), (1953, 0.0), (1954, 0.011510077277906762), (1955, 0.017231202828029098), (1956, 0.002878743911208072), (1957, 0.02271230707674307), (1958, 0.007006221868634165), (1959, 0.017364752818381544), (1960, 0.017773656796097437), (1961, 0.0434439375141774), (1962, 0.0), (1963, 0.03585764998754147), (1964, 0.012057213841990797), (1965, 0.017134724894181427), (1966, 0.007881642198670099), (1967, 0.013070857238609589), (1968, 0.03423316643496169), (1969, 0.006436051329003559), (1970, 0.0), (1971, 0.005652742462370471), (1972, 0.0), (1973, 0.008951075283166922), (1974, 0.008748931552067726), (1975, 0.0), (1976, 0.0076677879958775294), (1977, 0.013333255614118324), (1978, 0.002536638104700897), (1979, 0.0), (1980, 0.0025527098349411113), (1981, 0.007946232566334338), (1982, 0.0407807590648242), (1983, 0.0), (1984, 0.03139879721397399), (1985, 0.03376251855666421), (1986, 0.028217169315407152), (1987, 0.01980498700429711), (1988, 0.01660220256399757), (1989, 0.01722375424102591), (1990, 0.019770060012134025), (1991, 0.0), (1992, 0.01792939600694398), (1993, 0.01685037447801863), (1994, 0.04319594716755295), (1995, 0.015391752466745505), (1996, 0.006464000411020225), (1997, 0.029109638003916652), (1998, 0.040750040701354476), (1999, 0.009304975976036172), (2000, 0.05559802434136464), (2001, 0.002450723920532413), (2002, 0.010162884292230116), (2003, 0.009192582094486368), (2004, 0.0), (2005, 0.024309361637808845), (2006, 0.0070250176022162054), (2007, 0.018829620285774826), (2008, 0.01862638993665259), (2009, 0.011500456721677352), (2010, 0.004257626206687001), (2011, 0.004933171442444042), (2012, 0.0202708124444355), (2013, 0.024605256144481565), (2014, 0.03497699966591541), (2015, 0.012593480883959493), (2016, 0.012520291348050648), (2017, 0.020617411487382695), (2018, 0.00898290138482763), (2019, 0.031164455763143424), (2020, 0.010316410004307167), (2021, 0.003080669988219095), (2022, 0.03665524794794642), (2023, 0.01261539926677323), (2024, 0.0), (2025, 0.017017235456156108), (2026, 0.017146565535652563), (2027, 0.09446555395643279), (2028, 0.06102672987716301), (2029, 0.040338543595002004), (2030, 0.0), (2031, 0.0325401655869689), (2032, 0.014485326146529618), (2033, 0.03974675414309872), (2034, 0.019092757017029123), (2035, 0.0), (2036, 0.014732702806337709), (2037, 0.01909278574562822), (2038, 0.0063897142352588865), (2039, 0.04123465662730213), (2040, 0.013576690757892433), (2041, 0.0028863527126633975), (2042, 0.002969832071950888), (2043, 0.02928097414393794), (2044, 0.01888924350982731), (2045, 0.02474608717075079), (2046, 0.034458346015743525), (2047, 0.02379674318078758), (2048, 0.00554907353556191), (2049, 0.009118636261853968), (2050, 0.007854581045005938), (2051, 0.01693643948816619), (2052, 0.012773330538734393), (2053, 0.006885343285645293), (2054, 0.0), (2055, 0.03788887781271911), (2056, 0.014397152112848609), (2057, 0.0), (2058, 0.01950083435064216), (2059, 0.0024821473257690685), (2060, 0.009611449494960508), (2061, 0.013509658765889377), (2062, 0.026076467938933402), (2063, 0.0025802088535315415), (2064, 0.0060923027576634675), (2065, 0.016827065356059392), (2066, 0.013786657919943485), (2067, 0.02035160617069373), (2068, 0.010412029647463938), (2069, 0.006743987310520693), (2070, 0.010344862182053325), (2071, 0.01505639444585467), (2072, 0.013881564015266235), (2073, 0.023194134501886184), (2074, 0.0605499641479589), (2075, 0.007064284619625682), (2076, 0.022372611264424004), (2077, 0.0034709350924634727), (2078, 0.005304005399040092), (2079, 0.02918752977376021), (2080, 0.0), (2081, 0.00284906599245799), (2082, 0.003087559282361714), (2083, 0.007183269236790143), (2084, 0.0), (2085, 0.0), (2086, 0.026143061190304722), (2087, 0.008089897451412278), (2088, 0.01843206673415793), (2089, 0.0), (2090, 0.0029703430235332637), (2091, 0.0), (2092, 0.009974829835044245), (2093, 0.013840211005357057), (2094, 0.01917329884583661), (2095, 0.02215026328462892), (2096, 0.012953071555596943), (2097, 0.0221107840938869), (2098, 0.0070751464771273195), (2099, 0.0026601477252314832), (2100, 0.020890769431271394), (2101, 0.02543902958367166), (2102, 0.03417722686809674), (2103, 0.024924472144951672), (2104, 0.0), (2105, 0.0), (2106, 0.012838799679450364), (2107, 0.011742375344513101), (2108, 0.03223942271659101), (2109, 0.029475641269131443), (2110, 0.011150148496862113), (2111, 0.022808507327284205), (2112, 0.03297631151604906), (2113, 0.006472557674022144), (2114, 0.03978934260103169), (2115, 0.019007131731612517), (2116, 0.01916027106910849), (2117, 0.0051714538917067504), (2118, 0.023835257802031825), (2119, 0.017640998297200595), (2120, 0.0), (2121, 0.014191433879771034), (2122, 0.011061703404492019), (2123, 0.0), (2124, 0.011742866661737968), (2125, 0.007533821598963571), (2126, 0.006877788275981891), (2127, 0.015886976944327492), (2128, 0.01610661829661903), (2129, 0.01880554867027588), (2130, 0.02342574858711686), (2131, 0.024561740511771617), (2132, 0.0), (2133, 0.0), (2134, 0.007677656562145654), (2135, 0.0061348131165872835), (2136, 0.014694374828111138), (2137, 0.0040337849684170595), (2138, 0.003225696481104251), (2139, 0.01131918623792744), (2140, 0.0027061629077093545), (2141, 0.016259887595043234), (2142, 0.00800537502990286), (2143, 0.022039575210184816), (2144, 0.023889871871623662), (2145, 0.026537829411054502), (2146, 0.0024322224865859668), (2147, 0.02087068451877582), (2148, 0.005899838987146689), (2149, 0.01834033357954952), (2150, 0.014623928039729315), (2151, 0.013387157585255945), (2152, 0.0), (2153, 0.008282428629040545), (2154, 0.015741207879727256), (2155, 0.0055200654792931176), (2156, 0.013303676044973099), (2157, 0.01602254612649772), (2158, 0.003318366096241117), (2159, 0.0), (2160, 0.020334311526788572), (2161, 0.04445654803122149), (2162, 0.0), (2163, 0.0), (2164, 0.009220085394692929), (2165, 0.0075711879562616186), (2166, 0.009144754196011556), (2167, 0.031127432873617612), (2168, 0.008192237560788792), (2169, 0.006712239842672804), (2170, 0.02546988618649406), (2171, 0.005824343942394721), (2172, 0.013827687468733123), (2173, 0.00999242338303512), (2174, 0.013417596883630978), (2175, 0.04767904013254523), (2176, 0.007577290766523693), (2177, 0.024253185878136727), (2178, 0.02642115596047643), (2179, 0.0026736453690142134), (2180, 0.007623451507326472), (2181, 0.0), (2182, 0.007711006712396029), (2183, 0.02152550083778607), (2184, 0.0), (2185, 0.019506185754647035), (2186, 0.01472787454328006), (2187, 0.003266390953535956), (2188, 0.0), (2189, 0.0), (2190, 0.021158279128395026), (2191, 0.01912939018513226), (2192, 0.002866131579483256), (2193, 0.023261383888133445), (2194, 0.010070783719994494), (2195, 0.023481943035216918), (2196, 0.0), (2197, 0.020627124650715947), (2198, 0.031103216430822714), (2199, 0.003704765384747284), (2200, 0.0029083791434862845), (2201, 0.016220689589603928), (2202, 0.010473461596783404), (2203, 0.007568566184674134), (2204, 0.01666821908995368), (2205, 0.011375343005138292), (2206, 0.009062807768979912), (2207, 0.008764544676495), (2208, 0.0160056434644661), (2209, 0.02050555640608864), (2210, 0.015027666740291932), (2211, 0.04708339630739268), (2212, 0.01774449109515244), (2213, 0.0), (2214, 0.0), (2215, 0.01519108156935927), (2216, 0.0), (2217, 0.0029794753740162803), (2218, 0.05827063303922072), (2219, 0.002100371571074321), (2220, 0.0), (2221, 0.060529567890296614), (2222, 0.016918147105268053), (2223, 0.0032359871232166275), (2224, 0.012656773598484617), (2225, 0.01518067055929458), (2226, 0.009271235701622759), (2227, 0.002364925568610811), (2228, 0.012567328580997872), (2229, 0.023297317796216268), (2230, 0.025171814763491167), (2231, 0.0), (2232, 0.0), (2233, 0.032051916717669604), (2234, 0.015584278845966058), (2235, 0.009742847557949933), (2236, 0.03995863052128352), (2237, 0.04894516553045313), (2238, 0.0), (2239, 0.03137045638598343), (2240, 0.0209625248105289), (2241, 0.03877068668474434), (2242, 0.01686221692858042), (2243, 0.0), (2244, 0.01712712299457043), (2245, 0.00644149632032878), (2246, 0.037369097745407164), (2247, 0.0), (2248, 0.009122854571932924), (2249, 0.008614521540021552), (2250, 0.04893497728157154), (2251, 0.0), (2252, 0.014371241680382849), (2253, 0.0), (2254, 0.021063837782944322), (2255, 0.0), (2256, 0.0), (2257, 0.018429218898740808), (2258, 0.0030861612000588888), (2259, 0.03362622719139816), (2260, 0.0030445479491345833), (2261, 0.0032989465333450097), (2262, 0.015879854564721914), (2263, 0.01452461703752074), (2264, 0.002528465504295361), (2265, 0.02816896568031946), (2266, 0.0), (2267, 0.0), (2268, 0.03277243889617186), (2269, 0.009478751375420624), (2270, 0.00946733106434736), (2271, 0.022088619093057513), (2272, 0.02858686359067799), (2273, 0.0), (2274, 0.0026187138777037707), (2275, 0.0), (2276, 0.013904519358560692), (2277, 0.024544476555206377), (2278, 0.013729342195779537), (2279, 0.00790319403523844), (2280, 0.009483421275793602), (2281, 0.0037758287699565574), (2282, 0.0036566298088295244), (2283, 0.028725105387421578), (2284, 0.002861411305270731), (2285, 0.08444641224776349), (2286, 0.023405240317056503), (2287, 0.040565080277456235), (2288, 0.0), (2289, 0.0), (2290, 0.039728594530563516), (2291, 0.04083339550557012), (2292, 0.013233884784595536), (2293, 0.0), (2294, 0.026876737712848486), (2295, 0.006973122109817729), (2296, 0.03044004559087726), (2297, 0.010794922073392683), (2298, 0.008128642557768118), (2299, 0.0), (2300, 0.023109451495244262), (2301, 0.03324305693364769), (2302, 0.0032326187234256233), (2303, 0.029230877370249993), (2304, 0.006359862885586443), (2305, 0.014860978090946102), (2306, 0.006863962346167682), (2307, 0.002919288755935823), (2308, 0.012151820232353842), (2309, 0.0156495144940743), (2310, 0.0), (2311, 0.03522460468592662), (2312, 0.004097467588843905), (2313, 0.0), (2314, 0.0), (2315, 0.008949963332404226), (2316, 0.011549568330501503), (2317, 0.00617074136320852), (2318, 0.015492477598228476), (2319, 0.036947603701857526), (2320, 0.030611381149013944), (2321, 0.006911717335646448), (2322, 0.06996066982077956), (2323, 0.0), (2324, 0.006956087980374243), (2325, 0.0029545705304960712), (2326, 0.017842030428258084), (2327, 0.028489356254451034), (2328, 0.0), (2329, 0.022577149922158344), (2330, 0.0213864812841693), (2331, 0.015506348820649926), (2332, 0.06474611074687708), (2333, 0.0033879924693668824), (2334, 0.006864352107137832), (2335, 0.019454742973757228), (2336, 0.00965554605114055), (2337, 0.0300731209129027), (2338, 0.024330417655864377), (2339, 0.033540932958568734), (2340, 0.02115715592271953), (2341, 0.08938021479782621), (2342, 0.0), (2343, 0.0), (2344, 0.0), (2345, 0.0), (2346, 0.0), (2347, 0.0), (2348, 0.012238905168199561), (2349, 0.01405017728125255), (2350, 0.0), (2351, 0.031823945924449516), (2352, 0.004607593148820721), (2353, 0.008481100351203837), (2354, 0.07311177264001498), (2355, 0.0), (2356, 0.006026927082261048), (2357, 0.0032309971668748297), (2358, 0.0), (2359, 0.024872886775488542), (2360, 0.03901225036711304), (2361, 0.0), (2362, 0.0), (2363, 0.011758806530197391), (2364, 0.006623035200329235), (2365, 0.026789739188962686), (2366, 0.0025239765391405194), (2367, 0.05799586981248674), (2368, 0.014692844145060033), (2369, 0.0), (2370, 0.017863756473646106), (2371, 0.01193010604068493), (2372, 0.009019470702269074), (2373, 0.0023735090180621457), (2374, 0.021605288228219548), (2375, 0.020933673640256598), (2376, 0.09736928651508417), (2377, 0.012893620382567559), (2378, 0.0), (2379, 0.00410739337280663), (2380, 0.002976947234659417), (2381, 0.009184152056435128), (2382, 0.0), (2383, 0.0), (2384, 0.010662258951308592), (2385, 0.002997611626381951), (2386, 0.0), (2387, 0.012965340228835916), (2388, 0.02088523796445225), (2389, 0.01463270940934829), (2390, 0.011124258833770434), (2391, 0.010370850798057125), (2392, 0.02238790615945694), (2393, 0.02260082284459091), (2394, 0.002998897751527449), (2395, 0.003936836241363916), (2396, 0.019900184607769017), (2397, 0.002894526373159925), (2398, 0.018461333434747373), (2399, 0.010114473493116954), (2400, 0.007608991557484823), (2401, 0.009862053640548752), (2402, 0.033388019063950815), (2403, 0.009533116081343997), (2404, 0.013207036800740427), (2405, 0.0), (2406, 0.0), (2407, 0.0), (2408, 0.0), (2409, 0.009062474138735413), (2410, 0.003122208168510105), (2411, 0.021655211937621006), (2412, 0.017372495784967967), (2413, 0.005655222635153674), (2414, 0.019076137174690755), (2415, 0.0), (2416, 0.038715134414203926), (2417, 0.018233402507963112), (2418, 0.020095725719663494), (2419, 0.0), (2420, 0.0031879360808953136), (2421, 0.023309002723261106), (2422, 0.01571014444776958), (2423, 0.003586734348835732), (2424, 0.0025796726181330863), (2425, 0.0), (2426, 0.012314685063151896), (2427, 0.02175575011163609), (2428, 0.013374023853767795), (2429, 0.0), (2430, 0.013532697196422092), (2431, 0.00979304740791455), (2432, 0.012912825602549657), (2433, 0.007213566413324514), (2434, 0.015533604185876269), (2435, 0.0028103978210236562), (2436, 0.01669840387594657), (2437, 0.009269956700707252), (2438, 0.0), (2439, 0.006790836973505637), (2440, 0.002890357901565613), (2441, 0.015969534064522665), (2442, 0.03809130333082901), (2443, 0.054056368376282166), (2444, 0.01520522281190783), (2445, 0.002619495490007176), (2446, 0.027687643783855912), (2447, 0.03262893571620008), (2448, 0.0), (2449, 0.0028644873231689063), (2450, 0.007657609578889739), (2451, 0.005790394029322454), (2452, 0.014254907924338757), (2453, 0.0), (2454, 0.0), (2455, 0.003612393450563613), (2456, 0.05986375108540426), (2457, 0.0), (2458, 0.010369378529419172), (2459, 0.059625959231031735), (2460, 0.011323746631096351), (2461, 0.00928223217754242), (2462, 0.00735446104669226), (2463, 0.011888241084429768), (2464, 0.003121363248835364), (2465, 0.0027429787804472993), (2466, 0.010421375462011431), (2467, 0.002745879213343409), (2468, 0.003325351681018752), (2469, 0.0042476230701640255), (2470, 0.007532268026227078), (2471, 0.0), (2472, 0.042080776219447245), (2473, 0.027237382222469346), (2474, 0.03403410835746794), (2475, 0.0), (2476, 0.0), (2477, 0.0), (2478, 0.014916264450744086), (2479, 0.009198478092468453), (2480, 0.011990409324934625), (2481, 0.022485582440842113), (2482, 0.006147285440955089), (2483, 0.0037533625294873625), (2484, 0.0), (2485, 0.03146895002370741), (2486, 0.02244963154689841), (2487, 0.02209775818558863), (2488, 0.04059009454471318), (2489, 0.006995078889479911), (2490, 0.004102059921296762), (2491, 0.008772852709451932), (2492, 0.016285608564541726), (2493, 0.0031410748825821235), (2494, 0.016107854834008655), (2495, 0.0028458039020616776), (2496, 0.0), (2497, 0.01633079819359153), (2498, 0.013138393486923012), (2499, 0.04047296011484324), (2500, 0.015365632108224381), (2501, 0.012118485868883182), (2502, 0.00715650395742903), (2503, 0.01866404825337816), (2504, 0.05086093339178373), (2505, 0.006025090365031106), (2506, 0.005408854894002134), (2507, 0.014114928779858066), (2508, 0.021147156640724994), (2509, 0.021638908337159996), (2510, 0.03241638130197087), (2511, 0.009862754438974759), (2512, 0.018253020840039137), (2513, 0.05511440405806752), (2514, 0.03364196147282338), (2515, 0.003533421263102104), (2516, 0.003015574032032724), (2517, 0.021934400152493184), (2518, 0.03464978427738023), (2519, 0.0029356931491794657), (2520, 0.007031519377202449), (2521, 0.0), (2522, 0.028612019035752223), (2523, 0.0049190618193658015), (2524, 0.014164115844928615), (2525, 0.012614713518369285), (2526, 0.005456628930792494), (2527, 0.014048508272472568), (2528, 0.0), (2529, 0.004131363480095374), (2530, 0.006852360513556581), (2531, 0.009916534341948646), (2532, 0.02283553012102401), (2533, 0.019742372144423946), (2534, 0.030480047647662344), (2535, 0.0031544197529680936), (2536, 0.0037178011188616074), (2537, 0.017824678302813708), (2538, 0.0060715847228320656), (2539, 0.012990821397789842), (2540, 0.0), (2541, 0.006883251321697385), (2542, 0.008788737156716317), (2543, 0.0035711370466618257), (2544, 0.005224069994422091), (2545, 0.005652246638079264), (2546, 0.031240215996018193), (2547, 0.008782200099455), (2548, 0.023894505803300294), (2549, 0.017872993761203614), (2550, 0.036135926802222135), (2551, 0.015205221079083545), (2552, 0.029595693804841505), (2553, 0.03158038218285795), (2554, 0.008309958161982326), (2555, 0.02316016842293523), (2556, 0.00752125656302395), (2557, 0.0), (2558, 0.006864895619497669), (2559, 0.007087292501751291), (2560, 0.018536327111560304), (2561, 0.028052701419768185), (2562, 0.03332757623075011), (2563, 0.010002601874732897), (2564, 0.03397459130312806), (2565, 0.005755120155408782), (2566, 0.006017781631401906), (2567, 0.006397745656222389), (2568, 0.014791804989576635), (2569, 0.01615445101605004), (2570, 0.003349718849024073), (2571, 0.04088100107028268), (2572, 0.02425707950874814), (2573, 0.016799268973298427), (2574, 0.024733987830543754), (2575, 0.009003352703429963), (2576, 0.0), (2577, 0.0), (2578, 0.0), (2579, 0.0), (2580, 0.0), (2581, 0.02202638632072777), (2582, 0.11113939056035188), (2583, 0.0), (2584, 0.07505135822304138), (2585, 0.018937518974301), (2586, 0.0028836238292657902), (2587, 0.029073675017999578), (2588, 0.010254280657751266), (2589, 0.0), (2590, 0.015270894591296864), (2591, 0.009830411969135686), (2592, 0.003150766658826667), (2593, 0.0), (2594, 0.0346903640683849), (2595, 0.0), (2596, 0.0), (2597, 0.004699712072267409), (2598, 0.0), (2599, 0.02648136216075113), (2600, 0.003590669381959969), (2601, 0.00862610218827691), (2602, 0.0), (2603, 0.037724044830684644), (2604, 0.0030972760474929644), (2605, 0.008598964436637203), (2606, 0.0), (2607, 0.029327804580974566), (2608, 0.01082676489307972), (2609, 0.021575083038953523), (2610, 0.013063598896577648), (2611, 0.005721515109502705), (2612, 0.00644096874790087), (2613, 0.011954651364298408), (2614, 0.0), (2615, 0.013847145285739264), (2616, 0.03565866963904), (2617, 0.0), (2618, 0.0), (2619, 0.02442584351074754), (2620, 0.0027157899697961446), (2621, 0.01666358625424968), (2622, 0.07444763867223556), (2623, 0.0), (2624, 0.0), (2625, 0.0229866681896433), (2626, 0.010656810079858785), (2627, 0.06052539432058274), (2628, 0.013283985830004296), (2629, 0.0), (2630, 0.0), (2631, 0.018672729735076957), (2632, 0.024891664525128823), (2633, 0.015684994171236918), (2634, 0.012827196725591754), (2635, 0.011377499631117206), (2636, 0.018714989413744335), (2637, 0.04231977486051396), (2638, 0.021385284169340327), (2639, 0.04427948172463486), (2640, 0.058043688129381966), (2641, 0.012992376472657451), (2642, 0.052904416963836576), (2643, 0.0), (2644, 0.011729897345351124), (2645, 0.02164225566840257), (2646, 0.017468164251928153), (2647, 0.05033229175902148), (2648, 0.011298578567936543), (2649, 0.009695662371080405), (2650, 0.0), (2651, 0.0), (2652, 0.008256562375933226), (2653, 0.007981677338960975), (2654, 0.02091324119064159), (2655, 0.0), (2656, 0.020434219890562343), (2657, 0.004168878794771628), (2658, 0.019727369545677168), (2659, 0.018716566935201295), (2660, 0.045577263235338755), (2661, 0.010423759365157537), (2662, 0.025873178449399056), (2663, 0.013494768490068608), (2664, 0.0), (2665, 0.04020841394062741), (2666, 0.03381052132581654), (2667, 0.00387815182217359), (2668, 0.019306239444201297), (2669, 0.014359867530587963), (2670, 0.0), (2671, 0.007031504675198326), (2672, 0.025861768330940605), (2673, 0.00887175677064856), (2674, 0.0), (2675, 0.00997470215929477), (2676, 0.0032635403594332615), (2677, 0.009327597863884991), (2678, 0.004635108959775077), (2679, 0.0076754412344804505), (2680, 0.017985881333503134), (2681, 0.0027361880626278544), (2682, 0.020118511642191157), (2683, 0.0), (2684, 0.0041215617513356406), (2685, 0.024523532411959252), (2686, 0.007009220640324008), (2687, 0.0028000687080869495), (2688, 0.023382795416088883), (2689, 0.014201004681406254), (2690, 0.010405029399527383), (2691, 0.026688661217313496), (2692, 0.0047110789913987), (2693, 0.0027512533347463205), (2694, 0.0), (2695, 0.0), (2696, 0.01510454944730057), (2697, 0.016777746145665733), (2698, 0.02822483851264054), (2699, 0.00893137350849181), (2700, 0.0), (2701, 0.06742720800050647), (2702, 0.02412137252387471), (2703, 0.004405756415508098), (2704, 0.0), (2705, 0.0), (2706, 0.014203802766118333), (2707, 0.0063275999420375545), (2708, 0.013854566667068031), (2709, 0.0028472930722578944), (2710, 0.006061889096821173), (2711, 0.016920889690168216), (2712, 0.02175966865448317), (2713, 0.011815000552629337), (2714, 0.01590784877070792), (2715, 0.021595883160458126), (2716, 0.006611536327704706), (2717, 0.0), (2718, 0.018861838196953026), (2719, 0.015685398332784747), (2720, 0.011152020356897684), (2721, 0.002472979623705814), (2722, 0.00399537469840258), (2723, 0.007361477812081508), (2724, 0.011852346579262719), (2725, 0.02023907385490553), (2726, 0.021957706811320067), (2727, 0.015628271269833766), (2728, 0.018197800689448818), (2729, 0.05074412449105638), (2730, 0.028390260297859876), (2731, 0.003820286027093015), (2732, 0.049289095040737564), (2733, 0.0166969383501545), (2734, 0.022074884544972417), (2735, 0.00936921689618041), (2736, 0.0), (2737, 0.00475854128650472), (2738, 0.011228921687837849), (2739, 0.03446707367012287), (2740, 0.025758089255418663), (2741, 0.007416865645026173), (2742, 0.0050370762455566155), (2743, 0.005884933602476095), (2744, 0.016978778771311334), (2745, 0.01794950295637727), (2746, 0.01803788658606566), (2747, 0.011960507551502705), (2748, 0.0030948466392322336), (2749, 0.0349631503852135), (2750, 0.0), (2751, 0.012836623573103539), (2752, 0.018137179838241486), (2753, 0.0), (2754, 0.0029838035745843546), (2755, 0.015762358014396547), (2756, 0.019787799498818124), (2757, 0.0), (2758, 0.01518283494676359), (2759, 0.005286425467909322), (2760, 0.010986683666372071), (2761, 0.034588234798901656), (2762, 0.006864216801592103), (2763, 0.021070770509110298), (2764, 0.024447987435018418), (2765, 0.012678546544262443), (2766, 0.023455885230523915), (2767, 0.005355098435118706), (2768, 0.0), (2769, 0.009762825394765388), (2770, 0.0023535013512209), (2771, 0.008045330205057176), (2772, 0.0), (2773, 0.0), (2774, 0.01624671351820546), (2775, 0.013775912499051543), (2776, 0.0061305347578399835), (2777, 0.011190835645470784), (2778, 0.008299763655515673), (2779, 0.0), (2780, 0.022085731947402893), (2781, 0.0034298723821761866), (2782, 0.003168127692324542), (2783, 0.0), (2784, 0.0068166162952879175), (2785, 0.007635787517951649), (2786, 0.0030478073398202297), (2787, 0.012355389214412487), (2788, 0.006789589801738379), (2789, 0.015644909427807923), (2790, 0.014085307908388817), (2791, 0.012232581936470258), (2792, 0.014337612308305572), (2793, 0.04912730830559671), (2794, 0.018449965236440647), (2795, 0.008668328182796062), (2796, 0.0032570440003741644), (2797, 0.02100390697987377), (2798, 0.019053741472939957), (2799, 0.0183974411642512), (2800, 0.0), (2801, 0.0057209475720263), (2802, 0.0), (2803, 0.015965696485891787), (2804, 0.0423788948274266), (2805, 0.00832060302043234), (2806, 0.005970798468994865), (2807, 0.03166110136601601), (2808, 0.011719209741703549), (2809, 0.007019822175662075), (2810, 0.018268966463835273), (2811, 0.01879201857010758), (2812, 0.014080161054265995), (2813, 0.02584848366471202), (2814, 0.035559927438208315), (2815, 0.0), (2816, 0.025958482372478817), (2817, 0.028139921921850063), (2818, 0.013324696359809433), (2819, 0.017303301181992553), (2820, 0.007234614513695645), (2821, 0.010772708332239327), (2822, 0.020081243386280485), (2823, 0.005389178923665926), (2824, 0.006687217444069657), (2825, 0.002811561940067468), (2826, 0.012183410937780505), (2827, 0.0), (2828, 0.0), (2829, 0.009116307870270119), (2830, 0.015089629779071325), (2831, 0.014923853202450255), (2832, 0.0037350219076036726), (2833, 0.04510121355790773), (2834, 0.03386702062774852), (2835, 0.00927337405389177), (2836, 0.0256586682415807), (2837, 0.00983897143571592), (2838, 0.003637194013780435), (2839, 0.006673944922941597), (2840, 0.007438193803427688), (2841, 0.019463480372408533), (2842, 0.033516836983478515), (2843, 0.037850189984929686), (2844, 0.03321233621827966), (2845, 0.015657612421787315), (2846, 0.003330179558000104), (2847, 0.02016329526605444), (2848, 0.030898408526312163), (2849, 0.0), (2850, 0.023032683395022676), (2851, 0.0), (2852, 0.006356562152800261), (2853, 0.05386732083904382), (2854, 0.017936827701363327), (2855, 0.008069089453544382), (2856, 0.0029232606715643345), (2857, 0.016039126963011047), (2858, 0.0040340101551409125), (2859, 0.011466315668127815), (2860, 0.016859074624765158), (2861, 0.0), (2862, 0.01243055549223872), (2863, 0.0), (2864, 0.009283423339221305), (2865, 0.0), (2866, 0.002648363431809949), (2867, 0.06856026997703996), (2868, 0.010038680873211147), (2869, 0.022038317086704635), (2870, 0.0), (2871, 0.0), (2872, 0.0032760797902214997), (2873, 0.035201537494045365), (2874, 0.03522559042001145), (2875, 0.0036172630044045456), (2876, 0.002376980491488024), (2877, 0.026049635732137113), (2878, 0.028120599942808654), (2879, 0.0), (2880, 0.003067427599956677), (2881, 0.0), (2882, 0.014119648091292725), (2883, 0.0), (2884, 0.003285437346916524), (2885, 0.0038332150045022086), (2886, 0.0), (2887, 0.005462844449330841), (2888, 0.005840098645571733), (2889, 0.0), (2890, 0.011197349413809104), (2891, 0.0040314013115236485), (2892, 0.09738076790576661), (2893, 0.017962497575453165), (2894, 0.0), (2895, 0.006453286168664211), (2896, 0.0028901548240683516), (2897, 0.00908860972977005), (2898, 0.005875218747982347), (2899, 0.006269251977022066), (2900, 0.01676319393897492), (2901, 0.0), (2902, 0.024738925852209697), (2903, 0.0), (2904, 0.01755172881598389), (2905, 0.01779076140592249), (2906, 0.01480521825535891), (2907, 0.007522691594867613), (2908, 0.022912207490225857), (2909, 0.013960345119043538), (2910, 0.021043579550463605), (2911, 0.015382683190156426), (2912, 0.012581601233174993), (2913, 0.008987469227878894), (2914, 0.0032186994835433093), (2915, 0.0058997807278600035), (2916, 0.0), (2917, 0.008546441203157125), (2918, 0.01574760870183641), (2919, 0.044045809825426226), (2920, 0.011034885714535224), (2921, 0.0), (2922, 0.0038724838288523443), (2923, 0.0), (2924, 0.0033006878261303296), (2925, 0.05977882303772789), (2926, 0.013588896443177295), (2927, 0.01643025028849547), (2928, 0.003675107916178516), (2929, 0.010786680366664296), (2930, 0.0031291801364380823), (2931, 0.029391187406466845), (2932, 0.0), (2933, 0.01268790196279238), (2934, 0.0), (2935, 0.004818302200510407), (2936, 0.006141401174792315), (2937, 0.03236348069570344), (2938, 0.01388892591300267), (2939, 0.01618318440524037), (2940, 0.024661934543133382), (2941, 0.025519147085754538), (2942, 0.017484386682564274), (2943, 0.0), (2944, 0.037580588647956985), (2945, 0.01271908086594031), (2946, 0.0), (2947, 0.0), (2948, 0.003706295071833021), (2949, 0.0), (2950, 0.005123422970801021), (2951, 0.051034809078340265), (2952, 0.020351907579515608), (2953, 0.0181492311217811), (2954, 0.03741914062709211), (2955, 0.022128524571395705), (2956, 0.015175663525784224), (2957, 0.011599641245662505), (2958, 0.0), (2959, 0.007082044485849864), (2960, 0.022987053087612286), (2961, 0.0), (2962, 0.021802823431465668), (2963, 0.007120796613715148), (2964, 0.027447666460856647), (2965, 0.007705121551985514), (2966, 0.012335863498441377), (2967, 0.0), (2968, 0.003106531728924498), (2969, 0.021257945458553973), (2970, 0.01384976818337067), (2971, 0.0024763804929078394), (2972, 0.0026826861181114296), (2973, 0.022267677768973163), (2974, 0.0), (2975, 0.016484453634502738), (2976, 0.00857590835453681), (2977, 0.04461373561685668), (2978, 0.003094650277744895), (2979, 0.010549382983407405), (2980, 0.013275863256476672), (2981, 0.032796638719469334), (2982, 0.0032389158191779284), (2983, 0.003591937309083745), (2984, 0.016326485335086956), (2985, 0.09004645436279393), (2986, 0.0033664405503006705), (2987, 0.0), (2988, 0.005595501674800797), (2989, 0.0), (2990, 0.0038312887742143298), (2991, 0.0), (2992, 0.02991812510384885), (2993, 0.0), (2994, 0.0028645070026420963), (2995, 0.0), (2996, 0.025846020225098635), (2997, 0.0), (2998, 0.008093819904578883), (2999, 0.012919916420668278), (3000, 0.018207495689396575), (3001, 0.0), (3002, 0.0), (3003, 0.003161604735620529), (3004, 0.0), (3005, 0.0), (3006, 0.0), (3007, 0.010840718934951617), (3008, 0.006065107294366609), (3009, 0.003985186586838583), (3010, 0.012862087125673815), (3011, 0.006440007614347405), (3012, 0.0), (3013, 0.011447242409613423), (3014, 0.007657272217861836), (3015, 0.012858883198475834), (3016, 0.005843474569394507), (3017, 0.0033814568743560694), (3018, 0.039810391581469304), (3019, 0.0), (3020, 0.015774098316728827), (3021, 0.016055101425806975), (3022, 0.015517281134819616), (3023, 0.012807149341090852), (3024, 0.021122850288627232), (3025, 0.0), (3026, 0.00314442575312681), (3027, 0.012002565339367765), (3028, 0.02705708284542502), (3029, 0.010638358667403126), (3030, 0.0), (3031, 0.012395760653985814), (3032, 0.0), (3033, 0.014931946785833806), (3034, 0.0028645751426272332), (3035, 0.0), (3036, 0.007711732518680963), (3037, 0.003004170503714937), (3038, 0.002977185034928671), (3039, 0.016906470094025884), (3040, 0.003974569043882062), (3041, 0.003004095589586394), (3042, 0.01760550540667614), (3043, 0.00761563690321839), (3044, 0.0031023286105073843), (3045, 0.0), (3046, 0.027606766198174544), (3047, 0.0), (3048, 0.007270986590209024), (3049, 0.0), (3050, 0.00260752097211241), (3051, 0.011649726659646845), (3052, 0.009375499076916803), (3053, 0.06430616219706248), (3054, 0.0034198109743328034), (3055, 0.0), (3056, 0.025870618981950554), (3057, 0.0233849714499684), (3058, 0.013436895436847719), (3059, 0.0), (3060, 0.019210696451000563), (3061, 0.020903075161322667), (3062, 0.009132490361509989), (3063, 0.00968996188088559), (3064, 0.0), (3065, 0.009187547047776566), (3066, 0.01459704726243596), (3067, 0.04837646483481034), (3068, 0.01426453130131029), (3069, 0.02917701021948948), (3070, 0.0025423131025909926), (3071, 0.008912438726567506), (3072, 0.007977793650447762), (3073, 0.05055760628323964), (3074, 0.0034918020253910773), (3075, 0.0), (3076, 0.0), (3077, 0.028108570627344426), (3078, 0.025690518765570686), (3079, 0.0), (3080, 0.003172303792018241), (3081, 0.008077981127088166), (3082, 0.002531291898131638), (3083, 0.00884532107591205), (3084, 0.003018555946753679), (3085, 0.024761136802908514), (3086, 0.11076528582613268), (3087, 0.0035905962891190505), (3088, 0.01932174985291862), (3089, 0.01338079667108856), (3090, 0.010774927915708953), (3091, 0.011348544996800335), (3092, 0.0), (3093, 0.00803748617343189), (3094, 0.006347963903248241), (3095, 0.014532745087079291), (3096, 0.023356847376174616), (3097, 0.003138277197508675), (3098, 0.020747630521223203), (3099, 0.02302452519098613), (3100, 0.011320156535439312), (3101, 0.01864339559370149), (3102, 0.01954813731416871), (3103, 0.007046288357922057), (3104, 0.02175797714972867), (3105, 0.0051481735182626045), (3106, 0.0028370433610201235), (3107, 0.0), (3108, 0.048156196369884136), (3109, 0.010195871336641106), (3110, 0.0314202688915751), (3111, 0.013228741847819268), (3112, 0.0), (3113, 0.0029028305263577277), (3114, 0.017497955838294547), (3115, 0.0044306027868805786), (3116, 0.0396800425649053), (3117, 0.0), (3118, 0.0), (3119, 0.0), (3120, 0.0), (3121, 0.02488972030887088), (3122, 0.025559677784409027), (3123, 0.020749893015829367), (3124, 0.0055974174008793405), (3125, 0.0067020717237419045), (3126, 0.007821283597203707), (3127, 0.02359014420891798), (3128, 0.0), (3129, 0.04978990544514494), (3130, 0.0), (3131, 0.012903122648955701), (3132, 0.005716008880192535), (3133, 0.0427267910437252), (3134, 0.005627021553279929), (3135, 0.005049616430427119), (3136, 0.011302797425965933), (3137, 0.04800262924308277), (3138, 0.0), (3139, 0.004029478711686241), (3140, 0.0), (3141, 0.23177885741917748), (3142, 0.01315564173506168), (3143, 0.0), (3144, 0.013970878267307238), (3145, 0.008664401560571963), (3146, 0.0031834529113140097), (3147, 0.005299051919446906), (3148, 0.0), (3149, 0.0323974655188301), (3150, 0.009955452724114782), (3151, 0.018059172814736867), (3152, 0.03309752012563408), (3153, 0.0), (3154, 0.0), (3155, 0.0028655242704554293), (3156, 0.011672135296669862), (3157, 0.017333317467564786), (3158, 0.0), (3159, 0.0), (3160, 0.005909250298897547), (3161, 0.0), (3162, 0.011483976532176463), (3163, 0.005868132662059745), (3164, 0.012652148512081187), (3165, 0.0), (3166, 0.003947816256176703), (3167, 0.0), (3168, 0.003204753723635149), (3169, 0.002917663493455615), (3170, 0.009653756363859133), (3171, 0.0), (3172, 0.017357208586739243), (3173, 0.006625194735926639), (3174, 0.014796535286673386), (3175, 0.0030497444761822478), (3176, 0.0), (3177, 0.012342990968129942), (3178, 0.027131202321247386), (3179, 0.0), (3180, 0.007636453663657664), (3181, 0.02496678180106063), (3182, 0.03029053826660484), (3183, 0.019094321232419855), (3184, 0.015997601397996497), (3185, 0.0), (3186, 0.0), (3187, 0.0029949872375626763), (3188, 0.009562495830407448), (3189, 0.0029901629768732813), (3190, 0.003297892702191021), (3191, 0.008407938316857159), (3192, 0.01387112147475244), (3193, 0.017777176775697814), (3194, 0.0026863071025424855), (3195, 0.014086484495158367), (3196, 0.0), (3197, 0.01874783562354276), (3198, 0.0029400867257906686), (3199, 0.005164526723732491), (3200, 0.011382566098886571), (3201, 0.011889001783661323), (3202, 0.0058617891036431315), (3203, 0.0034276085107349074), (3204, 0.003809823147954343), (3205, 0.048949589766063256), (3206, 0.0384115358334076), (3207, 0.01052037697095823), (3208, 0.0056674348993035325), (3209, 0.022304589234261776), (3210, 0.006785804299677171), (3211, 0.023197861032914574), (3212, 0.00804958569929234), (3213, 0.00850617817744099), (3214, 0.019694406408738586), (3215, 0.009046060720428701), (3216, 0.006830510206758019), (3217, 0.01674424495371025), (3218, 0.03056343143264448), (3219, 0.0), (3220, 0.019407518338136344), (3221, 0.028924090671937165), (3222, 0.030471272840340125), (3223, 0.005109238327016179), (3224, 0.01352793563900363), (3225, 0.00971614184271023), (3226, 0.04021069395004774), (3227, 0.020664004077334215), (3228, 0.014677394385297148), (3229, 0.011379986723672044), (3230, 0.015623832551244672), (3231, 0.013348669865243298), (3232, 0.013203445725542332), (3233, 0.006860929084789846), (3234, 0.055737807412744325), (3235, 0.007171611289419375), (3236, 0.0030269929552691915), (3237, 0.019957259810805927), (3238, 0.020908367589669748), (3239, 0.019970129188443257), (3240, 0.01952550051069271), (3241, 0.0), (3242, 0.010653852081211895), (3243, 0.0), (3244, 0.08185092133879963), (3245, 0.00287556550050957), (3246, 0.036161470179204), (3247, 0.009177651209358059), (3248, 0.0), (3249, 0.01625125496298796), (3250, 0.019347438610260483), (3251, 0.031991672117728215), (3252, 0.006758764467306134), (3253, 0.01557541974864048), (3254, 0.013253080412802508), (3255, 0.0), (3256, 0.03763089243674966), (3257, 0.01565663745159019), (3258, 0.003094782016546756), (3259, 0.010034888245074787), (3260, 0.009335683453989682), (3261, 0.0), (3262, 0.008831952686976188), (3263, 0.018679670602233193), (3264, 0.03783651479770167), (3265, 0.039953955034461634), (3266, 0.017974358743788135), (3267, 0.01479089522896521), (3268, 0.0), (3269, 0.030212796215717833), (3270, 0.023674393676002624), (3271, 0.013356310078281655), (3272, 0.023449386936711586), (3273, 0.010555762430881294), (3274, 0.0), (3275, 0.007862907735050929), (3276, 0.00813845749153858), (3277, 0.055099128800133707), (3278, 0.0), (3279, 0.0), (3280, 0.0062090599199524565), (3281, 0.0), (3282, 0.02557522564990228), (3283, 0.020027941707680096), (3284, 0.06738925979184775), (3285, 0.0), (3286, 0.015926719544881812), (3287, 0.026241579134131603), (3288, 0.008092833587768527), (3289, 0.013316185228748195), (3290, 0.002928896866810884), (3291, 0.009224016817357274), (3292, 0.0), (3293, 0.015286495142092783), (3294, 0.08143756348734114), (3295, 0.008659167531504596), (3296, 0.0), (3297, 0.0620420591504769), (3298, 0.0), (3299, 0.025468892239849515), (3300, 0.016113417764952124), (3301, 0.0), (3302, 0.009950752778489455), (3303, 0.05205311584131194), (3304, 0.01488385359286787), (3305, 0.018068589521768756), (3306, 0.022417299388387418), (3307, 0.0), (3308, 0.003369400427379022), (3309, 0.010615976679769205), (3310, 0.026421655679758134), (3311, 0.030770780838696627), (3312, 0.007746055628280365), (3313, 0.017516330895721667), (3314, 0.0), (3315, 0.04887953476385038), (3316, 0.009303348905874111), (3317, 0.01092475192031312), (3318, 0.0), (3319, 0.0053219844164109735), (3320, 0.008936856924660373), (3321, 0.008803971964988005), (3322, 0.0), (3323, 0.016562071058776235), (3324, 0.015270488982642834), (3325, 0.01813013849125513), (3326, 0.0), (3327, 0.022956572871941527), (3328, 0.01764214476425987), (3329, 0.058917033890089045), (3330, 0.022936242991277056), (3331, 0.0), (3332, 0.0028801375396036834), (3333, 0.0), (3334, 0.0), (3335, 0.006935218343918133), (3336, 0.027752416524824033), (3337, 0.0032839077658563093), (3338, 0.006394854945841139), (3339, 0.0), (3340, 0.006804111656359248), (3341, 0.02471605402329611), (3342, 0.022452375825902263), (3343, 0.009505561578241799), (3344, 0.03675088542703122), (3345, 0.015571939372316383), (3346, 0.04952467576269446), (3347, 0.012454267230218804), (3348, 0.012574676834328492), (3349, 0.002952728508718474), (3350, 0.037267437100178755), (3351, 0.00297037694480513), (3352, 0.005473856687357693), (3353, 0.008490713023125564), (3354, 0.012775881508282105), (3355, 0.025863832515834576), (3356, 0.01268367595795478), (3357, 0.016151167730828815), (3358, 0.0), (3359, 0.011809405480736307), (3360, 0.04257610272761754), (3361, 0.028250520968883783), (3362, 0.024591906364345637), (3363, 0.0), (3364, 0.02667441161319542), (3365, 0.02448938806746659), (3366, 0.040209378000069136), (3367, 0.005399829127335555), (3368, 0.0065111971103609025), (3369, 0.00874575780873575), (3370, 0.009849898721188483), (3371, 0.030250278521331917), (3372, 0.010657320309137706), (3373, 0.003203294728914142), (3374, 0.013430558337321267), (3375, 0.00275903137813263), (3376, 0.014360225784410104), (3377, 0.006308802920220009), (3378, 0.016949001085250024), (3379, 0.0), (3380, 0.07605974020817413), (3381, 0.0), (3382, 0.009989513155649455), (3383, 0.003222619178509053), (3384, 0.022065988917880645), (3385, 0.025196385663477844), (3386, 0.02341346782406824), (3387, 0.020963287543728535), (3388, 0.020778190613506088), (3389, 0.03179379569650222), (3390, 0.014138075612103448), (3391, 0.0), (3392, 0.015249069463015793), (3393, 0.008183575494444633), (3394, 0.011824240335328171), (3395, 0.028698875836878163), (3396, 0.0), (3397, 0.019362856176500846), (3398, 0.015361215400922914), (3399, 0.041834282364890146), (3400, 0.015941309908880062), (3401, 0.007275475474708048), (3402, 0.00277342183459167), (3403, 0.011685812016782317), (3404, 0.013794603723976138), (3405, 0.01030012488425796), (3406, 0.015804215716241285), (3407, 0.011354125168211772), (3408, 0.024470647452549472), (3409, 0.03118007677970644), (3410, 0.020188488501221034), (3411, 0.008348143996385565), (3412, 0.014415112565842568), (3413, 0.0034184529222605667), (3414, 0.060232338730527385), (3415, 0.020782311192358884), (3416, 0.023052146851081885), (3417, 0.007559888459533725), (3418, 0.012526755664073486), (3419, 0.0344513572538391), (3420, 0.05298567571391541), (3421, 0.006623206283401349), (3422, 0.022260868708968172), (3423, 0.006207677846117951), (3424, 0.02503881456694385), (3425, 0.011757902906729992), (3426, 0.022705234250169695), (3427, 0.005411713425324191), (3428, 0.0029403315633132004), (3429, 0.004666844753956219), (3430, 0.02141186752643158), (3431, 0.00814877574033908), (3432, 0.01420929547087502), (3433, 0.013478100983380368), (3434, 0.0), (3435, 0.006604309168603024), (3436, 0.006908123437260334), (3437, 0.0), (3438, 0.020057154812840046), (3439, 0.010684313137937993), (3440, 0.007975112659905992), (3441, 0.0), (3442, 0.013076069028333526), (3443, 0.02969943613813329), (3444, 0.03470099644521744), (3445, 0.008364069442221213), (3446, 0.006849147749958971), (3447, 0.017380216643215922), (3448, 0.014630490758213186), (3449, 0.019257644894363324), (3450, 0.007745514811954142), (3451, 0.010162608160239076), (3452, 0.0), (3453, 0.007399463946496346), (3454, 0.04201295872911242), (3455, 0.0), (3456, 0.049705111294058815), (3457, 0.012893779968051942), (3458, 0.02947690690266854), (3459, 0.013481002527294549), (3460, 0.012497949420899917), (3461, 0.024594897685270494), (3462, 0.0028813951193508683), (3463, 0.02086589356385575), (3464, 0.027336517691804216), (3465, 0.006334606192767376), (3466, 0.0), (3467, 0.03519415076687069), (3468, 0.007250379857841382), (3469, 0.013506227930085102), (3470, 0.018334100674138477), (3471, 0.0), (3472, 0.01904276408196221), (3473, 0.03251610063546623), (3474, 0.050209240222099716), (3475, 0.004626343118465179), (3476, 0.0), (3477, 0.07524159118918684), (3478, 0.0), (3479, 0.00380083658131631), (3480, 0.006696542635192076), (3481, 0.008008119779909352), (3482, 0.005424357161847975), (3483, 0.03690382163473245), (3484, 0.0055462346352052605), (3485, 0.009736838244162063), (3486, 0.02301182559711274), (3487, 0.007798726020116688), (3488, 0.0), (3489, 0.021264222611300756), (3490, 0.009193399722675962), (3491, 0.013449075055674723), (3492, 0.020202603200927885), (3493, 0.025291798780227057), (3494, 0.0028643228479013315), (3495, 0.0), (3496, 0.003054968449493706), (3497, 0.0), (3498, 0.006558260421159738), (3499, 0.0), (3500, 0.0026404555332651663), (3501, 0.017292088461574994), (3502, 0.027502473792660208), (3503, 0.0027290870172249327), (3504, 0.03445276011249374), (3505, 0.0), (3506, 0.028817661588449714), (3507, 0.023554714398071063), (3508, 0.013479029614696682), (3509, 0.015402323339005831), (3510, 0.014007887614657297), (3511, 0.0), (3512, 0.00436417830430954), (3513, 0.0179791964557375), (3514, 0.0029711854259772447), (3515, 0.03517685624292603), (3516, 0.030137247370630872), (3517, 0.009912379427746972), (3518, 0.049875107453857655), (3519, 0.003133403007964632), (3520, 0.005457798827152028), (3521, 0.012501289640172584), (3522, 0.0083585948397759), (3523, 0.0), (3524, 0.03521025155163), (3525, 0.0), (3526, 0.009737749364932912), (3527, 0.0), (3528, 0.0), (3529, 0.003127380902593647), (3530, 0.0), (3531, 0.009418045045278777), (3532, 0.006207345863148162), (3533, 0.0), (3534, 0.031537132541875484), (3535, 0.0), (3536, 0.012549008976029206), (3537, 0.06584941312479843), (3538, 0.02104257241291344), (3539, 0.02727806837807576), (3540, 0.011835504299098513), (3541, 0.03522189349423071), (3542, 0.0), (3543, 0.009026379959173027), (3544, 0.015816535923904557), (3545, 0.0028248995039497123), (3546, 0.0437239920490308), (3547, 0.011785607132204542), (3548, 0.0), (3549, 0.009840587452034918), (3550, 0.006249004413399227), (3551, 0.013520846387900807), (3552, 0.021132752128135725), (3553, 0.005376896372741202), (3554, 0.00344521768664979), (3555, 0.005225275180985999), (3556, 0.0084777017488875), (3557, 0.006539926213837432), (3558, 0.01001728233811347), (3559, 0.07380214105675931), (3560, 0.0137700098261118), (3561, 0.0448222382509684), (3562, 0.009165184644745005), (3563, 0.0148036024342828), (3564, 0.013448457273649392), (3565, 0.005633325247565992), (3566, 0.047111382881926456), (3567, 0.011555043235901076), (3568, 0.011566427841475282), (3569, 0.0), (3570, 0.002828249210959885), (3571, 0.008730775384738234), (3572, 0.0031509776334835197), (3573, 0.0), (3574, 0.04968352934583765), (3575, 0.008852189514920538), (3576, 0.0), (3577, 0.04169102665805411), (3578, 0.04447308199143278), (3579, 0.019676457660649852), (3580, 0.01851612119545309), (3581, 0.003128640860506094), (3582, 0.05768910469429549), (3583, 0.017267147979138246), (3584, 0.003056557432324796), (3585, 0.005547825100687335), (3586, 0.02021940694628792), (3587, 0.03036382777750845), (3588, 0.0), (3589, 0.002624525915843778), (3590, 0.0), (3591, 0.0029703971477136187), (3592, 0.013692384189407958), (3593, 0.0), (3594, 0.012046577873041354), (3595, 0.009290255101953755), (3596, 0.021256228291370947), (3597, 0.0055176808134809185), (3598, 0.01799816848579164), (3599, 0.024068803249615703), (3600, 0.012175609275811183), (3601, 0.003035272840761497), (3602, 0.015937524703482323), (3603, 0.0029003726201994517), (3604, 0.007539098196932567), (3605, 0.0), (3606, 0.012569200595338366), (3607, 0.0), (3608, 0.0), (3609, 0.007679363359709077), (3610, 0.011238156884927797), (3611, 0.0), (3612, 0.025641928275398247), (3613, 0.010073469756291014), (3614, 0.012956295195508906), (3615, 0.0), (3616, 0.05209085223307485), (3617, 0.0), (3618, 0.01420009434920191), (3619, 0.03855940653326223), (3620, 0.0), (3621, 0.0033489766398012103), (3622, 0.022449843528250725), (3623, 0.007080785634295032), (3624, 0.0), (3625, 0.0), (3626, 0.012461399998824858), (3627, 0.0), (3628, 0.08672818216821643), (3629, 0.009260328084508955), (3630, 0.014219433638665707), (3631, 0.022635818279363645), (3632, 0.016802213946735402), (3633, 0.04216144992303685), (3634, 0.010390471178231997), (3635, 0.007289147802346044), (3636, 0.025249624046046977), (3637, 0.005832274177737233), (3638, 0.03198199909819638), (3639, 0.011613559649116834), (3640, 0.0076549407417879104), (3641, 0.022283949318297986), (3642, 0.007295069651752189), (3643, 0.012286620985622138), (3644, 0.02527383573984682), (3645, 0.0), (3646, 0.018592398522325203), (3647, 0.017964328752246544), (3648, 0.015458547840455758), (3649, 0.003228693943328036), (3650, 0.01659639044896385), (3651, 0.00762922017595406), (3652, 0.0031447321155861196), (3653, 0.0), (3654, 0.014089057747473682), (3655, 0.016380025998671298), (3656, 0.030972544828767594), (3657, 0.011441698876877661), (3658, 0.007995680119932007), (3659, 0.0), (3660, 0.009785625875642646), (3661, 0.013793561914016886), (3662, 0.002844630466115789), (3663, 0.0), (3664, 0.0), (3665, 0.009492541528873277), (3666, 0.0), (3667, 0.023206256230708523), (3668, 0.02053578403703033), (3669, 0.0), (3670, 0.0), (3671, 0.0035427022745630884), (3672, 0.01441943721686359), (3673, 0.002834529134373115), (3674, 0.008032013046531105), (3675, 0.0), (3676, 0.0028760918829735765), (3677, 0.014641173105901632), (3678, 0.023945768930528036), (3679, 0.0), (3680, 0.0), (3681, 0.010562942983861234), (3682, 0.0), (3683, 0.002913274485988471), (3684, 0.014214816384895055), (3685, 0.008081212139889944), (3686, 0.003383434657710593), (3687, 0.03409058706435737), (3688, 0.0031535561642736937), (3689, 0.02089963277903542), (3690, 0.019140734737004374), (3691, 0.0), (3692, 0.0), (3693, 0.004599993189793257), (3694, 0.0), (3695, 0.02218845806055612), (3696, 0.01948258134195475), (3697, 0.04115171322643923), (3698, 0.038577274347248905), (3699, 0.0), (3700, 0.005120998204975121), (3701, 0.025555788477431396), (3702, 0.022524310639553954), (3703, 0.0), (3704, 0.0), (3705, 0.019301357290401257), (3706, 0.068382174248202), (3707, 0.0), (3708, 0.0), (3709, 0.027621110642596793), (3710, 0.0), (3711, 0.03354742756436392), (3712, 0.04441095123001516), (3713, 0.015692550279855236), (3714, 0.0), (3715, 0.003672509767122396), (3716, 0.0025579476774438923), (3717, 0.0), (3718, 0.011183415400632984), (3719, 0.0), (3720, 0.0064358768028474215), (3721, 0.0), (3722, 0.03171415512201168), (3723, 0.03855211330874694), (3724, 0.007071465383468089), (3725, 0.0), (3726, 0.004862946140554183), (3727, 0.006805586418605735), (3728, 0.017578092380470273), (3729, 0.0), (3730, 0.02662254257137154), (3731, 0.024004112573084734), (3732, 0.016528058155936037), (3733, 0.01983612394636898), (3734, 0.0), (3735, 0.00911529396085933), (3736, 0.031752216467206995), (3737, 0.01985696151312763), (3738, 0.007470114665028105), (3739, 0.009619794703417422), (3740, 0.003601874006073577), (3741, 0.03128128948900875), (3742, 0.01233359933934262), (3743, 0.019379577484688687), (3744, 0.006561356314666403), (3745, 0.0), (3746, 0.0065651271034973735), (3747, 0.02143853697985331), (3748, 0.018747412121964048), (3749, 0.007484032947625646), (3750, 0.011411351584266502), (3751, 0.02208902549505468), (3752, 0.022878780274701818), (3753, 0.024770660034978152), (3754, 0.020509122964825658), (3755, 0.002515325964185894), (3756, 0.0), (3757, 0.0), (3758, 0.0034039243139356184), (3759, 0.027348945539803594), (3760, 0.0), (3761, 0.0), (3762, 0.0), (3763, 0.020223793385733855), (3764, 0.005624625428114308), (3765, 0.022388742450590225), (3766, 0.0), (3767, 0.032546405408706194), (3768, 0.0), (3769, 0.0), (3770, 0.0), (3771, 0.01580380199445183), (3772, 0.05458909823249887), (3773, 0.011852716487026802), (3774, 0.015327854181359306), (3775, 0.01978334656163266), (3776, 0.005711707315556832), (3777, 0.007046384036445499), (3778, 0.006927359106183451), (3779, 0.0), (3780, 0.022404331740419545), (3781, 0.0), (3782, 0.00577493578834472), (3783, 0.01278775606571583), (3784, 0.011511815170822684), (3785, 0.01198336322629671), (3786, 0.01940811356772853), (3787, 0.005902383813791284), (3788, 0.00628846822286287), (3789, 0.003361148980204953), (3790, 0.0281315686086332), (3791, 0.00324750304421857), (3792, 0.03829264459326068), (3793, 0.0067479066918392045), (3794, 0.0), (3795, 0.004822712655494632), (3796, 0.013429727104991634), (3797, 0.006003530442145077), (3798, 0.014063714003076648), (3799, 0.0), (3800, 0.017142758257767676), (3801, 0.009721254972793313), (3802, 0.007515938231971191), (3803, 0.02013891143077836), (3804, 0.0), (3805, 0.01635671023623992), (3806, 0.005675356882929223), (3807, 0.0), (3808, 0.01905291478592866), (3809, 0.0), (3810, 0.006795736346325499), (3811, 0.0026830134278245624), (3812, 0.011209357760655861), (3813, 0.019403133450080486), (3814, 0.0), (3815, 0.0), (3816, 0.0), (3817, 0.027049117948868773), (3818, 0.009436173681157057), (3819, 0.006296915162967418), (3820, 0.07153286825809384), (3821, 0.010142872861724474), (3822, 0.016775456555199863), (3823, 0.026492662396675082), (3824, 0.009137241351039877), (3825, 0.016941114195472694), (3826, 0.032524461209432365), (3827, 0.0), (3828, 0.02168520338659922), (3829, 0.0232894337884599), (3830, 0.0), (3831, 0.00731332388176207), (3832, 0.006948876975010272), (3833, 0.0), (3834, 0.012966564086141878), (3835, 0.0032674606166648882), (3836, 0.026192411191284008), (3837, 0.0031240321998454285), (3838, 0.0), (3839, 0.016988936439082686), (3840, 0.03710063982832328), (3841, 0.01201375176413733), (3842, 0.0025904245776655014), (3843, 0.0), (3844, 0.011996623235198888), (3845, 0.002968574588791018), (3846, 0.014448484589096373), (3847, 0.00845862752127932), (3848, 0.012874074634720706), (3849, 0.038231631902422264), (3850, 0.0), (3851, 0.00325857118256956), (3852, 0.00581097727367983), (3853, 0.0), (3854, 0.006167261193671166), (3855, 0.013781996052435743), (3856, 0.0024630895032126997), (3857, 0.007407371177994073), (3858, 0.010911316579703742), (3859, 0.0026919674841442147), (3860, 0.01858148601061766), (3861, 0.018266551878598637), (3862, 0.0), (3863, 0.0), (3864, 0.016753158664676193), (3865, 0.024253447622611366), (3866, 0.010968076758741037), (3867, 0.0), (3868, 0.022800630264374875), (3869, 0.02065921405326041), (3870, 0.031155092194324996), (3871, 0.005627103937902559), (3872, 0.0), (3873, 0.007193437532769859), (3874, 0.0), (3875, 0.039569408804980104), (3876, 0.008703394745444895), (3877, 0.020918238854038988), (3878, 0.017863220203516536), (3879, 0.0027592507817187552), (3880, 0.01898368556084131), (3881, 0.006415449457857943), (3882, 0.01806040502119367), (3883, 0.0), (3884, 0.02480343721781611), (3885, 0.0025890639294202317), (3886, 0.029622944113105586), (3887, 0.0), (3888, 0.0028160250144128114), (3889, 0.003086592096432031), (3890, 0.01841111356330742), (3891, 0.013996930909661778), (3892, 0.0036997724441973066), (3893, 0.0), (3894, 0.005848971485664963), (3895, 0.008300037929629415), (3896, 0.0027443563823037684), (3897, 0.007070924098505842), (3898, 0.0), (3899, 0.0), (3900, 0.00975779223604831), (3901, 0.0), (3902, 0.0), (3903, 0.04301193556390949), (3904, 0.0), (3905, 0.003010505012882854), (3906, 0.0079804901203618), (3907, 0.019431872175270003), (3908, 0.006815869983469109), (3909, 0.02150706085441797), (3910, 0.00890889090132001), (3911, 0.008201896054077772), (3912, 0.002907659637111399), (3913, 0.04334546547505118), (3914, 0.016658153256791746), (3915, 0.02677088808615), (3916, 0.010504311300701046), (3917, 0.011601575294361982), (3918, 0.0), (3919, 0.015618133556979124), (3920, 0.006907907333989008), (3921, 0.018649222328908935), (3922, 0.0035133809964716816), (3923, 0.08187141290349118), (3924, 0.014662209470335882), (3925, 0.0), (3926, 0.014964420921812022), (3927, 0.01006672416465941), (3928, 0.0055708121338184854), (3929, 0.0), (3930, 0.01681555600532731), (3931, 0.0033293182321608443), (3932, 0.0), (3933, 0.02396800958036795), (3934, 0.006044520050092484), (3935, 0.016176371743253898), (3936, 0.0036004016511922703), (3937, 0.0263604733605092), (3938, 0.0), (3939, 0.0), (3940, 0.01860977211459804), (3941, 0.002667049480410812), (3942, 0.04692067796819914), (3943, 0.0030591730676319093), (3944, 0.005375923110979015), (3945, 0.0), (3946, 0.004207208232658241), (3947, 0.0), (3948, 0.007220926227478806), (3949, 0.003912260338109772), (3950, 0.025387757164107797), (3951, 0.014112028649566153), (3952, 0.003263811611896013), (3953, 0.0), (3954, 0.005120219207420748), (3955, 0.006655347682832639), (3956, 0.0), (3957, 0.06176095726300948), (3958, 0.006955886942157211), (3959, 0.02466675549714724), (3960, 0.007560721402987408), (3961, 0.015799311309233764), (3962, 0.0224537347447771), (3963, 0.02898839346217648), (3964, 0.012237505110639764), (3965, 0.029601877387844876), (3966, 0.0062198804491772385), (3967, 0.006292395728280547), (3968, 0.005661607757255868), (3969, 0.01298591657363609), (3970, 0.028325992016162104), (3971, 0.0022951808423631545), (3972, 0.006175089526724292), (3973, 0.0118365702358478), (3974, 0.0), (3975, 0.0), (3976, 0.008795701129812983), (3977, 0.005822834053120685), (3978, 0.0), (3979, 0.014394965971764633), (3980, 0.022778854643378692), (3981, 0.0), (3982, 0.00538999725881733), (3983, 0.02720543949240226), (3984, 0.002993120182011937), (3985, 0.0), (3986, 0.012053593917889696), (3987, 0.0), (3988, 0.0035823398355290313), (3989, 0.0), (3990, 0.0), (3991, 0.005084344911216727), (3992, 0.0032171159598984585), (3993, 0.0), (3994, 0.006480995919480113), (3995, 0.0), (3996, 0.003393404716818525), (3997, 0.02533267644125535), (3998, 0.01439368146772481), (3999, 0.021112807426394976), (4000, 0.006672826262227385), (4001, 0.021645922513586373), (4002, 0.01555784410432616), (4003, 0.0031438778732174387), (4004, 0.02413206036188901), (4005, 0.007188379599151307), (4006, 0.016806765085615398), (4007, 0.02124408142100697), (4008, 0.008584028802740184), (4009, 0.01615652501642059), (4010, 0.0032839488689638927), (4011, 0.007670063525625866), (4012, 0.01166638012835163), (4013, 0.007260894748131319), (4014, 0.0), (4015, 0.022166309137761978), (4016, 0.02031054521640404), (4017, 0.0), (4018, 0.004851524806772119), (4019, 0.0), (4020, 0.006733887518502138), (4021, 0.0), (4022, 0.0), (4023, 0.0317892868186405), (4024, 0.0), (4025, 0.02953973037838928), (4026, 0.006271385889347439), (4027, 0.0030052745463942537), (4028, 0.0), (4029, 0.009515777171154217), (4030, 0.0), (4031, 0.017425490816490877), (4032, 0.02967628134229475), (4033, 0.0), (4034, 0.024102555157983648), (4035, 0.00719694009351021), (4036, 0.016028593237020248), (4037, 0.002696122289650729), (4038, 0.032833813252104466), (4039, 0.0), (4040, 0.003672523005276545), (4041, 0.0054530546906619), (4042, 0.0075811595465948576), (4043, 0.0), (4044, 0.0), (4045, 0.0), (4046, 0.03377795431816079), (4047, 0.0), (4048, 0.0), (4049, 0.0028884388224328242), (4050, 0.0), (4051, 0.003175197517232076), (4052, 0.01731440410967457), (4053, 0.0), (4054, 0.0030178157151875815), (4055, 0.05125222243712717), (4056, 0.005362216204502687), (4057, 0.01795984029090059), (4058, 0.003540027931841234), (4059, 0.006236747904814578), (4060, 0.0), (4061, 0.04113851341045799), (4062, 0.024473198810695016), (4063, 0.013210088320554546), (4064, 0.01955371843906418), (4065, 0.0), (4066, 0.016745885349352507), (4067, 0.010080514446324714), (4068, 0.02308394492457604), (4069, 0.006497901130632579), (4070, 0.02690157367197904), (4071, 0.018147740839148864), (4072, 0.0), (4073, 0.01842035038621082), (4074, 0.010853584443807879), (4075, 0.0), (4076, 0.01299285297700933), (4077, 0.01926681732943273), (4078, 0.007464836611812613), (4079, 0.0), (4080, 0.0), (4081, 0.009533976980713123), (4082, 0.0), (4083, 0.007166087152301195), (4084, 0.0036596301376545857), (4085, 0.0), (4086, 0.008913781403425492), (4087, 0.022236448314107572), (4088, 0.006894176815135765), (4089, 0.0), (4090, 0.0), (4091, 0.020643685532441773), (4092, 0.007767715643068115), (4093, 0.002911299162011535), (4094, 0.006100249038526906), (4095, 0.0), (4096, 0.0), (4097, 0.003116724894748732), (4098, 0.009718956926226286), (4099, 0.02849124915837201), (4100, 0.0), (4101, 0.05544949501194983), (4102, 0.0036136221247751368), (4103, 0.00542052342048198), (4104, 0.0025227117469831845), (4105, 0.0031946342922114326), (4106, 0.01679871385783244), (4107, 0.0), (4108, 0.026973662882610997), (4109, 0.017791370570736372), (4110, 0.02506781847821729), (4111, 0.013909895638022649), (4112, 0.014550174281846979), (4113, 0.01078503571209024), (4114, 0.0), (4115, 0.013101735505707974), (4116, 0.0), (4117, 0.0032488338219624794), (4118, 0.04175714199715921), (4119, 0.029930795968258032), (4120, 0.007433860018335292), (4121, 0.034909589757122626), (4122, 0.0), (4123, 0.0), (4124, 0.006310481208205654), (4125, 0.045847615221627044), (4126, 0.0), (4127, 0.0034546549327925166), (4128, 0.00537166138699004), (4129, 0.0), (4130, 0.03579500458331027), (4131, 0.003045642230528747), (4132, 0.0030634600429785283), (4133, 0.0), (4134, 0.007445300477645482), (4135, 0.00965014886242918), (4136, 0.02246342196000884), (4137, 0.006730345475798657), (4138, 0.0), (4139, 0.0), (4140, 0.010609360370889758), (4141, 0.009674339864106452), (4142, 0.02962854302267425), (4143, 0.012164826555433016), (4144, 0.024773662558678536), (4145, 0.0), (4146, 0.0), (4147, 0.0034654414700000876), (4148, 0.017713457073683787), (4149, 0.0057547175385500885), (4150, 0.007636509274907718), (4151, 0.0), (4152, 0.011506674094775484), (4153, 0.03534675247229871), (4154, 0.0), (4155, 0.006371305730174639), (4156, 0.03667934972745601), (4157, 0.006535403331792853), (4158, 0.010384571631473247), (4159, 0.0), (4160, 0.006044720198995088), (4161, 0.0), (4162, 0.0), (4163, 0.0), (4164, 0.02198410428106285), (4165, 0.014947530689471154), (4166, 0.025810693181446243), (4167, 0.00876097926133333), (4168, 0.012394245253707609), (4169, 0.0), (4170, 0.0), (4171, 0.004713339482277455), (4172, 0.0), (4173, 0.003045059197771776), (4174, 0.027621177257979183), (4175, 0.00716338251497815), (4176, 0.006132354902250357), (4177, 0.007506604039093283), (4178, 0.0), (4179, 0.0), (4180, 0.0030075827480800007), (4181, 0.013358130317479882), (4182, 0.011379214313282697), (4183, 0.015853542411577666), (4184, 0.009612473997903204), (4185, 0.0), (4186, 0.022244997867087394), (4187, 0.0), (4188, 0.01347154961195297), (4189, 0.030561240413981478), (4190, 0.003394325204417852), (4191, 0.009975745780018306), (4192, 0.015672212202918874), (4193, 0.0049029811448024156), (4194, 0.023011573101860854), (4195, 0.00823239884654612), (4196, 0.01764808599036352), (4197, 0.0029013966748679494), (4198, 0.0037580073705974237), (4199, 0.030133779179707967), (4200, 0.02460148700444723), (4201, 0.035937874178064), (4202, 0.0), (4203, 0.01731812509593332), (4204, 0.003387429974469574), (4205, 0.022716413762724583), (4206, 0.03285035936413369), (4207, 0.0030887261582983635), (4208, 0.0), (4209, 0.00824356826519414), (4210, 0.045132480599004064), (4211, 0.005292287116808579), (4212, 0.0), (4213, 0.002706290021561197), (4214, 0.002882809870440926), (4215, 0.0), (4216, 0.0), (4217, 0.01717909245425175), (4218, 0.03184408082335269), (4219, 0.0), (4220, 0.016728699727797457), (4221, 0.0), (4222, 0.003816968570521151), (4223, 0.004362458125181997), (4224, 0.011985508279655274), (4225, 0.0), (4226, 0.01633344673152686), (4227, 0.018928444892149357), (4228, 0.0), (4229, 0.0), (4230, 0.021969978264277313), (4231, 0.0), (4232, 0.007051622837674089), (4233, 0.006028843299473806), (4234, 0.00277641782779025), (4235, 0.0), (4236, 0.010003391900582217), (4237, 0.024096290083015406), (4238, 0.006291259413500335), (4239, 0.023707836477569084), (4240, 0.01462436779531575), (4241, 0.006595722101267343), (4242, 0.008285238967093005), (4243, 0.0), (4244, 0.0), (4245, 0.0), (4246, 0.010374734793856718), (4247, 0.04614504146611168), (4248, 0.006823343966825926), (4249, 0.0), (4250, 0.0), (4251, 0.0), (4252, 0.0091548684866131), (4253, 0.0), (4254, 0.0026723133003029964), (4255, 0.00549967351268279), (4256, 0.0030201983343425285), (4257, 0.014074297488760375), (4258, 0.0031009775608260306), (4259, 0.00316131114367242), (4260, 0.0030081097714426326), (4261, 0.0), (4262, 0.006923849575262962), (4263, 0.06138964549846252), (4264, 0.0), (4265, 0.021380294718273275), (4266, 0.03101665556416433), (4267, 0.10841787877057246), (4268, 0.0), (4269, 0.01293648211660049), (4270, 0.03536895927999223), (4271, 0.00825224218315513), (4272, 0.019288501258710383), (4273, 0.0), (4274, 0.0), (4275, 0.0), (4276, 0.0), (4277, 0.0), (4278, 0.006805464773453836), (4279, 0.014187501351382251), (4280, 0.0), (4281, 0.007707971116955485), (4282, 0.01841695804794733), (4283, 0.012293778171173768), (4284, 0.00654365814986672), (4285, 0.09848904432370129), (4286, 0.0), (4287, 0.0029403301451826824), (4288, 0.005485133561652776), (4289, 0.015829846452567426), (4290, 0.012038478347400565), (4291, 0.002842065653302105), (4292, 0.025396299134164545), (4293, 0.0031758507904885128), (4294, 0.013886411679097582), (4295, 0.0032494419508387984), (4296, 0.0), (4297, 0.014830867757294544), (4298, 0.0), (4299, 0.0), (4300, 0.008301792628918083), (4301, 0.0), (4302, 0.0), (4303, 0.013119756612321391), (4304, 0.002554357684719162), (4305, 0.008893620395046018), (4306, 0.0), (4307, 0.009106728745539607), (4308, 0.0031211030972367712), (4309, 0.0), (4310, 0.0), (4311, 0.00231226647454618), (4312, 0.014330434161635935), (4313, 0.0), (4314, 0.021029101560400887), (4315, 0.003030834629557413), (4316, 0.0), (4317, 0.0032273060032112044), (4318, 0.015125594743663387), (4319, 0.002925281395242482), (4320, 0.009457419711562751), (4321, 0.009244390873155725), (4322, 0.006284729242171988), (4323, 0.017279118593512006), (4324, 0.012208892855631072), (4325, 0.010163294865401913), (4326, 0.0), (4327, 0.020104253988632415), (4328, 0.012460457990762801), (4329, 0.002922295732130928), (4330, 0.013540669005014324), (4331, 0.0), (4332, 0.017558420385949743), (4333, 0.0), (4334, 0.008383432169403616), (4335, 0.037779627056739144), (4336, 0.005240303636821302), (4337, 0.03930728384913389), (4338, 0.03387076885847885), (4339, 0.01223722324736366), (4340, 0.021196195731725556), (4341, 0.009771336708844865), (4342, 0.018619355227592258), (4343, 0.0), (4344, 0.02297295267873), (4345, 0.0), (4346, 0.029383767427923983), (4347, 0.011860380618181229), (4348, 0.006133083994574252), (4349, 0.01578502040576352), (4350, 0.008546085509387761), (4351, 0.021803718570600983), (4352, 0.017376356840101186), (4353, 0.01707566165524463), (4354, 0.0056399260521612276), (4355, 0.007166896139961596), (4356, 0.018340655744064453), (4357, 0.04026732442823047), (4358, 0.07404648868538771), (4359, 0.0), (4360, 0.0), (4361, 0.0), (4362, 0.0), (4363, 0.006984942586264264), (4364, 0.0148869732062036), (4365, 0.0), (4366, 0.014574153631885883), (4367, 0.008015402393888139), (4368, 0.0075057696554710705), (4369, 0.0), (4370, 0.00303961690944845), (4371, 0.008869738267354682), (4372, 0.0), (4373, 0.009104492487223767), (4374, 0.01904705259129712), (4375, 0.006969427801216039), (4376, 0.02077203356561095), (4377, 0.0), (4378, 0.00858030767503815), (4379, 0.00690985338789847), (4380, 0.021695142908562812), (4381, 0.0), (4382, 0.002752035289482988), (4383, 0.010182982821827112), (4384, 0.0), (4385, 0.0047219988448350455), (4386, 0.0), (4387, 0.023842682925573226), (4388, 0.023705470727843153), (4389, 0.0), (4390, 0.0), (4391, 0.010255082897765045), (4392, 0.0), (4393, 0.0), (4394, 0.00944204099669978), (4395, 0.015801463120936783), (4396, 0.007526614128228791), (4397, 0.0), (4398, 0.0), (4399, 0.012605618230709192), (4400, 0.0), (4401, 0.00602358582326713), (4402, 0.006166737006608264), (4403, 0.0), (4404, 0.0029077093770562517), (4405, 0.004899826500152072), (4406, 0.007054214806053979), (4407, 0.0), (4408, 0.015600378123415918), (4409, 0.0), (4410, 0.0), (4411, 0.015234761115333293), (4412, 0.0), (4413, 0.02167775749422585), (4414, 0.023251427709411604), (4415, 0.0), (4416, 0.0), (4417, 0.0), (4418, 0.007080768438144851), (4419, 0.014134609070864161), (4420, 0.0030010281841599392), (4421, 0.0029709473177422967), (4422, 0.002941106690268553), (4423, 0.01780141781528947), (4424, 0.0), (4425, 0.0), (4426, 0.0024556988771538783), (4427, 0.0), (4428, 0.017969763525095144), (4429, 0.0), (4430, 0.014986802663944821), (4431, 0.014264463042656718), (4432, 0.02754119547551986), (4433, 0.0029693194931030933), (4434, 0.0027263640825985615), (4435, 0.0081499734689677), (4436, 0.02029574232652581), (4437, 0.007680196157809368), (4438, 0.006393831033514101), (4439, 0.004955125263319463), (4440, 0.03148141545931694), (4441, 0.01924608349666749), (4442, 0.009229339385581825), (4443, 0.0), (4444, 0.008736193581610667), (4445, 0.0), (4446, 0.028261560666599708), (4447, 0.0025820840880333568), (4448, 0.009937045893035465), (4449, 0.007825189614111813), (4450, 0.011875367856552636), (4451, 0.003357951792292781), (4452, 0.0032191109217911493), (4453, 0.003177735777288251), (4454, 0.02661954049859304), (4455, 0.01631614733388858), (4456, 0.005552244225734067), (4457, 0.008207042033604802), (4458, 0.0), (4459, 0.0412980675458281), (4460, 0.02153329410885231), (4461, 0.0), (4462, 0.0075366131064570924), (4463, 0.010626409900148792), (4464, 0.021630132451666693), (4465, 0.0), (4466, 0.01548695383309832), (4467, 0.018061878544190696), (4468, 0.029641376506575282), (4469, 0.0), (4470, 0.0), (4471, 0.030358409913919235), (4472, 0.012949740456578582), (4473, 0.00828710545884568), (4474, 0.0), (4475, 0.0), (4476, 0.013736512819274436), (4477, 0.0077914513423422175), (4478, 0.014495629574343881), (4479, 0.013183522067865595), (4480, 0.04830417259482959), (4481, 0.006371996273925425), (4482, 0.026734371781448628), (4483, 0.003395067635914319), (4484, 0.012946241857487984), (4485, 0.0), (4486, 0.045844900503811646), (4487, 0.0), (4488, 0.0), (4489, 0.0030185076711379444), (4490, 0.0), (4491, 0.005866234213831765), (4492, 0.0418059174911352), (4493, 0.005838770183471883), (4494, 0.0), (4495, 0.0), (4496, 0.024962753813243543), (4497, 0.022331706375768236), (4498, 0.027975770139528837), (4499, 0.023392911413689287), (4500, 0.0), (4501, 0.030200903337452782), (4502, 0.00865971864101778), (4503, 0.043119740314529226), (4504, 0.015587783134853404), (4505, 0.015151488673799998), (4506, 0.0033979288015390497), (4507, 0.003269014054113403), (4508, 0.0), (4509, 0.01342089498282895), (4510, 0.0), (4511, 0.012029183606167976), (4512, 0.0), (4513, 0.017644634580293635), (4514, 0.0034425038457968848), (4515, 0.007421187711782996), (4516, 0.015547375314731512), (4517, 0.021447233680219852), (4518, 0.0173765438441738), (4519, 0.006608557203002104), (4520, 0.0), (4521, 0.021402068316335638), (4522, 0.0031015598142215095), (4523, 0.05797859100550136), (4524, 0.014432590530078887), (4525, 0.016284487182558493), (4526, 0.006149276579590883), (4527, 0.0), (4528, 0.0), (4529, 0.0), (4530, 0.002783422506157558), (4531, 0.022453392815788707), (4532, 0.0), (4533, 0.005517750429408898), (4534, 0.0), (4535, 0.00603437391102157), (4536, 0.0), (4537, 0.0037047408904552145), (4538, 0.0), (4539, 0.0), (4540, 0.0), (4541, 0.027467604627171203), (4542, 0.010888381286324392), (4543, 0.0), (4544, 0.0), (4545, 0.0074279114759635235), (4546, 0.0), (4547, 0.0), (4548, 0.015139669470428031), (4549, 0.01501275644139208), (4550, 0.011691907522700187), (4551, 0.01476136161213809), (4552, 0.011415369394820338), (4553, 0.00588239183440305), (4554, 0.02425004726118515), (4555, 0.004289418435207913), (4556, 0.008905654168376811), (4557, 0.008737877394112374), (4558, 0.021172584230118516), (4559, 0.0), (4560, 0.003026664946261701), (4561, 0.0), (4562, 0.0035356282651065433), (4563, 0.0), (4564, 0.01957666140769372), (4565, 0.0), (4566, 0.015701124979305134), (4567, 0.0), (4568, 0.01246714064585243), (4569, 0.02942080212633874), (4570, 0.009846924864494037), (4571, 0.0045224471664998276), (4572, 0.0210438334752416), (4573, 0.0), (4574, 0.007349422694207869), (4575, 0.0), (4576, 0.02743381540576948), (4577, 0.00891557031139241), (4578, 0.0), (4579, 0.0), (4580, 0.0031759081493747915), (4581, 0.013684649804017018), (4582, 0.008457384583362449), (4583, 0.016219243269299497), (4584, 0.020906554138174768), (4585, 0.0), (4586, 0.0), (4587, 0.013906278803698718), (4588, 0.005221343163327775), (4589, 0.02995624930809483), (4590, 0.012118129661762967), (4591, 0.03248641095988247), (4592, 0.009485720833071544), (4593, 0.0074806040863418955), (4594, 0.015779279115078784), (4595, 0.007279396251357355), (4596, 0.03894014273427498), (4597, 0.016584951764756807), (4598, 0.012593985200978331), (4599, 0.03869558475644119), (4600, 0.016130698156173708), (4601, 0.00736338597243402), (4602, 0.007381005065397999), (4603, 0.03970401712220642), (4604, 0.00670515354542947), (4605, 0.015036111490079471), (4606, 0.0), (4607, 0.03466757485628634), (4608, 0.0060911356357200306), (4609, 0.034422470357582155), (4610, 0.006941818971548627), (4611, 0.010885934031164847), (4612, 0.01684745863199387), (4613, 0.03424204324669006), (4614, 0.0), (4615, 0.0), (4616, 0.0), (4617, 0.0), (4618, 0.0), (4619, 0.0), (4620, 0.028533197162095236), (4621, 0.006969030824556396), (4622, 0.003021036826601327), (4623, 0.009447261417219337), (4624, 0.021184392402794468), (4625, 0.0), (4626, 0.004358861361442153), (4627, 0.010577845701317954), (4628, 0.015661514714071102), (4629, 0.006957174398717807), (4630, 0.0), (4631, 0.024278222681094815), (4632, 0.0), (4633, 0.028398416244541116), (4634, 0.006223034947376536), (4635, 0.00948599585860592), (4636, 0.002400076470614813), (4637, 0.0), (4638, 0.007399119379150679), (4639, 0.0), (4640, 0.0), (4641, 0.0), (4642, 0.01689251483908744), (4643, 0.005545712370760711), (4644, 0.0), (4645, 0.029029188509037594), (4646, 0.017080515868322422), (4647, 0.008604203240989108), (4648, 0.002943378670912256), (4649, 0.011106979750810438), (4650, 0.003279903238833195), (4651, 0.0), (4652, 0.021659390094122155), (4653, 0.017500957366216964), (4654, 0.0), (4655, 0.003012490563537924), (4656, 0.007254279829838088), (4657, 0.007382240592383382), (4658, 0.03375315622893256), (4659, 0.02186343849777752), (4660, 0.016519494960709556), (4661, 0.008404541554922844), (4662, 0.04069864235031301), (4663, 0.005516738895896003), (4664, 0.006209185872783178), (4665, 0.0), (4666, 0.0), (4667, 0.0026615373211591685), (4668, 0.0), (4669, 0.011052030490116894), (4670, 0.0), (4671, 0.0), (4672, 0.0), (4673, 0.006648096696229573), (4674, 0.032576352166171524), (4675, 0.017754320748375373), (4676, 0.0147167927278671), (4677, 0.013875294381460445), (4678, 0.027822114993038546), (4679, 0.01776098158465491), (4680, 0.0), (4681, 0.0), (4682, 0.018206814640209675), (4683, 0.0), (4684, 0.0), (4685, 0.011873956948887179), (4686, 0.006709789209437184), (4687, 0.006521055815152432), (4688, 0.002825950711741759), (4689, 0.024786024867911684), (4690, 0.0026690364703116955), (4691, 0.0), (4692, 0.0), (4693, 0.0), (4694, 0.0), (4695, 0.01274606811819357), (4696, 0.0), (4697, 0.0), (4698, 0.0), (4699, 0.0), (4700, 0.11363774338615547), (4701, 0.008017896704320378), (4702, 0.0028900203530243846), (4703, 0.0057783880816652524), (4704, 0.0), (4705, 0.024515112297557665), (4706, 0.003161938012617818), (4707, 0.0), (4708, 0.04196140522847129), (4709, 0.019456543412310092), (4710, 0.008676245683369431), (4711, 0.0033590668782955877), (4712, 0.0), (4713, 0.0), (4714, 0.0), (4715, 0.01782891981037682), (4716, 0.0), (4717, 0.0033605748077658545), (4718, 0.0), (4719, 0.005512178068098112), (4720, 0.0034543808969761465), (4721, 0.0035421833342501453), (4722, 0.0), (4723, 0.0), (4724, 0.0), (4725, 0.023070603178174963), (4726, 0.015482804247964683), (4727, 0.0), (4728, 0.0), (4729, 0.0), (4730, 0.0), (4731, 0.0), (4732, 0.017615600475140294), (4733, 0.0), (4734, 0.0030757081770942355), (4735, 0.0), (4736, 0.024495457761357548), (4737, 0.003227018996855273), (4738, 0.008267529883723077), (4739, 0.011063175098875519), (4740, 0.0), (4741, 0.0), (4742, 0.015052198436388893), (4743, 0.009251289050584574), (4744, 0.0023071669220358273), (4745, 0.03524345492767198), (4746, 0.003228044827030168), (4747, 0.007742308518332728), (4748, 0.010474527395701018), (4749, 0.0), (4750, 0.0), (4751, 0.0), (4752, 0.01648552722895498), (4753, 0.0), (4754, 0.018659211663512122), (4755, 0.006709590745777296), (4756, 0.002954098866965307), (4757, 0.01065640093814242), (4758, 0.0), (4759, 0.0)]\n"
          ]
        }
      ]
    },
    {
      "cell_type": "code",
      "source": [
        "len(Recomendation_score)"
      ],
      "metadata": {
        "id": "Yuwh6b36scYX",
        "colab": {
          "base_uri": "https://localhost:8080/"
        },
        "outputId": "cf49e2b6-434c-426a-d2b9-e7839d3b15ab"
      },
      "execution_count": 38,
      "outputs": [
        {
          "output_type": "execute_result",
          "data": {
            "text/plain": [
              "4760"
            ]
          },
          "metadata": {},
          "execution_count": 38
        }
      ]
    },
    {
      "cell_type": "code",
      "source": [
        "Sorted_Similar_Movies = sorted(Recomendation_score, key = lambda X:X[1], reverse = True)\n",
        "print(Sorted_Similar_Movies)"
      ],
      "metadata": {
        "id": "cST5LpVDsoh4",
        "colab": {
          "base_uri": "https://localhost:8080/"
        },
        "outputId": "d511eed4-bf04-42f9-cb97-7ac1ab400db0"
      },
      "execution_count": 40,
      "outputs": [
        {
          "output_type": "stream",
          "name": "stdout",
          "text": [
            "[(336, 1.0), (82, 0.26818408564519874), (3141, 0.23177885741917748), (1051, 0.20932411438623763), (849, 0.17388862548214076), (22, 0.16469593616427958), (594, 0.16014936593977033), (250, 0.13392492278549267), (37, 0.12965080568436715), (1351, 0.11911087644192392), (4700, 0.11363774338615547), (2582, 0.11113939056035188), (3086, 0.11076528582613268), (1616, 0.10974106319738702), (4267, 0.10841787877057246), (1631, 0.10366323306216627), (1022, 0.10224425975191684), (853, 0.10166322366735178), (4285, 0.09848904432370129), (2892, 0.09738076790576661), (2376, 0.09736928651508417), (455, 0.09700426662024414), (2027, 0.09446555395643279), (396, 0.09193666169393275), (1463, 0.09109045314461528), (2985, 0.09004645436279393), (2341, 0.08938021479782621), (1095, 0.089227490580994), (1045, 0.0886809556507841), (1705, 0.08843336701515013), (1254, 0.08820488823324005), (1582, 0.08716237659509789), (3628, 0.08672818216821643), (507, 0.08506649148804102), (2285, 0.08444641224776349), (1374, 0.0841727746222162), (3923, 0.08187141290349118), (3244, 0.08185092133879963), (3294, 0.08143756348734114), (1903, 0.08134116986992482), (266, 0.08055504910958315), (1319, 0.07968583161530204), (218, 0.07772176589083438), (97, 0.0770059835104744), (3380, 0.07605974020817413), (3477, 0.07524159118918684), (2584, 0.07505135822304138), (1142, 0.0748433561183147), (1046, 0.07465021297332707), (2622, 0.07444763867223556), (4358, 0.07404648868538771), (3559, 0.07380214105675931), (1787, 0.07332291452270144), (2354, 0.07311177264001498), (3820, 0.07153286825809384), (148, 0.07141550526396134), (269, 0.0714051298586186), (35, 0.07028068064605628), (130, 0.0699690015596783), (2322, 0.06996066982077956), (1928, 0.0690068621206817), (2867, 0.06856026997703996), (3706, 0.068382174248202), (108, 0.068017965978042), (1301, 0.06782934674140835), (2701, 0.06742720800050647), (3284, 0.06738925979184775), (428, 0.06737071352409413), (1613, 0.06626781677675123), (787, 0.06620925265717234), (3537, 0.06584941312479843), (803, 0.0653124483552622), (789, 0.06522296743222088), (2332, 0.06474611074687708), (1525, 0.06439464062964916), (1577, 0.06435577401135882), (3053, 0.06430616219706248), (247, 0.06424601571017202), (726, 0.06335543391078588), (966, 0.06286033546612511), (3297, 0.0620420591504769), (725, 0.061877008842019916), (1501, 0.06184119837761698), (3957, 0.06176095726300948), (4263, 0.06138964549846252), (2028, 0.06102672987716301), (263, 0.06059995338365863), (2074, 0.0605499641479589), (2221, 0.060529567890296614), (2627, 0.06052539432058274), (3414, 0.060232338730527385), (752, 0.06018564702785753), (2456, 0.05986375108540426), (2925, 0.05977882303772789), (2459, 0.059625959231031735), (264, 0.059624830789339237), (3329, 0.058917033890089045), (1948, 0.05883345201633588), (1788, 0.058307127884880135), (2218, 0.05827063303922072), (2640, 0.058043688129381966), (2367, 0.05799586981248674), (4523, 0.05797859100550136), (3582, 0.05768910469429549), (895, 0.05765668286713674), (919, 0.05761712688237783), (1608, 0.05754124893587503), (401, 0.057362724870128376), (1105, 0.05727410730052061), (1731, 0.057208967238139743), (901, 0.05710480387959065), (939, 0.05666794251939851), (1442, 0.056633854736692774), (1650, 0.056169494340998494), (3234, 0.055737807412744325), (2000, 0.05559802434136464), (4101, 0.05544949501194983), (2513, 0.05511440405806752), (3277, 0.055099128800133707), (1386, 0.05459054845074523), (3772, 0.05458909823249887), (170, 0.05454771425854156), (1493, 0.05441573590535436), (2443, 0.054056368376282166), (2853, 0.05386732083904382), (1908, 0.053842851098759435), (119, 0.05356505682191246), (1314, 0.05354883013669244), (1178, 0.0533057746456895), (249, 0.05321922119391508), (15, 0.053095183584509646), (3420, 0.05298567571391541), (2642, 0.052904416963836576), (678, 0.05255404295065941), (1479, 0.052529142578737885), (1574, 0.05248485914358607), (1267, 0.052195043506716964), (1698, 0.052183874978217235), (1306, 0.052122142529439246), (3616, 0.05209085223307485), (3303, 0.05205311584131194), (3, 0.05151651443531151), (963, 0.051348327450390904), (4055, 0.05125222243712717), (57, 0.05114061751977599), (2951, 0.051034809078340265), (2504, 0.05086093339178373), (2729, 0.05074412449105638), (757, 0.05071071838795437), (3073, 0.05055760628323964), (362, 0.050526280462422746), (191, 0.050345366926518954), (2647, 0.05033229175902148), (562, 0.05021917040861017), (3474, 0.050209240222099716), (3518, 0.049875107453857655), (3129, 0.04978990544514494), (3456, 0.049705111294058815), (3574, 0.04968352934583765), (3346, 0.04952467576269446), (2732, 0.049289095040737564), (2793, 0.04912730830559671), (926, 0.0490889780052304), (1510, 0.04906701571783723), (67, 0.048996017730456455), (3205, 0.048949589766063256), (2237, 0.04894516553045313), (899, 0.04893516125205025), (2250, 0.04893497728157154), (3315, 0.04887953476385038), (737, 0.048861353378608544), (910, 0.04883565164405521), (566, 0.04876241467226114), (538, 0.04866663857744403), (1719, 0.04860966904934732), (1338, 0.048494411141850914), (1214, 0.04848319769453413), (3067, 0.04837646483481034), (4480, 0.04830417259482959), (3108, 0.048156196369884136), (665, 0.04810102680981186), (3137, 0.04800262924308277), (113, 0.04789805771210785), (2175, 0.04767904013254523), (1094, 0.04752694260753827), (368, 0.04730281898694132), (1500, 0.04728620311075244), (204, 0.04725843254887484), (1090, 0.047235974328920544), (354, 0.04713389894807335), (3566, 0.047111382881926456), (2211, 0.04708339630739268), (1935, 0.04695068242228648), (3942, 0.04692067796819914), (1050, 0.04690796331116645), (957, 0.04685479122360794), (212, 0.046621672739403035), (341, 0.04658471385889008), (1405, 0.046453425432975676), (427, 0.046429789484721984), (914, 0.046329244276668825), (1785, 0.04624616872247236), (4247, 0.04614504146611168), (836, 0.04611502964739623), (1629, 0.045987630659849746), (180, 0.045923547703709676), (4125, 0.045847615221627044), (4486, 0.045844900503811646), (607, 0.045834688605243035), (1196, 0.04564276419142446), (2660, 0.045577263235338755), (561, 0.045560150250971126), (1617, 0.04545245190684602), (1919, 0.04541032357659678), (741, 0.045246743115801465), (4210, 0.045132480599004064), (2833, 0.04510121355790773), (91, 0.044997566177715956), (1199, 0.04487478394618035), (1809, 0.044862020550663656), (597, 0.04484666252172767), (3561, 0.0448222382509684), (639, 0.04467895187488704), (2977, 0.04461373561685668), (912, 0.04455399690664832), (1841, 0.04451449513097608), (3578, 0.04447308199143278), (2161, 0.04445654803122149), (3712, 0.04441095123001516), (2639, 0.04427948172463486), (1457, 0.044219195058830686), (1495, 0.04408718977092815), (2919, 0.044045809825426226), (567, 0.043927188787853504), (324, 0.043843050549437955), (568, 0.043791642553548435), (609, 0.04376066320636122), (1106, 0.043731764022023244), (3546, 0.0437239920490308), (257, 0.04347410535103281), (1961, 0.0434439375141774), (546, 0.04342741362917708), (3913, 0.04334546547505118), (1994, 0.04319594716755295), (1263, 0.043170937346616825), (1373, 0.04313911461519134), (1420, 0.0431333867002027), (4503, 0.043119740314529226), (3903, 0.04301193556390949), (535, 0.04296705547609409), (1368, 0.04296283032460227), (3133, 0.0427267910437252), (731, 0.04271520536741186), (617, 0.04267311741196515), (1087, 0.04263623278367252), (3360, 0.04257610272761754), (1204, 0.042571856442624095), (1535, 0.04253401862139561), (395, 0.04247050560340656), (1430, 0.04238230226842343), (2804, 0.0423788948274266), (1278, 0.042324660053956305), (2637, 0.04231977486051396), (1744, 0.04231280867902698), (327, 0.0422955913165648), (641, 0.0422667910145736), (1701, 0.0421923058178235), (1341, 0.04216720112326159), (3633, 0.04216144992303685), (1210, 0.0421477228135325), (1192, 0.04213788299309433), (2472, 0.042080776219447245), (1089, 0.04202231990366686), (3454, 0.04201295872911242), (738, 0.04199641508810298), (4708, 0.04196140522847129), (1129, 0.04185302424140197), (3399, 0.041834282364890146), (4492, 0.0418059174911352), (1468, 0.04176350784638927), (4118, 0.04175714199715921), (1563, 0.041692380860198844), (3577, 0.04169102665805411), (1189, 0.04168518945035686), (339, 0.041649832021535806), (495, 0.041448147422822726), (1799, 0.041319685900188294), (4459, 0.0412980675458281), (2039, 0.04123465662730213), (3697, 0.04115171322643923), (4061, 0.04113851341045799), (524, 0.04111306646351439), (560, 0.04101494619656228), (78, 0.04099649212120495), (2571, 0.04088100107028268), (29, 0.04085887667918026), (434, 0.040853228667834446), (2291, 0.04083339550557012), (1784, 0.04081375037134071), (1982, 0.0407807590648242), (1998, 0.040750040701354476), (1555, 0.04069871810185813), (4662, 0.04069864235031301), (1518, 0.04067575850629011), (706, 0.040658303231740425), (1389, 0.04060443162101765), (2488, 0.04059009454471318), (2287, 0.040565080277456235), (1114, 0.040482962318732794), (2499, 0.04047296011484324), (2029, 0.040338543595002004), (4357, 0.04026732442823047), (246, 0.040248624181859594), (3226, 0.04021069395004774), (842, 0.040209445846591474), (3366, 0.040209378000069136), (2665, 0.04020841394062741), (1746, 0.04007509511606372), (1117, 0.04004600812783595), (1025, 0.04000379349257744), (775, 0.0399977562565122), (2236, 0.03995863052128352), (3265, 0.039953955034461634), (1239, 0.0398564164051709), (3018, 0.039810391581469304), (2114, 0.03978934260103169), (56, 0.03975760606373334), (2033, 0.03974675414309872), (1740, 0.03974436117854896), (2290, 0.039728594530563516), (4603, 0.03970401712220642), (3116, 0.0396800425649053), (852, 0.03965164734919906), (3875, 0.039569408804980104), (1308, 0.03953310886777872), (4337, 0.03930728384913389), (796, 0.03920681234380244), (1911, 0.039156169172185055), (1707, 0.03914179745203275), (1503, 0.03903180229877657), (2360, 0.03901225036711304), (279, 0.03900920030673599), (136, 0.038944580214657396), (4596, 0.03894014273427498), (2241, 0.03877068668474434), (2416, 0.038715134414203926), (1134, 0.03869715433844281), (4599, 0.03869558475644119), (441, 0.03858633424200393), (3698, 0.038577274347248905), (3619, 0.03855940653326223), (3723, 0.03855211330874694), (540, 0.038526270514627314), (440, 0.03851507728956348), (981, 0.038502884723576006), (326, 0.038475881815915214), (3206, 0.0384115358334076), (878, 0.03840485980602297), (1913, 0.038352409379973154), (3792, 0.03829264459326068), (3849, 0.038231631902422264), (700, 0.038200754435725626), (1824, 0.03811010854937903), (2442, 0.03809130333082901), (1776, 0.037981330521346425), (2055, 0.03788887781271911), (496, 0.03787274228219191), (2843, 0.037850189984929686), (3264, 0.03783651479770167), (232, 0.03782814462216111), (4335, 0.037779627056739144), (407, 0.0377757373363346), (20, 0.03774464762177405), (2603, 0.037724044830684644), (1317, 0.0377148010515225), (1283, 0.037680948889482896), (3256, 0.03763089243674966), (547, 0.03759382790509612), (1182, 0.037589890945664485), (2944, 0.037580588647956985), (715, 0.037473325926651105), (182, 0.03744465558808604), (2954, 0.03741914062709211), (2246, 0.037369097745407164), (3350, 0.037267437100178755), (780, 0.03722022625024097), (1412, 0.03717944474836246), (3840, 0.03710063982832328), (569, 0.03709783608123104), (1231, 0.03694981467843614), (2319, 0.036947603701857526), (1193, 0.0369060926886298), (3483, 0.03690382163473245), (1253, 0.03682765400044743), (648, 0.036809261355562325), (1830, 0.036753881717089265), (3344, 0.03675088542703122), (7, 0.03673152448689872), (13, 0.03671928279467694), (1870, 0.03669381390473406), (4156, 0.03667934972745601), (2022, 0.03665524794794642), (1194, 0.03650911223801926), (1350, 0.03644815477464269), (1537, 0.036419138576264644), (242, 0.036402951180174975), (705, 0.03628963554800718), (3246, 0.036161470179204), (1033, 0.03616059412256989), (589, 0.03614682448160043), (2550, 0.036135926802222135), (237, 0.03596880639156505), (4201, 0.035937874178064), (1963, 0.03585764998754147), (1371, 0.035852644844849034), (733, 0.03581678158637502), (4130, 0.03579500458331027), (768, 0.035790161765578046), (1458, 0.0357432068853602), (2616, 0.03565866963904), (2814, 0.035559927438208315), (231, 0.03553825377726976), (1273, 0.03551650179139613), (944, 0.03548484315671653), (4270, 0.03536895927999223), (4153, 0.03534675247229871), (635, 0.035288281169424715), (492, 0.03524774191900573), (4745, 0.03524345492767198), (2874, 0.03522559042001145), (2311, 0.03522460468592662), (3541, 0.03522189349423071), (3524, 0.03521025155163), (2873, 0.035201537494045365), (3467, 0.03519415076687069), (216, 0.0351802673239404), (3515, 0.03517685624292603), (1583, 0.03515347316537257), (2014, 0.03497699966591541), (2749, 0.0349631503852135), (4121, 0.034909589757122626), (692, 0.03489797365686617), (940, 0.03487731062613359), (1861, 0.03483547291808107), (1157, 0.03482806765022544), (703, 0.03482689515427955), (357, 0.03481824843948057), (299, 0.03481280570361866), (1443, 0.034738399082034396), (3444, 0.03470099644521744), (2594, 0.0346903640683849), (472, 0.03468864800434976), (4607, 0.03466757485628634), (2518, 0.03464978427738023), (2761, 0.034588234798901656), (1936, 0.034575941040561865), (685, 0.03457436230314436), (915, 0.034502757816277395), (388, 0.03450086018210106), (2739, 0.03446707367012287), (2046, 0.034458346015743525), (3504, 0.03445276011249374), (3419, 0.0344513572538391), (4609, 0.034422470357582155), (618, 0.03433195283768199), (4613, 0.03424204324669006), (1968, 0.03423316643496169), (687, 0.03420861819467682), (1365, 0.03420123972275548), (2102, 0.03417722686809674), (513, 0.0340959664815441), (3687, 0.03409058706435737), (2474, 0.03403410835746794), (523, 0.03401141089744267), (2564, 0.03397459130312806), (1321, 0.033948483063054154), (977, 0.03388888277611532), (4338, 0.03387076885847885), (2834, 0.03386702062774852), (2666, 0.03381052132581654), (4046, 0.03377795431816079), (1985, 0.03376251855666421), (4658, 0.03375315622893256), (1471, 0.03374620993269611), (2514, 0.03364196147282338), (1944, 0.03362628189891646), (2259, 0.03362622719139816), (788, 0.033593954749832594), (3711, 0.03354742756436392), (300, 0.03354098340132797), (2339, 0.033540932958568734), (553, 0.033536456488636394), (2842, 0.033516836983478515), (508, 0.03351088206308163), (452, 0.033410908515941695), (2402, 0.033388019063950815), (215, 0.03337976898642374), (2562, 0.03332757623075011), (1756, 0.033264128193212096), (1942, 0.03325839578005784), (2301, 0.03324305693364769), (2844, 0.03321233621827966), (222, 0.03320126479175464), (1664, 0.03318284288506596), (1466, 0.033104241394733745), (74, 0.03309863943493511), (3152, 0.03309752012563408), (686, 0.03303768595667163), (1111, 0.03302921885455089), (2112, 0.03297631151604906), (1186, 0.03287411094453346), (4206, 0.03285035936413369), (4038, 0.032833813252104466), (2981, 0.032796638719469334), (2268, 0.03277243889617186), (2447, 0.03262893571620008), (4674, 0.032576352166171524), (3767, 0.032546405408706194), (2031, 0.0325401655869689), (3826, 0.032524461209432365), (3473, 0.03251610063546623), (1179, 0.03251130524889338), (4591, 0.03248641095988247), (1828, 0.03242299242024679), (740, 0.03241931444125914), (2510, 0.03241638130197087), (3149, 0.0323974655188301), (1293, 0.032371141296917004), (2937, 0.03236348069570344), (1881, 0.03226238079392255), (2108, 0.03223942271659101), (1272, 0.03220490885157996), (1288, 0.03217443592428508), (563, 0.032070685588837126), (2233, 0.032051916717669604), (3251, 0.031991672117728215), (1296, 0.03199084876666674), (3638, 0.03198199909819638), (1533, 0.031960383978433475), (1780, 0.03185698560783935), (4218, 0.03184408082335269), (924, 0.031837741364699974), (2351, 0.031823945924449516), (1245, 0.0318078228351786), (217, 0.03180101832201359), (3389, 0.03179379569650222), (4023, 0.0317892868186405), (1798, 0.03178140041690579), (361, 0.03177919171600849), (1782, 0.0317614132041043), (1220, 0.03175308325748466), (3736, 0.031752216467206995), (1364, 0.03172876219518408), (3722, 0.03171415512201168), (1755, 0.03170737401345956), (1453, 0.0316952885802781), (559, 0.031685961077500345), (2807, 0.03166110136601601), (2553, 0.03158038218285795), (454, 0.03157043936803248), (1392, 0.03156616038825742), (3534, 0.031537132541875484), (211, 0.03150831377802323), (990, 0.03148327892594455), (4440, 0.03148141545931694), (2485, 0.03146895002370741), (3110, 0.0314202688915751), (1984, 0.03139879721397399), (2239, 0.03137045638598343), (25, 0.03133149866223261), (155, 0.03132683921185984), (1566, 0.031310788433095246), (3741, 0.03128128948900875), (451, 0.03125132985045611), (2546, 0.031240215996018193), (3409, 0.03118007677970644), (2019, 0.031164455763143424), (3870, 0.031155092194324996), (2167, 0.031127432873617612), (1369, 0.03111312685343629), (2198, 0.031103216430822714), (1891, 0.03109317990521599), (284, 0.031046700832479172), (548, 0.03104119695580075), (654, 0.031038722161972558), (4266, 0.03101665556416433), (1043, 0.031005444468691197), (657, 0.031004455064094213), (3656, 0.030972544828767594), (162, 0.03094500087386557), (1305, 0.03090350024247843), (2848, 0.030898408526312163), (710, 0.03089624445257584), (555, 0.03086635242556028), (1310, 0.030794007507457578), (3311, 0.030770780838696627), (1600, 0.030678823553652625), (2320, 0.030611381149013944), (1312, 0.030598630713922555), (1723, 0.030592710072190575), (684, 0.03056598851623227), (3218, 0.03056343143264448), (859, 0.030561567026617015), (4189, 0.030561240413981478), (2534, 0.030480047647662344), (3222, 0.030471272840340125), (1080, 0.0304602369077177), (2296, 0.03044004559087726), (691, 0.030439596591428416), (3587, 0.03036382777750845), (4471, 0.030358409913919235), (1266, 0.030342350525135627), (3182, 0.03029053826660484), (807, 0.030267026710923715), (3371, 0.030250278521331917), (3269, 0.030212796215717833), (4501, 0.030200903337452782), (3516, 0.030137247370630872), (4199, 0.030133779179707967), (2337, 0.0300731209129027), (1895, 0.03006742481569048), (1586, 0.03006628640182788), (732, 0.030001413100505907), (1619, 0.0299961698149098), (385, 0.029962228076583962), (4589, 0.02995624930809483), (114, 0.029948787101572387), (4119, 0.029930795968258032), (2992, 0.02991812510384885), (12, 0.02988723299968647), (923, 0.029880973682193675), (1434, 0.0298399082956986), (3443, 0.02969943613813329), (4032, 0.02967628134229475), (4468, 0.029641376506575282), (4142, 0.02962854302267425), (3886, 0.029622944113105586), (1118, 0.02961653799156238), (377, 0.029612416674781178), (53, 0.029605605655455575), (3965, 0.029601877387844876), (2552, 0.029595693804841505), (1387, 0.02956437002089881), (4025, 0.02953973037838928), (3458, 0.02947690690266854), (2109, 0.029475641269131443), (934, 0.029437542901140656), (4569, 0.02942080212633874), (2931, 0.029391187406466845), (4346, 0.029383767427923983), (1668, 0.029364659200612285), (550, 0.029347293237759295), (2607, 0.029327804580974566), (1216, 0.02932129723731163), (2043, 0.02928097414393794), (1465, 0.029271079102439937), (1675, 0.029266773518138917), (2303, 0.029230877370249993), (1150, 0.029220547517478546), (1307, 0.029190610687710592), (2079, 0.02918752977376021), (3069, 0.02917701021948948), (1997, 0.029109638003916652), (2587, 0.029073675017999578), (309, 0.02906810028695707), (4645, 0.029029188509037594), (1418, 0.029014770344605905), (1120, 0.02901053193598033), (1914, 0.02898921417219616), (3963, 0.02898839346217648), (1206, 0.028968330734798424), (330, 0.028953390829762046), (477, 0.028934465878564908), (3221, 0.028924090671937165), (822, 0.02891795151561533), (745, 0.02889405924636458), (1822, 0.02886848710280855), (3506, 0.028817661588449714), (588, 0.028794860562052233), (1488, 0.028777931381376735), (814, 0.02877370226323913), (1069, 0.028766440883410543), (381, 0.02875202774054552), (2283, 0.028725105387421578), (1467, 0.028698965505287097), (3395, 0.028698875836878163), (955, 0.028652628123972203), (2522, 0.028612019035752223), (2272, 0.02858686359067799), (4620, 0.028533197162095236), (4099, 0.02849124915837201), (1241, 0.028490364864846206), (2327, 0.028489356254451034), (1071, 0.02846795598478682), (297, 0.028455292988848517), (909, 0.02845067057600297), (277, 0.028411481643653383), (4633, 0.028398416244541116), (2730, 0.028390260297859876), (928, 0.028346316124257982), (3970, 0.028325992016162104), (890, 0.028271828660559203), (4446, 0.028261560666599708), (3361, 0.028250520968883783), (2698, 0.02822483851264054), (1986, 0.028217169315407152), (0, 0.02817250317034438), (2265, 0.02816896568031946), (1818, 0.028164164295434776), (298, 0.02815728620504547), (2817, 0.028139921921850063), (3790, 0.0281315686086332), (2878, 0.028120599942808654), (3077, 0.028108570627344426), (751, 0.02807826830906277), (1871, 0.028066978238923755), (2561, 0.028052701419768185), (241, 0.02802454197666193), (4498, 0.027975770139528837), (1666, 0.027921129339493964), (570, 0.027894050916777227), (978, 0.027881987607278818), (320, 0.027854245747542843), (116, 0.02783958818624503), (4678, 0.027822114993038546), (3336, 0.027752416524824033), (251, 0.027731388732081544), (2446, 0.027687643783855912), (92, 0.027648899969302684), (1250, 0.027646939393926498), (812, 0.027629393871755788), (4174, 0.027621177257979183), (3709, 0.027621110642596793), (283, 0.027607959743489743), (3046, 0.027606766198174544), (1262, 0.027559592265715246), (1407, 0.027544643835163966), (4432, 0.02754119547551986), (469, 0.027536545749707583), (988, 0.02752379352305774), (409, 0.027511046983686595), (1926, 0.027506248519905307), (3502, 0.027502473792660208), (4541, 0.027467604627171203), (1011, 0.027460981327373266), (1318, 0.02744786114710876), (2964, 0.027447666460856647), (1411, 0.027445377816671605), (881, 0.027442037854969653), (4576, 0.02743381540576948), (676, 0.027429725761017487), (3759, 0.027348945539803594), (3464, 0.027336517691804216), (1282, 0.02733433209729578), (614, 0.027325010462266465), (1714, 0.027288544441494658), (3539, 0.02727806837807576), (2473, 0.027237382222469346), (3983, 0.02720543949240226), (319, 0.02719961697468973), (1385, 0.027196228173081802), (301, 0.027135725392931687), (979, 0.027131747345944562), (3178, 0.027131202321247386), (272, 0.027116357033330766), (1169, 0.02708349139377153), (389, 0.027061912292368352), (3028, 0.02705708284542502), (3817, 0.027049117948868773), (1347, 0.02704453990841324), (1185, 0.027025417689779684), (1653, 0.027022557054874392), (356, 0.026997187740692583), (4108, 0.026973662882610997), (1375, 0.026965796763155435), (610, 0.026935817188034443), (75, 0.026934220911262872), (600, 0.026934187339914605), (510, 0.02692122965076425), (258, 0.026903875282726978), (4070, 0.02690157367197904), (2294, 0.026876737712848486), (72, 0.02687462395589622), (818, 0.026857979515161036), (104, 0.026853755656757208), (2365, 0.026789739188962686), (3915, 0.02677088808615), (334, 0.026765567976491263), (101, 0.026744703514822808), (4482, 0.026734371781448628), (60, 0.026705329135379152), (2691, 0.026688661217313496), (918, 0.02668776288559306), (3364, 0.02667441161319542), (3730, 0.02662254257137154), (4454, 0.02661954049859304), (1195, 0.02659093446249821), (71, 0.026584965440223554), (615, 0.02657322916226423), (509, 0.026555136360536476), (2145, 0.026537829411054502), (1669, 0.02653215078440005), (1408, 0.026510453644756175), (3823, 0.026492662396675082), (2599, 0.02648136216075113), (1874, 0.02647888547250191), (202, 0.02647558457677586), (192, 0.026446720226762272), (3310, 0.026421655679758134), (2178, 0.02642115596047643), (125, 0.026415080407255865), (38, 0.026406314241139844), (1246, 0.026369680983838677), (952, 0.026362020496225207), (3937, 0.0263604733605092), (1165, 0.026293997329094067), (3287, 0.026241579134131603), (3836, 0.026192411191284008), (1356, 0.026184221357201214), (2086, 0.026143061190304722), (253, 0.026116784999775672), (353, 0.026087071694096155), (2062, 0.026076467938933402), (282, 0.026073873291743408), (2877, 0.026049635732137113), (866, 0.02602936968177821), (984, 0.026021614819425568), (612, 0.02601371342489051), (325, 0.025980056879717838), (2816, 0.025958482372478817), (862, 0.025939952718948903), (152, 0.025881756991372625), (2662, 0.025873178449399056), (3056, 0.025870618981950554), (1599, 0.02586707193189979), (3355, 0.025863832515834576), (2672, 0.025861768330940605), (1002, 0.025860444893581563), (1569, 0.02585509492167301), (2813, 0.02584848366471202), (2996, 0.025846020225098635), (683, 0.02582755978569498), (343, 0.02582523408523188), (1515, 0.02581987114589241), (4166, 0.025810693181446243), (1812, 0.025803187277051), (310, 0.025788231082489642), (772, 0.025764605288093774), (2740, 0.025758089255418663), (1887, 0.02574948366084031), (1287, 0.025745051591518995), (1700, 0.025700414386227083), (3078, 0.025690518765570686), (1598, 0.025685946924585267), (2836, 0.0256586682415807), (3612, 0.025641928275398247), (3282, 0.02557522564990228), (88, 0.025570998178940423), (3122, 0.025559677784409027), (3701, 0.025555788477431396), (275, 0.025553474720903642), (520, 0.025527603112212575), (2941, 0.025519147085754538), (1133, 0.025493325508400846), (2170, 0.02546988618649406), (3299, 0.025468892239849515), (2101, 0.02543902958367166), (4292, 0.025396299134164545), (3950, 0.025387757164107797), (763, 0.025371550191635804), (1762, 0.025371255986809997), (779, 0.025366248437301335), (3997, 0.02533267644125535), (3493, 0.025291798780227057), (3644, 0.02527383573984682), (1743, 0.025269383202234298), (1396, 0.025260613445449526), (3636, 0.025249624046046977), (3385, 0.025196385663477844), (1758, 0.0251744759500412), (2230, 0.025171814763491167), (502, 0.025170309483660627), (1695, 0.02508599918003913), (4110, 0.02506781847821729), (3424, 0.02503881456694385), (1679, 0.024972997718846195), (3181, 0.02496678180106063), (4496, 0.024962753813243543), (1771, 0.02496228008698468), (2103, 0.024924472144951672), (1506, 0.024920313027062227), (390, 0.024914107934512295), (32, 0.02491330063061326), (1081, 0.024909016683235443), (2632, 0.024891664525128823), (3121, 0.02488972030887088), (121, 0.02488354459870116), (2359, 0.024872886775488542), (1200, 0.024857066898539826), (834, 0.024850282578952786), (3884, 0.02480343721781611), (4689, 0.024786024867911684), (1597, 0.024779699676508928), (4144, 0.024773662558678536), (3753, 0.024770660034978152), (3085, 0.024761136802908514), (2045, 0.02474608717075079), (846, 0.02474322645662113), (2902, 0.024738925852209697), (2574, 0.024733987830543754), (3341, 0.02471605402329611), (736, 0.02471077655225159), (1309, 0.02470546075426502), (1869, 0.024685310909407593), (1815, 0.024677795058229566), (3959, 0.02466675549714724), (2940, 0.024661934543133382), (2013, 0.024605256144481565), (4200, 0.02460148700444723), (3461, 0.024594897685270494), (3362, 0.024591906364345637), (2131, 0.024561740511771617), (2277, 0.024544476555206377), (414, 0.024526590972504543), (2685, 0.024523532411959252), (4705, 0.024515112297557665), (4736, 0.024495457761357548), (3365, 0.02448938806746659), (1804, 0.024483638368991454), (4062, 0.024473198810695016), (3408, 0.024470647452549472), (2764, 0.024447987435018418), (713, 0.0244459803465547), (1259, 0.024435599010031055), (2619, 0.02442584351074754), (1001, 0.024392668993897765), (874, 0.024357791844764654), (2338, 0.024330417655864377), (1168, 0.024329365519529238), (2005, 0.024309361637808845), (962, 0.02430039058063585), (4631, 0.024278222681094815), (1704, 0.024276806846473434), (2572, 0.02425707950874814), (3865, 0.024253447622611366), (2177, 0.024253185878136727), (4554, 0.02425004726118515), (1517, 0.02418877797904358), (699, 0.024187736656235533), (1689, 0.024181641603800066), (1603, 0.024178566446201928), (1329, 0.02413313171344933), (4004, 0.02413206036188901), (2702, 0.02412137252387471), (4034, 0.024102555157983648), (4237, 0.024096290083015406), (1047, 0.024074345724873845), (3599, 0.024068803249615703), (322, 0.02403479251589807), (3731, 0.024004112573084734), (65, 0.02397749568627586), (3933, 0.02396800958036795), (3678, 0.023945768930528036), (973, 0.023936374466630526), (1079, 0.0239282349556922), (169, 0.023927484999351857), (2548, 0.023894505803300294), (2144, 0.023889871871623662), (1579, 0.02387402541010512), (287, 0.02386389811816335), (363, 0.02385378561017646), (4387, 0.023842682925573226), (1257, 0.02383577232196674), (2118, 0.023835257802031825), (1691, 0.023830817800983697), (321, 0.02382313647084782), (2047, 0.02379674318078758), (1456, 0.023791444761174323), (355, 0.023752976905856128), (1893, 0.023740632568171563), (9, 0.023739141591647753), (1625, 0.02371231678726242), (4239, 0.023707836477569084), (4388, 0.023705470727843153), (835, 0.02368878121359793), (3270, 0.023674393676002624), (491, 0.023647227867461287), (935, 0.023624037205905352), (3127, 0.02359014420891798), (3507, 0.023554714398071063), (907, 0.023512716044045215), (1836, 0.02349478511970013), (328, 0.023492425921586103), (2195, 0.023481943035216918), (19, 0.023463772447372862), (2766, 0.023455885230523915), (306, 0.023454939374493992), (3272, 0.023449386936711586), (366, 0.02343794656016687), (2130, 0.02342574858711686), (3386, 0.02341346782406824), (2286, 0.023405240317056503), (54, 0.02339804875495779), (4499, 0.023392911413689287), (3057, 0.0233849714499684), (2688, 0.023382795416088883), (1768, 0.0233614615232042), (3096, 0.023356847376174616), (1228, 0.02332590208485906), (2421, 0.023309002723261106), (2229, 0.023297317796216268), (3829, 0.0232894337884599), (2193, 0.023261383888133445), (653, 0.02326065449083728), (4414, 0.023251427709411604), (936, 0.023206699151518143), (3667, 0.023206256230708523), (3211, 0.023197861032914574), (2073, 0.023194134501886184), (938, 0.02316130622931091), (2555, 0.02316016842293523), (1539, 0.02314241070006054), (109, 0.023137953530419048), (2300, 0.023109451495244262), (537, 0.023105039336578606), (1172, 0.0231017818874277), (371, 0.023089788638095035), (4068, 0.02308394492457604), (4725, 0.023070603178174963), (1304, 0.023055966202016286), (3416, 0.023052146851081885), (758, 0.023039560114168543), (577, 0.023038933519567255), (2850, 0.023032683395022676), (3099, 0.02302452519098613), (3486, 0.02301182559711274), (4194, 0.023011573101860854), (1523, 0.022997183771625965), (2960, 0.022987053087612286), (2625, 0.0229866681896433), (4344, 0.02297295267873), (177, 0.022957771567933574), (3327, 0.022956572871941527), (3330, 0.022936242991277056), (36, 0.022934450743880126), (1433, 0.022930135302379494), (2908, 0.022912207490225857), (1772, 0.022886951354576014), (3752, 0.022878780274701818), (193, 0.022873511112289732), (24, 0.02287295154744971), (1604, 0.02284344345510217), (2532, 0.02283553012102401), (418, 0.02282173267540561), (2111, 0.022808507327284205), (3868, 0.022800630264374875), (3980, 0.022778854643378692), (1100, 0.02275815056848418), (946, 0.022717093985391405), (4205, 0.022716413762724583), (1957, 0.02271230707674307), (3426, 0.022705234250169695), (1084, 0.022698435739621756), (3631, 0.022635818279363645), (1750, 0.02263472906649774), (59, 0.022630770440269395), (2393, 0.02260082284459091), (2329, 0.022577149922158344), (1126, 0.022542022960879555), (3702, 0.022524310639553954), (527, 0.02251750687628925), (640, 0.022516627807452956), (2481, 0.022485582440842113), (4136, 0.02246342196000884), (3962, 0.0224537347447771), (4531, 0.022453392815788707), (3342, 0.022452375825902263), (3622, 0.022449843528250725), (2486, 0.02244963154689841), (756, 0.02244732620676564), (1697, 0.022435100515297752), (3306, 0.022417299388387418), (651, 0.022406454722542532), (3780, 0.022404331740419545), (892, 0.022402784529706735), (3765, 0.022388742450590225), (995, 0.022388072911773662), (2392, 0.02238790615945694), (2076, 0.022372611264424004), (1137, 0.022349731310779854), (4497, 0.022331706375768236), (1867, 0.02230519728336809), (3209, 0.022304589234261776), (3641, 0.022283949318297986), (660, 0.022268651025952716), (2973, 0.022267677768973163), (1494, 0.02226195385904222), (3422, 0.022260868708968172), (1860, 0.022248800185114014), (4186, 0.022244997867087394), (1681, 0.02224343935105958), (4087, 0.022236448314107572), (338, 0.022216934511483852), (137, 0.022213514548630322), (521, 0.022194180818130193), (3695, 0.02218845806055612), (1425, 0.022181424319072465), (4015, 0.022166309137761978), (2095, 0.02215026328462892), (1933, 0.022129197398422246), (2955, 0.022128524571395705), (840, 0.02212588676217999), (1654, 0.02212423718403258), (2097, 0.0221107840938869), (2487, 0.02209775818558863), (675, 0.022094776920658702), (3751, 0.02208902549505468), (2271, 0.022088619093057513), (124, 0.02208702915997688), (2780, 0.022085731947402893), (2734, 0.022074884544972417), (883, 0.022072529686553086), (3384, 0.022065988917880645), (421, 0.022039918222211352), (2143, 0.022039575210184816), (2869, 0.022038317086704635), (1688, 0.02203548566043639), (2581, 0.02202638632072777), (1402, 0.022003292824260577), (498, 0.021997082271834806), (4164, 0.02198410428106285), (791, 0.02197459833367745), (794, 0.02197270952659173), (4230, 0.021969978264277313), (2726, 0.021957706811320067), (225, 0.021953240075784513), (777, 0.021945058891936133), (2517, 0.021934400152493184), (1876, 0.021895784368692325), (929, 0.02189326896149749), (604, 0.021884645267551676), (1016, 0.021876087348048898), (4659, 0.02186343849777752), (1738, 0.021851416529361244), (6, 0.021825923936134018), (1807, 0.021816582725627635), (4351, 0.021803718570600983), (315, 0.021803692866665416), (2962, 0.021802823431465668), (1335, 0.021780716291819047), (679, 0.021780635322176126), (2712, 0.02175966865448317), (3104, 0.02175797714972867), (2427, 0.02175575011163609), (1487, 0.021722900212604902), (1381, 0.021716934212811068), (314, 0.021699118018280034), (4380, 0.021695142908562812), (3828, 0.02168520338659922), (4413, 0.02167775749422585), (4652, 0.021659390094122155), (2411, 0.021655211937621006), (4001, 0.021645922513586373), (2645, 0.02164225566840257), (2509, 0.021638908337159996), (4464, 0.021630132451666693), (875, 0.021627712110030936), (2374, 0.021605288228219548), (2715, 0.021595883160458126), (2609, 0.021575083038953523), (765, 0.02155692480072894), (17, 0.021548768898387336), (680, 0.0215466673339079), (1337, 0.021537651149760747), (4460, 0.02153329410885231), (2183, 0.02152550083778607), (879, 0.0215220094747588), (3909, 0.02150706085441797), (425, 0.021468838840667012), (4517, 0.021447233680219852), (3747, 0.02143853697985331), (1709, 0.02142425823430541), (294, 0.0214176622633773), (1588, 0.021413645633964855), (3430, 0.02141186752643158), (4521, 0.021402068316335638), (2330, 0.0213864812841693), (2638, 0.021385284169340327), (4265, 0.021380294718273275), (1039, 0.021351355707971843), (3489, 0.021264222611300756), (2969, 0.021257945458553973), (3596, 0.021256228291370947), (1516, 0.021245125133645463), (4007, 0.02124408142100697), (55, 0.02119641666690019), (4340, 0.021196195731725556), (4624, 0.021184392402794468), (4558, 0.021172584230118516), (1475, 0.02116037747303877), (2190, 0.021158279128395026), (2340, 0.02115715592271953), (2508, 0.021147156640724994), (3552, 0.021132752128135725), (3024, 0.021122850288627232), (3999, 0.021112807426394976), (1394, 0.021112280950108944), (1109, 0.02110189517540676), (345, 0.02109977686907128), (1409, 0.021097916606021522), (2763, 0.021070770509110298), (2254, 0.021063837782944322), (4572, 0.0210438334752416), (2910, 0.021043579550463605), (3538, 0.02104257241291344), (4314, 0.021029101560400887), (1044, 0.02102378932821321), (2797, 0.02100390697987377), (86, 0.021003034171069742), (762, 0.02096627086094214), (3387, 0.020963287543728535), (2240, 0.0209625248105289), (1474, 0.020952409216897623), (1764, 0.02093769844084352), (2375, 0.020933673640256598), (1725, 0.020921524806356215), (3877, 0.020918238854038988), (582, 0.020914221254514715), (2654, 0.02091324119064159), (3238, 0.020908367589669748), (4584, 0.020906554138174768), (3061, 0.020903075161322667), (1554, 0.020899993108373077), (3689, 0.02089963277903542), (2100, 0.020890769431271394), (1431, 0.02088632001948739), (2388, 0.02088523796445225), (2147, 0.02087068451877582), (3463, 0.02086589356385575), (161, 0.020833619496894353), (1113, 0.02082832603354483), (85, 0.020812239411824272), (3415, 0.020782311192358884), (3388, 0.020778190613506088), (4376, 0.02077203356561095), (3123, 0.020749893015829367), (3098, 0.020747630521223203), (1902, 0.02072876211974531), (1360, 0.02067978629861333), (3227, 0.020664004077334215), (3869, 0.02065921405326041), (994, 0.020648699043668197), (4091, 0.020643685532441773), (898, 0.020639744408694916), (2197, 0.020627124650715947), (2017, 0.020617411487382695), (214, 0.020607737646471287), (714, 0.020607531285535552), (1218, 0.020571141979649658), (3668, 0.02053578403703033), (1414, 0.020523869155871354), (288, 0.020513233790748965), (3754, 0.020509122964825658), (2209, 0.02050555640608864), (1910, 0.020496458663549003), (2656, 0.020434219890562343), (719, 0.02043202333085728), (1470, 0.02039671243641924), (340, 0.020396662739677315), (2952, 0.020351907579515608), (2067, 0.02035160617069373), (1346, 0.020343050907383517), (790, 0.020337671005235862), (2160, 0.020334311526788572), (1612, 0.020314635666010005), (4016, 0.02031054521640404), (4436, 0.02029574232652581), (2012, 0.0202708124444355), (867, 0.020263305104525498), (906, 0.020247010505348703), (1472, 0.02024000032277796), (2725, 0.02023907385490553), (3763, 0.020223793385733855), (344, 0.020220051086203835), (3586, 0.02021940694628792), (3492, 0.020202603200927885), (572, 0.02020111970353364), (1238, 0.020193163684784795), (3410, 0.020188488501221034), (1225, 0.020169801701534238), (2847, 0.02016329526605444), (1401, 0.020155842129601254), (439, 0.020141238491598563), (3803, 0.02013891143077836), (634, 0.020132682864793597), (2682, 0.020118511642191157), (4327, 0.020104253988632415), (2418, 0.020095725719663494), (417, 0.020095077172782055), (2822, 0.020081243386280485), (3438, 0.020057154812840046), (1445, 0.02005196093552726), (3283, 0.020027941707680096), (163, 0.02000605882086817), (1821, 0.019995595873009486), (603, 0.019983151831917012), (748, 0.019972156940391093), (3239, 0.019970129188443257), (3237, 0.019957259810805927), (613, 0.019937736654317154), (1477, 0.01993175893106778), (47, 0.01990498865496017), (2396, 0.019900184607769017), (3737, 0.01985696151312763), (3733, 0.01983612394636898), (1380, 0.01981426647481436), (122, 0.019810235213041552), (1987, 0.01980498700429711), (2756, 0.019787799498818124), (3775, 0.01978334656163266), (1990, 0.019770060012134025), (681, 0.01975810139383048), (530, 0.019752146418838743), (201, 0.019744491914823234), (2533, 0.019742372144423946), (2658, 0.019727369545677168), (480, 0.019727175344550176), (467, 0.019697659327093345), (3214, 0.019694406408738586), (3579, 0.019676457660649852), (1667, 0.0196580720620359), (167, 0.01962905437971999), (4564, 0.01957666140769372), (4064, 0.01955371843906418), (3102, 0.01954813731416871), (3240, 0.01952550051069271), (815, 0.019511073575491592), (2185, 0.019506185754647035), (2058, 0.01950083435064216), (3696, 0.01948258134195475), (970, 0.019476105849030773), (175, 0.01946494856355111), (2841, 0.019463480372408533), (4709, 0.019456543412310092), (2335, 0.019454742973757228), (179, 0.01944269951891336), (3907, 0.019431872175270003), (1509, 0.01942865261386238), (1615, 0.01942636377655985), (333, 0.019425598291651136), (3786, 0.01940811356772853), (3220, 0.019407518338136344), (62, 0.019406868866915696), (185, 0.01940586943099562), (3813, 0.019403133450080486), (1447, 0.01939417910573462), (3743, 0.019379577484688687), (332, 0.01937917649025423), (3397, 0.019362856176500846), (1067, 0.01934775377964762), (3250, 0.019347438610260483), (616, 0.019340471840015257), (286, 0.01934019226671286), (3088, 0.01932174985291862), (2668, 0.019306239444201297), (3705, 0.019301357290401257), (4272, 0.019288501258710383), (31, 0.019274171395314295), (1130, 0.019267365074789402), (4077, 0.01926681732943273), (1384, 0.019263755622190716), (3449, 0.019257644894363324), (4441, 0.01924608349666749), (3060, 0.019210696451000563), (2094, 0.01917329884583661), (1630, 0.019168899747961144), (2116, 0.01916027106910849), (3690, 0.019140734737004374), (1710, 0.019139968237721742), (2191, 0.01912939018513226), (904, 0.019119916421645254), (1732, 0.019106840083695363), (3183, 0.019094321232419855), (2037, 0.01909278574562822), (2034, 0.019092757017029123), (2414, 0.019076137174690755), (1620, 0.019072466879292673), (2798, 0.019053741472939957), (3808, 0.01905291478592866), (4374, 0.01904705259129712), (3472, 0.01904276408196221), (1413, 0.019042678179002733), (1649, 0.019032871721835688), (992, 0.019024673400738264), (2115, 0.019007131731612517), (545, 0.01900459254496744), (1595, 0.018989243470859125), (3880, 0.01898368556084131), (532, 0.018979148505918364), (897, 0.01896485245531502), (1249, 0.018954854908938168), (2585, 0.018937518974301), (46, 0.018929683801687615), (4227, 0.018928444892149357), (1522, 0.01891334232638449), (1331, 0.018908185188116468), (305, 0.01890610471296749), (1290, 0.01889707213087018), (2044, 0.01888924350982731), (415, 0.01888233450973345), (1951, 0.018871023624951647), (384, 0.01887071527756701), (2718, 0.018861838196953026), (1678, 0.018850034962260533), (196, 0.01883602922624831), (1041, 0.01883508452722158), (2007, 0.018829620285774826), (1883, 0.018820693344571548), (39, 0.018806486635048518), (2129, 0.01880554867027588), (2811, 0.01879201857010758), (1850, 0.01877769761930163), (3197, 0.01874783562354276), (3748, 0.018747412121964048), (1519, 0.018738599564977882), (689, 0.018718477542050475), (2659, 0.018716566935201295), (2636, 0.018714989413744335), (776, 0.018685450531672334), (3263, 0.018679670602233193), (2631, 0.018672729735076957), (2503, 0.01866404825337816), (1796, 0.01866359416066162), (1647, 0.01865923113945886), (4754, 0.018659211663512122), (3921, 0.018649222328908935), (3101, 0.01864339559370149), (2008, 0.01862638993665259), (1578, 0.018623325010427686), (781, 0.01862167942812333), (821, 0.018620580558781526), (4342, 0.018619355227592258), (3940, 0.01860977211459804), (3646, 0.018592398522325203), (669, 0.01859145935770768), (3860, 0.01858148601061766), (1690, 0.018558837625756795), (352, 0.01853853859375057), (870, 0.018537825418435204), (2560, 0.018536327111560304), (1261, 0.018516180897135186), (3580, 0.01851612119545309), (210, 0.018479667666030448), (1215, 0.01846814365108003), (2398, 0.018461333434747373), (2794, 0.018449965236440647), (1459, 0.01843597305936398), (2088, 0.01843206673415793), (2257, 0.018429218898740808), (4073, 0.01842035038621082), (4282, 0.01841695804794733), (1660, 0.018416684384544975), (3890, 0.01841111356330742), (793, 0.018401714881860157), (1173, 0.01839951343683487), (2799, 0.0183974411642512), (194, 0.0183867946827324), (599, 0.018360042645820803), (4356, 0.018340655744064453), (2149, 0.01834033357954952), (1155, 0.018339248543330314), (3470, 0.018334100674138477), (778, 0.018304431446218093), (1584, 0.018271638290372056), (2810, 0.018268966463835273), (3861, 0.018266551878598637), (2512, 0.018253020840039137), (2417, 0.018233402507963112), (365, 0.018216934275561848), (623, 0.01821098953058088), (3000, 0.018207495689396575), (4682, 0.018206814640209675), (2728, 0.018197800689448818), (551, 0.018194849730621066), (2953, 0.0181492311217811), (1810, 0.0181484681539303), (4071, 0.018147740839148864), (1726, 0.01814485113931147), (2752, 0.018137179838241486), (1655, 0.018132829471822917), (3325, 0.01813013849125513), (1594, 0.018120340032777918), (608, 0.018113376392255885), (3305, 0.018068589521768756), (4467, 0.018061878544190696), (3882, 0.01806040502119367), (3151, 0.018059172814736867), (2746, 0.01803788658606566), (3598, 0.01799816848579164), (1872, 0.017986131506603862), (2680, 0.017985881333503134), (3513, 0.0179791964557375), (631, 0.017978609208509216), (3266, 0.017974358743788135), (4428, 0.017969763525095144), (1741, 0.017965515208752475), (473, 0.017965321706885324), (3647, 0.017964328752246544), (2893, 0.017962497575453165), (4057, 0.01795984029090059), (636, 0.017959457477786135), (759, 0.017955338719056146), (28, 0.017952883293347953), (2745, 0.01794950295637727), (2854, 0.017936827701363327), (882, 0.017930355154607065), (1992, 0.01792939600694398), (519, 0.017922126266594396), (783, 0.01792024606537829), (30, 0.017919673520437385), (1571, 0.017914110647105127), (142, 0.017910489112616983), (2549, 0.017872993761203614), (516, 0.01787292302238984), (2370, 0.017863756473646106), (3878, 0.017863220203516536), (2326, 0.017842030428258084), (4715, 0.01782891981037682), (697, 0.017826994388363087), (2537, 0.017824678302813708), (982, 0.017803416401071723), (4423, 0.01780141781528947), (969, 0.017797627230937675), (4109, 0.017791370570736372), (2905, 0.01779076140592249), (3193, 0.017777176775697814), (1960, 0.017773656796097437), (1455, 0.017761433025462785), (4679, 0.01776098158465491), (4675, 0.017754320748375373), (2212, 0.01774449109515244), (911, 0.017744125578590245), (4148, 0.017713457073683787), (1778, 0.01769419571846025), (1021, 0.0176832502433142), (1945, 0.01767710512468683), (4196, 0.01764808599036352), (4513, 0.017644634580293635), (3328, 0.01764214476425987), (2119, 0.017640998297200595), (1252, 0.017618781398768754), (4732, 0.017615600475140294), (3042, 0.01760550540667614), (1520, 0.017582734245568884), (3728, 0.017578092380470273), (1464, 0.01757022588679886), (4332, 0.017558420385949743), (42, 0.017552567259155282), (2904, 0.01755172881598389), (153, 0.01751989836994798), (3313, 0.017516330895721667), (4653, 0.017500957366216964), (3114, 0.017497955838294547), (2942, 0.017484386682564274), (2646, 0.017468164251928153), (1925, 0.017465685715963956), (1724, 0.01745250951756676), (79, 0.017431184031106932), (4031, 0.017425490816490877), (1592, 0.017406361788395077), (26, 0.017399771003598647), (392, 0.01739859348033706), (3447, 0.017380216643215922), (4518, 0.0173765438441738), (4352, 0.017376356840101186), (2412, 0.017372495784967967), (1959, 0.017364752818381544), (3172, 0.017357208586739243), (404, 0.017348805287576485), (3157, 0.017333317467564786), (4203, 0.01731812509593332), (4052, 0.01731440410967457), (2819, 0.017303301181992553), (1529, 0.017301163030135534), (3501, 0.017292088461574994), (4323, 0.017279118593512006), (1354, 0.017277886967623647), (3583, 0.017267147979138246), (1038, 0.017260390502813548), (1955, 0.017231202828029098), (1827, 0.01723100438593582), (1989, 0.01722375424102591), (1715, 0.017221481631137486), (1481, 0.017211547288397664), (4217, 0.01717909245425175), (2026, 0.017146565535652563), (3800, 0.017142758257767676), (1965, 0.017134724894181427), (847, 0.017132658409130204), (2244, 0.01712712299457043), (1395, 0.017113156921619528), (884, 0.017101576808723595), (586, 0.017088050116621643), (150, 0.01708356109232036), (4646, 0.017080515868322422), (4353, 0.01707566165524463), (329, 0.017051838856919736), (423, 0.01701834717883754), (2025, 0.017017235456156108), (1224, 0.017015853452439136), (393, 0.016995336288800185), (3839, 0.016988936439082686), (2744, 0.016978778771311334), (40, 0.016978034416769972), (292, 0.01696490331293559), (58, 0.016960502419183614), (3378, 0.016949001085250024), (3825, 0.016941114195472694), (723, 0.01693719655893562), (2051, 0.01693643948816619), (2711, 0.016920889690168216), (2222, 0.016918147105268053), (3039, 0.016906470094025884), (4642, 0.01689251483908744), (1927, 0.016891844796768533), (806, 0.016868155928172326), (2242, 0.01686221692858042), (2860, 0.016859074624765158), (1993, 0.01685037447801863), (4612, 0.01684745863199387), (717, 0.0168424093680032), (2065, 0.016827065356059392), (203, 0.016826233591304727), (3930, 0.01681555600532731), (1589, 0.01680950007815112), (4006, 0.016806765085615398), (3632, 0.016802213946735402), (2573, 0.016799268973298427), (4106, 0.01679871385783244), (605, 0.016778813027253932), (2697, 0.016777746145665733), (3822, 0.016775456555199863), (2900, 0.01676319393897492), (1023, 0.01675618461417131), (3864, 0.016753158664676193), (1256, 0.016750218873993934), (4066, 0.016745885349352507), (3217, 0.01674424495371025), (4220, 0.016728699727797457), (528, 0.016703354648595046), (2436, 0.01669840387594657), (2733, 0.0166969383501545), (1536, 0.01669308937101137), (2204, 0.01666821908995368), (2621, 0.01666358625424968), (3914, 0.016658153256791746), (471, 0.01664254417068709), (554, 0.016632786966394995), (1010, 0.016630547980389945), (1988, 0.01660220256399757), (3650, 0.01659639044896385), (1332, 0.01659485959551825), (4597, 0.016584951764756807), (1779, 0.016579787629356434), (826, 0.01657208983728699), (1751, 0.016571674893474213), (3323, 0.016562071058776235), (1553, 0.016559893748068676), (1018, 0.016532186681909897), (3732, 0.016528058155936037), (4660, 0.016519494960709556), (1813, 0.016515591756974774), (1212, 0.016498366886703683), (4752, 0.01648552722895498), (2975, 0.016484453634502738), (1486, 0.016453685147636267), (1136, 0.01644966475715533), (1682, 0.016440651463475713), (2927, 0.01643025028849547), (1258, 0.016402011839468135), (770, 0.016385718642514164), (3655, 0.016380025998671298), (661, 0.016371390783152997), (3805, 0.01635671023623992), (1674, 0.01633589651605321), (4226, 0.01633344673152686), (2497, 0.01633079819359153), (2984, 0.016326485335086956), (4455, 0.01631614733388858), (2492, 0.016285608564541726), (4525, 0.016284487182558493), (2141, 0.016259887595043234), (3249, 0.01625125496298796), (2774, 0.01624671351820546), (2201, 0.016220689589603928), (4583, 0.016219243269299497), (1922, 0.016205023620852153), (785, 0.016193906202969073), (165, 0.01619102461317535), (2939, 0.01618318440524037), (3935, 0.016176371743253898), (181, 0.016169933329539407), (234, 0.016169727442158763), (1897, 0.016162528718484698), (466, 0.01615990060485087), (4009, 0.01615652501642059), (2569, 0.01615445101605004), (3357, 0.016151167730828815), (233, 0.016132427780949928), (4600, 0.016130698156173708), (14, 0.016129216346589544), (583, 0.016124409480619332), (3300, 0.016113417764952124), (1511, 0.016110319425520745), (1144, 0.01610928311687592), (2494, 0.016107854834008655), (2128, 0.01610661829661903), (1640, 0.016100034140649148), (3021, 0.016055101425806975), (1036, 0.01604439952488325), (2857, 0.016039126963011047), (4036, 0.016028593237020248), (2157, 0.01602254612649772), (1648, 0.016018263574369588), (2208, 0.0160056434644661), (1802, 0.01600222035396599), (3184, 0.015997601397996497), (2441, 0.015969534064522665), (2803, 0.015965696485891787), (1013, 0.015956655812074685), (511, 0.0159557523044931), (3400, 0.015941309908880062), (769, 0.015939200829232624), (3602, 0.015937524703482323), (3286, 0.015926719544881812), (512, 0.015922462871946565), (2714, 0.01590784877070792), (403, 0.015903756618371803), (2127, 0.015886976944327492), (2262, 0.015879854564721914), (4183, 0.015853542411577666), (773, 0.01584485743421057), (1400, 0.015844344555351407), (303, 0.015833182782261812), (4289, 0.015829846452567426), (3544, 0.015816535923904557), (493, 0.01581395696344755), (3406, 0.015804215716241285), (3771, 0.01580380199445183), (4395, 0.015801463120936783), (3961, 0.015799311309233764), (4349, 0.01578502040576352), (4594, 0.015779279115078784), (720, 0.015777305992498367), (3020, 0.015774098316728827), (2755, 0.015762358014396547), (585, 0.015756579611200243), (2918, 0.01574760870183641), (2154, 0.015741207879727256), (1221, 0.015733354329045973), (2422, 0.01571014444776958), (4566, 0.015701124979305134), (3713, 0.015692550279855236), (2719, 0.015685398332784747), (2633, 0.015684994171236918), (4192, 0.015672212202918874), (483, 0.015664502897438405), (4628, 0.015661514714071102), (1718, 0.01566033033225988), (2845, 0.015657612421787315), (3257, 0.01565663745159019), (1247, 0.015655535020968607), (2309, 0.0156495144940743), (2789, 0.015644909427807923), (485, 0.015636381645265707), (1877, 0.01562969785930029), (2727, 0.015628271269833766), (3230, 0.015623832551244672), (3919, 0.015618133556979124), (1006, 0.015608917947917283), (4408, 0.015600378123415918), (4504, 0.015587783134853404), (1528, 0.015586308533797274), (2234, 0.015584278845966058), (3253, 0.01557541974864048), (3345, 0.015571939372316383), (1943, 0.015560290422818746), (4002, 0.01555784410432616), (1124, 0.015549794081652637), (4516, 0.015547375314731512), (380, 0.0155469119120453), (2434, 0.015533604185876269), (3022, 0.015517281134819616), (486, 0.015509795284804836), (2331, 0.015506348820649926), (2318, 0.015492477598228476), (373, 0.015490974360213166), (4466, 0.01548695383309832), (4726, 0.015482804247964683), (515, 0.015467993723433212), (3648, 0.015458547840455758), (1244, 0.015435868371439582), (3509, 0.015402323339005831), (1085, 0.015395194187865616), (1995, 0.015391752466745505), (1915, 0.0153914388490612), (2911, 0.015382683190156426), (1294, 0.015373164638370612), (2500, 0.015365632108224381), (3398, 0.015361215400922914), (1302, 0.015350796939600314), (1855, 0.015343726477306308), (412, 0.01532928226048158), (3774, 0.015327854181359306), (1029, 0.015315293554401178), (3293, 0.015286495142092783), (2590, 0.015270894591296864), (3324, 0.015270488982642834), (711, 0.015262523813610311), (3392, 0.015249069463015793), (4411, 0.015234761115333293), (219, 0.015225969947138028), (1496, 0.015208292925258993), (2444, 0.01520522281190783), (2551, 0.015205221079083545), (228, 0.015196766024802688), (1931, 0.015195845767837763), (2215, 0.01519108156935927), (2758, 0.01518283494676359), (2225, 0.01518067055929458), (2956, 0.015175663525784224), (1587, 0.015173578521374062), (4505, 0.015151488673799998), (1858, 0.015142914626152425), (4548, 0.015139669470428031), (4318, 0.015125594743663387), (1498, 0.015110176757585258), (1461, 0.015107584566899552), (701, 0.015106708015760806), (2696, 0.01510454944730057), (1440, 0.015102449928358084), (1677, 0.015098731557201175), (945, 0.015093792497022168), (2830, 0.015089629779071325), (1947, 0.015083832811434356), (1803, 0.015074575098769973), (1774, 0.01507185838651708), (63, 0.015064048357040635), (2071, 0.01505639444585467), (4742, 0.015052198436388893), (868, 0.015049286984796895), (4605, 0.015036111490079471), (1665, 0.015030490294987774), (2210, 0.015027666740291932), (1240, 0.01502638824816483), (410, 0.015025600258364979), (1716, 0.015024047159838853), (4549, 0.01501275644139208), (1291, 0.014991511806220043), (4430, 0.014986802663944821), (160, 0.014982198220923941), (813, 0.014980763869969847), (3926, 0.014964420921812022), (580, 0.01495771052268569), (4165, 0.014947530689471154), (1008, 0.014941537839337053), (744, 0.014935870600003117), (3033, 0.014931946785833806), (2831, 0.014923853202450255), (2478, 0.014916264450744086), (760, 0.014905996498290712), (1223, 0.014893527845726404), (4364, 0.0148869732062036), (3304, 0.01488385359286787), (2305, 0.014860978090946102), (1269, 0.014848863145324053), (346, 0.01484576703000235), (4297, 0.014830867757294544), (2906, 0.01480521825535891), (3563, 0.0148036024342828), (144, 0.014799036766239879), (3174, 0.014796535286673386), (168, 0.01479251712688942), (2568, 0.014791804989576635), (3267, 0.01479089522896521), (278, 0.014779459058142107), (4551, 0.01476136161213809), (48, 0.01476091645398831), (625, 0.014755602831350656), (464, 0.014734569548748704), (2036, 0.014732702806337709), (2186, 0.01472787454328006), (4676, 0.0147167927278671), (1082, 0.014707576770237563), (2136, 0.014694374828111138), (2368, 0.014692844145060033), (1403, 0.014691505647827889), (159, 0.014685246776836192), (456, 0.014683550986277206), (3228, 0.014677394385297148), (3924, 0.014662209470335882), (1450, 0.014659852682666844), (3677, 0.014641173105901632), (102, 0.014635832174600946), (2389, 0.01463270940934829), (3448, 0.014630490758213186), (4240, 0.01462436779531575), (2150, 0.014623928039729315), (949, 0.014617543166668742), (3066, 0.01459704726243596), (750, 0.014582905014633472), (1056, 0.014575537146191614), (4366, 0.014574153631885883), (1601, 0.01456102392338853), (420, 0.014552201236804542), (4112, 0.014550174281846979), (1572, 0.014537648084810506), (3095, 0.014532745087079291), (1720, 0.01453263049224388), (2263, 0.01452461703752074), (645, 0.01452415221610576), (4478, 0.014495629574343881), (1099, 0.01448751071189743), (2032, 0.014485326146529618), (1934, 0.01447205745182854), (1912, 0.014458231636741932), (3846, 0.014448484589096373), (1076, 0.01443528832935744), (4524, 0.014432590530078887), (3672, 0.01441943721686359), (3412, 0.014415112565842568), (718, 0.014414676771643768), (1684, 0.01439921948924855), (2056, 0.014397152112848609), (3979, 0.014394965971764633), (3998, 0.01439368146772481), (252, 0.014386728109531448), (564, 0.014382108538953461), (2252, 0.014371241680382849), (1633, 0.014362398413995801), (3376, 0.014360225784410104), (2669, 0.014359867530587963), (913, 0.014355009613436373), (1007, 0.014347687354637527), (820, 0.01434766083935893), (1005, 0.014341823289623374), (1426, 0.014337871295125749), (2792, 0.014337612308305572), (4312, 0.014330434161635935), (1027, 0.014319836188016523), (1446, 0.014317380837064374), (1526, 0.014277167860258039), (1547, 0.014273689189478885), (33, 0.014273036908029627), (3068, 0.01426453130131029), (4431, 0.014264463042656718), (2452, 0.014254907924338757), (1031, 0.014243440667601397), (184, 0.014221978535885919), (3630, 0.014219433638665707), (3684, 0.014214816384895055), (296, 0.014211414239780982), (3432, 0.01420929547087502), (2706, 0.014203802766118333), (2689, 0.014201004681406254), (3618, 0.01420009434920191), (2121, 0.014191433879771034), (4279, 0.014187501351382251), (2524, 0.014164115844928615), (930, 0.01415739216455951), (45, 0.014147390675472885), (1502, 0.014146870134269336), (3390, 0.014138075612103448), (4419, 0.014134609070864161), (2882, 0.014119648091292725), (2507, 0.014114928779858066), (3951, 0.014112028649566153), (891, 0.01411144465651247), (575, 0.014107655945909648), (220, 0.014101518657393224), (644, 0.014093701749060258), (3654, 0.014089057747473682), (3195, 0.014086484495158367), (2790, 0.014085307908388817), (2812, 0.014080161054265995), (989, 0.014079044494987059), (1932, 0.014078722434934004), (4257, 0.014074297488760375), (1622, 0.014070821452061687), (3798, 0.014063714003076648), (154, 0.014056674538420143), (2349, 0.01405017728125255), (2527, 0.014048508272472568), (1097, 0.01403800602310587), (3510, 0.014007887614657297), (3891, 0.013996930909661778), (3144, 0.013970878267307238), (2909, 0.013960345119043538), (833, 0.013950841463694961), (4111, 0.013909895638022649), (4587, 0.013906278803698718), (2276, 0.013904519358560692), (2938, 0.01388892591300267), (4294, 0.013886411679097582), (2072, 0.013881564015266235), (4677, 0.013875294381460445), (3192, 0.01387112147475244), (838, 0.013861165995427367), (1671, 0.013858531019744732), (2, 0.01385799719505456), (2708, 0.013854566667068031), (2970, 0.01384976818337067), (951, 0.013848413005135736), (2615, 0.013847145285739264), (916, 0.013843744647399472), (2093, 0.013840211005357057), (2172, 0.013827687468733123), (1135, 0.01380155084532728), (3404, 0.013794603723976138), (3661, 0.013793561914016886), (2066, 0.013786657919943485), (1920, 0.013782959995493206), (3855, 0.013781996052435743), (2775, 0.013775912499051543), (592, 0.013770805042840673), (1781, 0.013770655573285188), (3560, 0.0137700098261118), (1202, 0.013760337170372164), (4476, 0.013736512819274436), (2278, 0.013729342195779537), (1055, 0.01372487865427631), (424, 0.013693874255558479), (3592, 0.013692384189407958), (4581, 0.013684649804017018), (1175, 0.013683097182458267), (972, 0.013650491665853866), (411, 0.013617620193213682), (1508, 0.013593745643801652), (2926, 0.013588896443177295), (1865, 0.013585455971196677), (2040, 0.013576690757892433), (666, 0.013571437003925085), (4330, 0.013540669005014324), (2430, 0.013532697196422092), (3224, 0.01352793563900363), (3551, 0.013520846387900807), (2061, 0.013509658765889377), (3469, 0.013506227930085102), (2663, 0.013494768490068608), (369, 0.013489970000183512), (106, 0.013486313374071156), (449, 0.013481812913332994), (3459, 0.013481002527294549), (3508, 0.013479029614696682), (3433, 0.013478100983380368), (1680, 0.013476390100784587), (4188, 0.01347154961195297), (724, 0.013464868426176824), (3491, 0.013449075055674723), (3564, 0.013448457273649392), (347, 0.013441843113601804), (674, 0.013440092609971444), (1171, 0.013439103944287418), (1765, 0.01343880422435355), (3058, 0.013436895436847719), (3374, 0.013430558337321267), (3796, 0.013429727104991634), (4509, 0.01342089498282895), (2174, 0.013417596883630978), (348, 0.013396646004413733), (664, 0.013392448850609869), (1191, 0.013390864701271009), (2151, 0.013387157585255945), (3089, 0.01338079667108856), (2428, 0.013374023853767795), (4181, 0.013358130317479882), (3271, 0.013356310078281655), (3231, 0.013348669865243298), (749, 0.013346278710154457), (1219, 0.013342495517662145), (1977, 0.013333255614118324), (135, 0.013326788952476734), (2818, 0.013324696359809433), (3289, 0.013316185228748195), (2156, 0.013303676044973099), (1183, 0.013286384846969347), (2628, 0.013283985830004296), (460, 0.01327626198989694), (2980, 0.013275863256476672), (1696, 0.013273879195354065), (1091, 0.013267260494903642), (497, 0.013265166593501274), (259, 0.013261887650791268), (3254, 0.013253080412802508), (1797, 0.013239323637578774), (230, 0.013236792219649317), (2292, 0.013233884784595536), (3111, 0.013228741847819268), (677, 0.013217313534160436), (4063, 0.013210088320554546), (243, 0.013210068023892418), (2404, 0.013207036800740427), (3232, 0.013203445725542332), (1708, 0.01319923255418903), (638, 0.013192801802782778), (4479, 0.013183522067865595), (1605, 0.01318182170668717), (1277, 0.013181158093321986), (342, 0.01317511548275571), (579, 0.013171610786954904), (3142, 0.01315564173506168), (1609, 0.013155081417485916), (2498, 0.013138393486923012), (1769, 0.013130519554241335), (4303, 0.013119756612321391), (84, 0.013116777485046287), (462, 0.01310700648685892), (727, 0.013104587060924171), (4115, 0.013101735505707974), (3442, 0.013076069028333526), (1967, 0.013070857238609589), (2610, 0.013063598896577648), (1552, 0.01306284451982983), (500, 0.013005594423356939), (1376, 0.013005594256827136), (1685, 0.013002183995838992), (4076, 0.01299285297700933), (2641, 0.012992376472657451), (1327, 0.012992152741051859), (2539, 0.012990821397789842), (3969, 0.01298591657363609), (3834, 0.012966564086141878), (2387, 0.012965340228835916), (3614, 0.012956295195508906), (2096, 0.012953071555596943), (4472, 0.012949740456578582), (4484, 0.012946241857487984), (1075, 0.012945828985773776), (1112, 0.012941642032514074), (4269, 0.01293648211660049), (2999, 0.012919916420668278), (1421, 0.012914666229034578), (2432, 0.012912825602549657), (3131, 0.012903122648955701), (223, 0.012900139065148166), (3457, 0.012893779968051942), (2377, 0.012893620382567559), (164, 0.012880529196629634), (1521, 0.012874263768379272), (3848, 0.012874074634720706), (1060, 0.012869160716545801), (138, 0.012862950810934325), (3010, 0.012862087125673815), (3015, 0.012858883198475834), (716, 0.012851402047246755), (2106, 0.012838799679450364), (2751, 0.012836623573103539), (2634, 0.012827196725591754), (1721, 0.012816475168133586), (3023, 0.012807149341090852), (932, 0.012795799229325167), (408, 0.012794936580217992), (239, 0.012792518791746265), (3783, 0.01278775606571583), (3354, 0.012775881508282105), (2052, 0.012773330538734393), (1436, 0.012760823146518004), (1825, 0.01275900285642667), (4695, 0.01274606811819357), (459, 0.012729674598769634), (798, 0.012728709146412425), (2945, 0.01271908086594031), (2933, 0.01268790196279238), (3356, 0.01268367595795478), (221, 0.012681809448915515), (1565, 0.012681377910249769), (2765, 0.012678546544262443), (734, 0.01267733266056004), (1742, 0.012666781991811395), (2224, 0.012656773598484617), (3164, 0.012652148512081187), (387, 0.01263446156059867), (2023, 0.01261539926677323), (2525, 0.012614713518369285), (4399, 0.012605618230709192), (4598, 0.012593985200978331), (2015, 0.012593480883959493), (2912, 0.012581601233174993), (1618, 0.012581533874033197), (3348, 0.012574676834328492), (3606, 0.012569200595338366), (1048, 0.012568026310078605), (2228, 0.012567328580997872), (3536, 0.012549008976029206), (1451, 0.012528806340379197), (3418, 0.012526755664073486), (2016, 0.012520291348050648), (3521, 0.012501289640172584), (3460, 0.012497949420899917), (189, 0.01248912345156584), (809, 0.012476226182723354), (382, 0.012470528766145978), (4568, 0.01246714064585243), (3626, 0.012461399998824858), (4328, 0.012460457990762801), (1410, 0.012459298347048477), (3347, 0.012454267230218804), (871, 0.012451739706733533), (391, 0.012436036047521215), (118, 0.012434571139230393), (2862, 0.01243055549223872), (372, 0.012427849067934166), (1728, 0.012400659517550044), (3031, 0.012395760653985814), (4168, 0.012394245253707609), (805, 0.012388075554142708), (1567, 0.012376297168962463), (1297, 0.012371593272988155), (1197, 0.012370812692319686), (1706, 0.01236695970147346), (1077, 0.01235575564382306), (2787, 0.012355389214412487), (3177, 0.012342990968129942), (199, 0.012342792802393313), (1823, 0.012340884842049997), (2966, 0.012335863498441377), (3742, 0.01233359933934262), (1326, 0.01232776580201124), (1227, 0.01231504539664397), (824, 0.012315035725422273), (2426, 0.012314685063151896), (850, 0.012312491648689881), (1843, 0.012306703748477258), (1873, 0.012301382956904198), (4283, 0.012293778171173768), (1538, 0.012286951705057048), (3643, 0.012286620985622138), (1066, 0.012284578984194222), (1713, 0.012282525733331658), (83, 0.012255863250437716), (893, 0.012255661236253176), (131, 0.012253276756000863), (1840, 0.012241817243776336), (2348, 0.012238905168199561), (3964, 0.012237505110639764), (4339, 0.01223722324736366), (2791, 0.012232581936470258), (1270, 0.012228018480403996), (864, 0.012220951920627762), (291, 0.012211001248399658), (4324, 0.012208892855631072), (209, 0.012203917376114858), (2826, 0.012183410937780505), (1316, 0.012180455388388516), (1366, 0.01217996137906556), (3600, 0.012175609275811183), (4143, 0.012164826555433016), (2308, 0.012151820232353842), (1888, 0.01214283183545109), (156, 0.012136949002470698), (1208, 0.012131004210503782), (2501, 0.012118485868883182), (4590, 0.012118129661762967), (954, 0.012117673248867655), (953, 0.012102300910177954), (141, 0.012096587826485405), (280, 0.012062736189812389), (1964, 0.012057213841990797), (3986, 0.012053593917889696), (3594, 0.012046577873041354), (1128, 0.012041782534332544), (4290, 0.012038478347400565), (1422, 0.012035573346513161), (4511, 0.012029183606167976), (3841, 0.01201375176413733), (3027, 0.012002565339367765), (3844, 0.011996623235198888), (2480, 0.011990409324934625), (4224, 0.011985508279655274), (3785, 0.01198336322629671), (948, 0.011980779626004183), (1235, 0.011972527849442874), (1817, 0.011970064310494953), (1692, 0.011966465539013735), (1806, 0.011962462238918364), (2747, 0.011960507551502705), (2613, 0.011954651364298408), (1359, 0.01194614957040649), (2371, 0.01193010604068493), (350, 0.011928814186377321), (1852, 0.011926616847741716), (3201, 0.011889001783661323), (2463, 0.011888241084429768), (1551, 0.011886814227911817), (4450, 0.011875367856552636), (4685, 0.011873956948887179), (413, 0.011871379906069037), (4347, 0.011860380618181229), (3773, 0.011852716487026802), (2724, 0.011852346579262719), (1379, 0.011842150081792896), (1063, 0.011841117530632326), (1162, 0.011837711278255444), (3973, 0.0118365702358478), (3540, 0.011835504299098513), (3394, 0.011824240335328171), (2713, 0.011815000552629337), (1017, 0.011812067044715331), (3359, 0.011809405480736307), (1020, 0.011790141521948912), (3547, 0.011785607132204542), (1683, 0.011784984417101341), (2363, 0.011758806530197391), (3425, 0.011757902906729992), (2124, 0.011742866661737968), (2107, 0.011742375344513101), (2644, 0.011729897345351124), (643, 0.011719757256603828), (2808, 0.011719209741703549), (1833, 0.011699146765114306), (1146, 0.011694051155571927), (4550, 0.011691907522700187), (1864, 0.011688584528743454), (3403, 0.011685812016782317), (670, 0.011684871056134251), (1211, 0.01168102754709447), (3156, 0.011672135296669862), (4012, 0.01166638012835163), (536, 0.011661115670580003), (1645, 0.01165113871794465), (3051, 0.011649726659646845), (261, 0.011636052615955983), (626, 0.01163384451097458), (1941, 0.011621751799482197), (3639, 0.011613559649116834), (93, 0.011607164482346558), (782, 0.011605525405913182), (3917, 0.011601575294361982), (2957, 0.011599641245662505), (1497, 0.011581076312511816), (3568, 0.011566427841475282), (3567, 0.011555043235901076), (2316, 0.011549568330501503), (1694, 0.011536532209844434), (702, 0.011533575706376706), (307, 0.011527224845775284), (3784, 0.011511815170822684), (1954, 0.011510077277906762), (4152, 0.011506674094775484), (2009, 0.011500456721677352), (3162, 0.011483976532176463), (208, 0.011483559307417745), (2859, 0.011466315668127815), (171, 0.01144822835842245), (3013, 0.011447242409613423), (3657, 0.011441698876877661), (260, 0.011439256683306816), (4552, 0.011415369394820338), (3750, 0.011411351584266502), (961, 0.011394523491696321), (3200, 0.011382566098886571), (3229, 0.011379986723672044), (4182, 0.011379214313282697), (2635, 0.011377499631117206), (2205, 0.011375343005138292), (742, 0.011368667138617897), (1499, 0.011359414947947637), (316, 0.011358192430225084), (1543, 0.011357555093004307), (3407, 0.011354125168211772), (3091, 0.011348544996800335), (1793, 0.011335623421889322), (416, 0.011327509088162551), (2460, 0.011323746631096351), (3100, 0.011320156535439312), (2139, 0.01131918623792744), (3136, 0.011302797425965933), (2648, 0.011298578567936543), (426, 0.011280635691705287), (1662, 0.011272149326760635), (463, 0.01126265906815143), (3610, 0.011238156884927797), (238, 0.011232552726226594), (2738, 0.011228921687837849), (64, 0.011220090221364361), (3812, 0.011209357760655861), (2890, 0.011197349413809104), (2777, 0.011190835645470784), (1068, 0.011184857946423923), (3718, 0.011183415400632984), (2720, 0.011152020356897684), (2110, 0.011150148496862113), (1816, 0.011142798613693829), (2390, 0.011124258833770434), (4649, 0.011106979750810438), (1875, 0.011106234356054998), (94, 0.0110754247018706), (4739, 0.011063175098875519), (2122, 0.011061703404492019), (4669, 0.011052030490116894), (80, 0.011050651833641099), (800, 0.011045952368497284), (2920, 0.011034885714535224), (2760, 0.010986683666372071), (3866, 0.010968076758741037), (1560, 0.010942039416104686), (188, 0.010941177279618814), (1939, 0.01093197824039185), (3317, 0.01092475192031312), (3858, 0.010911316579703742), (139, 0.0108944522938211), (4542, 0.010888381286324392), (4611, 0.010885934031164847), (4074, 0.010853584443807879), (1837, 0.010849787527966049), (3007, 0.010840718934951617), (2608, 0.01082676489307972), (1549, 0.010808503168111598), (2297, 0.010794922073392683), (2929, 0.010786680366664296), (1339, 0.010786010374376844), (4113, 0.01078503571209024), (3090, 0.010774927915708953), (2821, 0.010772708332239327), (1531, 0.01072183439281328), (1012, 0.010715269396301085), (374, 0.010705344814940794), (3439, 0.010684313137937993), (662, 0.010677901381774903), (2384, 0.010662258951308592), (3372, 0.010657320309137706), (2626, 0.010656810079858785), (4757, 0.01065640093814242), (3242, 0.010653852081211895), (3029, 0.010638358667403126), (4463, 0.010626409900148792), (3309, 0.010615976679769205), (4140, 0.010609360370889758), (4627, 0.010577845701317954), (444, 0.010564456295054023), (3681, 0.010562942983861234), (3273, 0.010555762430881294), (358, 0.010552833659363247), (2979, 0.010549382983407405), (1561, 0.010532065653635217), (1786, 0.010529135042960892), (3207, 0.01052037697095823), (841, 0.010511914128637953), (3916, 0.010504311300701046), (4748, 0.010474527395701018), (2202, 0.010473461596783404), (1190, 0.010470519624982097), (1363, 0.010451865520527131), (1733, 0.01043301439212372), (2661, 0.010423759365157537), (620, 0.0104214818265964), (2466, 0.010421375462011431), (2068, 0.010412029647463938), (2690, 0.010405029399527383), (3634, 0.010390471178231997), (4158, 0.010384571631473247), (4246, 0.010374734793856718), (2391, 0.010370850798057125), (2458, 0.010369378529419172), (422, 0.010352884498190463), (2070, 0.010344862182053325), (2020, 0.010316410004307167), (3405, 0.01030012488425796), (437, 0.010295592089509736), (1637, 0.01026902405158179), (4391, 0.010255082897765045), (2588, 0.010254280657751266), (1581, 0.010252958919967026), (1352, 0.01024462860998749), (1907, 0.010242145448601005), (1390, 0.01023704247673803), (1845, 0.010227546575766262), (1610, 0.010196527524398662), (3109, 0.010195871336641106), (1299, 0.010193073232099507), (4383, 0.010182982821827112), (1279, 0.010182698166686408), (4325, 0.010163294865401913), (2002, 0.010162884292230116), (3451, 0.010162608160239076), (761, 0.010149047694477858), (3821, 0.010142872861724474), (1234, 0.01013758922039429), (468, 0.010121759344224695), (2399, 0.010114473493116954), (4067, 0.010080514446324714), (622, 0.010074898435073788), (3613, 0.010073469756291014), (2194, 0.010070783719994494), (921, 0.010066812178054867), (3927, 0.01006672416465941), (81, 0.010054149991413427), (2868, 0.010038680873211147), (3259, 0.010034888245074787), (3558, 0.01001728233811347), (1514, 0.010010393438998852), (4236, 0.010003391900582217), (2563, 0.010002601874732897), (2173, 0.00999242338303512), (1336, 0.009990936889385243), (3382, 0.009989513155649455), (4191, 0.009975745780018306), (2092, 0.009974829835044245), (2675, 0.00997470215929477), (245, 0.009959979903090005), (3150, 0.009955452724114782), (3302, 0.009950752778489455), (4448, 0.009937045893035465), (1949, 0.00992494751467724), (2531, 0.009916534341948646), (3517, 0.009912379427746972), (1851, 0.009906113680827252), (465, 0.009905958816961088), (1702, 0.009889706347908511), (295, 0.009882961711729844), (1950, 0.009878871933744982), (1530, 0.009876850693613796), (2511, 0.009862754438974759), (2401, 0.009862053640548752), (1790, 0.009860137259698329), (3370, 0.009849898721188483), (4570, 0.009846924864494037), (3549, 0.009840587452034918), (2837, 0.00983897143571592), (2591, 0.009830411969135686), (968, 0.009828903900018617), (637, 0.009818507756539994), (971, 0.009794059385286602), (2431, 0.00979304740791455), (3660, 0.009785625875642646), (4341, 0.009771336708844865), (1652, 0.009768628438260762), (383, 0.00976557569449792), (2769, 0.009762825394765388), (3900, 0.00975779223604831), (1377, 0.009756148667516763), (461, 0.009754862915903571), (1564, 0.009745143971579478), (2235, 0.009742847557949933), (3526, 0.009737749364932912), (3485, 0.009736838244162063), (712, 0.00972997376009439), (110, 0.009724742147189588), (3801, 0.009721254972793313), (908, 0.009720618788892466), (4098, 0.009718956926226286), (3225, 0.00971614184271023), (2649, 0.009695662371080405), (3063, 0.00968996188088559), (1322, 0.009686185425315135), (4141, 0.009674339864106452), (2336, 0.00965554605114055), (3170, 0.009653756363859133), (4135, 0.00965014886242918), (851, 0.009647847826453566), (3739, 0.009619794703417422), (4184, 0.009612473997903204), (2060, 0.009611449494960508), (50, 0.009589184447386469), (1886, 0.009585930083883677), (1032, 0.009584419862700205), (529, 0.009573996328761084), (504, 0.009572689737167364), (808, 0.009565568324251676), (3188, 0.009562495830407448), (1348, 0.0095443688856561), (4081, 0.009533976980713123), (2403, 0.009533116081343997), (1170, 0.009525876502667367), (4029, 0.009515777171154217), (931, 0.009508616604308184), (3343, 0.009505561578241799), (317, 0.009500910725888564), (1370, 0.009495980721589407), (3665, 0.009492541528873277), (4635, 0.00948599585860592), (4592, 0.009485720833071544), (2280, 0.009483421275793602), (2269, 0.009478751375420624), (2270, 0.00946733106434736), (525, 0.009464242740310932), (4320, 0.009457419711562751), (4623, 0.009447261417219337), (4394, 0.00944204099669978), (3818, 0.009436173681157057), (3531, 0.009418045045278777), (1143, 0.009408520197758043), (443, 0.009381786467144552), (1448, 0.009376399742387256), (3052, 0.009375499076916803), (2735, 0.00936921689618041), (1900, 0.009348494882480223), (3260, 0.009335683453989682), (1437, 0.009334097683556575), (2677, 0.009327597863884991), (1284, 0.009319246784555027), (1545, 0.009311306917661548), (1999, 0.009304975976036172), (1026, 0.009303950707512517), (3316, 0.009303348905874111), (3595, 0.009290255101953755), (2864, 0.009283423339221305), (2461, 0.00928223217754242), (2835, 0.00927337405389177), (2226, 0.009271235701622759), (2437, 0.009269956700707252), (3629, 0.009260328084508955), (4743, 0.009251289050584574), (4321, 0.009244390873155725), (4442, 0.009229339385581825), (3291, 0.009224016817357274), (2164, 0.009220085394692929), (1878, 0.009219605479080063), (1909, 0.009206593424326804), (649, 0.009202512016201234), (2479, 0.009198478092468453), (3490, 0.009193399722675962), (2003, 0.009192582094486368), (3065, 0.009187547047776566), (2381, 0.009184152056435128), (3247, 0.009177651209358059), (3562, 0.009165184644745005), (1658, 0.009157426386042857), (4252, 0.0091548684866131), (2166, 0.009144754196011556), (3824, 0.009137241351039877), (964, 0.00913453503856812), (3062, 0.009132490361509989), (2248, 0.009122854571932924), (2049, 0.009118636261853968), (2829, 0.009116307870270119), (3735, 0.00911529396085933), (311, 0.009113948286564961), (4307, 0.009106728745539607), (4373, 0.009104492487223767), (2897, 0.00908860972977005), (2206, 0.009062807768979912), (2409, 0.009062474138735413), (3215, 0.009046060720428701), (1844, 0.009043751051980036), (3543, 0.009026379959173027), (956, 0.009025084333591709), (2372, 0.009019470702269074), (2575, 0.009003352703429963), (2913, 0.008987469227878894), (2018, 0.00898290138482763), (1372, 0.00898043825382972), (1973, 0.008951075283166922), (2315, 0.008949963332404226), (276, 0.008939998812765002), (3320, 0.008936856924660373), (2699, 0.00893137350849181), (659, 0.008917548328752953), (4577, 0.00891557031139241), (4086, 0.008913781403425492), (3071, 0.008912438726567506), (3910, 0.00890889090132001), (4556, 0.008905654168376811), (4305, 0.008893620395046018), (484, 0.008890578199495765), (887, 0.008880267666215563), (433, 0.008875606999459497), (2673, 0.00887175677064856), (4371, 0.008869738267354682), (690, 0.008852989832592736), (3575, 0.008852189514920538), (3083, 0.00884532107591205), (3262, 0.008831952686976188), (1737, 0.008823018694872276), (872, 0.008818615358809569), (1646, 0.008816358885641591), (8, 0.008808977020087674), (1642, 0.008806436735053708), (3321, 0.008803971964988005), (3976, 0.008795701129812983), (430, 0.00879038111705717), (2542, 0.008788737156716317), (1333, 0.00878429538610368), (2547, 0.008782200099455), (2491, 0.008772852709451932), (991, 0.008766689311121826), (2207, 0.008764544676495), (4167, 0.00876097926133333), (1974, 0.008748931552067726), (3369, 0.00874575780873575), (1061, 0.00874164287628136), (861, 0.00873830285484485), (4557, 0.008737877394112374), (4444, 0.008736193581610667), (3571, 0.008730775384738234), (1524, 0.008714521353518556), (1794, 0.008706697282723766), (3876, 0.008703394745444895), (4710, 0.008676245683369431), (2795, 0.008668328182796062), (3145, 0.008664401560571963), (206, 0.008663427634561731), (4502, 0.00865971864101778), (3295, 0.008659167531504596), (1320, 0.008645277507490366), (2601, 0.00862610218827691), (1626, 0.008621739638306597), (2249, 0.008614521540021552), (4647, 0.008604203240989108), (1121, 0.008599504244537681), (2605, 0.008598964436637203), (4008, 0.008584028802740184), (4378, 0.00858030767503815), (2976, 0.00857590835453681), (2917, 0.008546441203157125), (4350, 0.008546085509387761), (671, 0.008540798837116614), (1382, 0.008537489834753824), (885, 0.008534676767819757), (1213, 0.008529678863439232), (3213, 0.00850617817744099), (3353, 0.008490713023125564), (2353, 0.008481100351203837), (3556, 0.0084777017488875), (1921, 0.008473621244044223), (3847, 0.00845862752127932), (4582, 0.008457384583362449), (1548, 0.00844183472922775), (1083, 0.00843944632514214), (1423, 0.008414746593490431), (3191, 0.008407938316857159), (1108, 0.008404938436098162), (4661, 0.008404541554922844), (4334, 0.008383432169403616), (606, 0.008375895233401761), (3445, 0.008364069442221213), (1889, 0.0083629957514204), (3522, 0.0083585948397759), (3411, 0.008348143996385565), (1176, 0.008336628983394328), (865, 0.008328647696807575), (1611, 0.008324665917179837), (2805, 0.00832060302043234), (1593, 0.008318304078692756), (1482, 0.008317070177408188), (1064, 0.008315959528932725), (2554, 0.008309958161982326), (4300, 0.008301792628918083), (3895, 0.008300037929629415), (2778, 0.008299763655515673), (1074, 0.008296689890296749), (1505, 0.008295225858881605), (4473, 0.00828710545884568), (4242, 0.008285238967093005), (2153, 0.008282428629040545), (1388, 0.008273272464849622), (4738, 0.008267529883723077), (1644, 0.008261933234097248), (1122, 0.008258009915477753), (2652, 0.008256562375933226), (1345, 0.008252947677037527), (4271, 0.00825224218315513), (942, 0.008249610798098555), (4209, 0.00824356826519414), (4195, 0.00823239884654612), (1512, 0.008220211942259482), (965, 0.008219391014957663), (4457, 0.008207042033604802), (3911, 0.008201896054077772), (2168, 0.008192237560788792), (3393, 0.008183575494444633), (174, 0.008169957483219921), (1378, 0.008160077375819658), (1198, 0.008153931639098555), (4435, 0.0081499734689677), (3431, 0.00814877574033908), (1849, 0.008142683137540824), (3276, 0.00813845749153858), (265, 0.008130367148093317), (2298, 0.008128642557768118), (1300, 0.008095020433836761), (2998, 0.008093819904578883), (3288, 0.008092833587768527), (2087, 0.008089897451412278), (3685, 0.008081212139889944), (3081, 0.008077981127088166), (375, 0.008071289481578373), (2855, 0.008069089453544382), (61, 0.008063142957407303), (880, 0.008049737140041875), (3212, 0.00804958569929234), (2771, 0.008045330205057176), (117, 0.008043241320310524), (3093, 0.00803748617343189), (3674, 0.008032013046531105), (1159, 0.008027308667517167), (621, 0.008022172034846049), (4701, 0.008017896704320378), (4367, 0.008015402393888139), (3481, 0.008008119779909352), (2142, 0.00800537502990286), (1550, 0.007998257820820602), (195, 0.007997820949900545), (3658, 0.007995680119932007), (2653, 0.007981677338960975), (3906, 0.0079804901203618), (3072, 0.007977793650447762), (3440, 0.007975112659905992), (1110, 0.007972865219298145), (1635, 0.00795483876100971), (1981, 0.007946232566334338), (1343, 0.007928024436278332), (522, 0.007927720214448831), (2279, 0.00790319403523844), (1209, 0.007901171238488302), (1966, 0.007881642198670099), (1490, 0.007870491109034462), (3275, 0.007862907735050929), (2050, 0.007854581045005938), (4449, 0.007825189614111813), (3126, 0.007821283597203707), (197, 0.007809829844697498), (3487, 0.007798726020116688), (4477, 0.0077914513423422175), (4092, 0.007767715643068115), (1478, 0.007767329934939407), (3312, 0.007746055628280365), (3450, 0.007745514811954142), (4747, 0.007742308518332728), (1344, 0.007741258155612928), (819, 0.007740859237594106), (576, 0.007737674944119872), (903, 0.0077214796511558235), (3036, 0.007711732518680963), (2182, 0.007711006712396029), (4281, 0.007707971116955485), (2965, 0.007705121551985514), (1898, 0.007702445479325389), (448, 0.007697822225529652), (1924, 0.007685612620213304), (4437, 0.007680196157809368), (3609, 0.007679363359709077), (2134, 0.007677656562145654), (2679, 0.0076754412344804505), (1184, 0.007674762750917092), (4011, 0.007670063525625866), (1976, 0.0076677879958775294), (2450, 0.007657609578889739), (3014, 0.007657272217861836), (3640, 0.0076549407417879104), (1181, 0.0076366665064237305), (4150, 0.007636509274907718), (3180, 0.007636453663657664), (2785, 0.007635787517951649), (107, 0.007629919438720099), (3651, 0.00762922017595406), (2180, 0.007623451507326472), (3043, 0.00761563690321839), (2400, 0.007608991557484823), (1383, 0.007594026464562394), (89, 0.007585215832018903), (4042, 0.0075811595465948576), (2176, 0.007577290766523693), (2165, 0.0075711879562616186), (2203, 0.007568566184674134), (229, 0.007562089545218721), (920, 0.0075620714061792275), (1754, 0.007561308195405705), (3960, 0.007560721402987408), (958, 0.007560103941893658), (3417, 0.007559888459533725), (598, 0.007557458915090529), (595, 0.007548959004001107), (1107, 0.007546794979044455), (3604, 0.007539098196932567), (4462, 0.0075366131064570924), (1242, 0.007535653043695821), (2125, 0.007533821598963571), (2470, 0.007532268026227078), (436, 0.007526752070855007), (4396, 0.007526614128228791), (2907, 0.007522691594867613), (2556, 0.00752125656302395), (3802, 0.007515938231971191), (1349, 0.007514405309207835), (4177, 0.007506604039093283), (4368, 0.0075057696554710705), (3749, 0.007484032947625646), (4593, 0.0074806040863418955), (3738, 0.007470114665028105), (4078, 0.007464836611812613), (888, 0.0074559353210488), (4134, 0.007445300477645482), (2840, 0.007438193803427688), (747, 0.007435412797243489), (4120, 0.007433860018335292), (4545, 0.0074279114759635235), (4515, 0.007421187711782996), (2741, 0.007416865645026173), (3857, 0.007407371177994073), (3453, 0.007399463946496346), (4638, 0.007399119379150679), (1661, 0.0073915743993990144), (4657, 0.007382240592383382), (4602, 0.007381005065397999), (4601, 0.00736338597243402), (2723, 0.007361477812081508), (802, 0.007360976279792611), (2462, 0.00735446104669226), (4574, 0.007349422694207869), (1805, 0.007329573574577219), (1829, 0.007322747734331091), (3831, 0.00731332388176207), (1265, 0.007311624499512539), (627, 0.007300334068988695), (123, 0.0072965405992864085), (3642, 0.007295069651752189), (3635, 0.007289147802346044), (4595, 0.007279396251357355), (158, 0.007275857379990873), (3401, 0.007275475474708048), (3048, 0.007270986590209024), (4013, 0.007260894748131319), (1484, 0.00726072762510196), (4656, 0.007254279829838088), (3468, 0.007250379857841382), (2820, 0.007234614513695645), (3948, 0.007220926227478806), (2433, 0.007213566413324514), (704, 0.007211185710441543), (4035, 0.00719694009351021), (3873, 0.007193437532769859), (4005, 0.007188379599151307), (2083, 0.007183269236790143), (1952, 0.007181511507221877), (270, 0.007178628922713075), (3235, 0.007171611289419375), (1659, 0.007170575882202414), (4355, 0.007166896139961596), (4083, 0.007166087152301195), (4175, 0.00716338251497815), (1775, 0.007162235571072473), (1492, 0.0071578897488043195), (2502, 0.00715650395742903), (629, 0.0071423713683920285), (1140, 0.007140800945472298), (73, 0.007131561118659197), (1397, 0.007123417320068883), (2963, 0.007120796613715148), (647, 0.00711684296178891), (10, 0.0071071376360196704), (1918, 0.007105963459481938), (792, 0.007094138104458649), (2559, 0.007087292501751291), (2959, 0.007082044485849864), (3623, 0.007080785634295032), (4418, 0.007080768438144851), (2098, 0.0070751464771273195), (1896, 0.007074980435024162), (3724, 0.007071465383468089), (1687, 0.007071061810503872), (3897, 0.007070924098505842), (2075, 0.007064284619625682), (1835, 0.007058619964911089), (1271, 0.0070583447202705605), (4406, 0.007054214806053979), (4232, 0.007051622837674089), (3777, 0.007046384036445499), (3103, 0.007046288357922057), (1859, 0.007032297584354804), (2520, 0.007031519377202449), (2671, 0.007031504675198326), (2006, 0.0070250176022162054), (2809, 0.007019822175662075), (1104, 0.007019571289868706), (23, 0.007010474365593132), (1832, 0.007010267542564229), (2686, 0.007009220640324008), (1958, 0.007006221868634165), (1643, 0.007001631906064912), (1534, 0.007001319121298298), (2489, 0.006995078889479911), (4363, 0.006984942586264264), (1627, 0.006981227587662427), (2295, 0.006973122109817729), (1753, 0.0069721970091207765), (774, 0.006970522312518456), (4375, 0.006969427801216039), (4621, 0.006969030824556396), (4629, 0.006957174398717807), (2324, 0.006956087980374243), (3958, 0.006955886942157211), (980, 0.006952892349065802), (3832, 0.006948876975010272), (4610, 0.006941818971548627), (3335, 0.006935218343918133), (3778, 0.006927359106183451), (4262, 0.006923849575262962), (2321, 0.006911717335646448), (4379, 0.00690985338789847), (3436, 0.006908123437260334), (3920, 0.006907907333989008), (11, 0.006906150743188671), (4088, 0.006894176815135765), (2053, 0.006885343285645293), (2541, 0.006883251321697385), (1435, 0.006877810169601875), (2126, 0.006877788275981891), (1419, 0.006872170676677527), (1636, 0.006871399468114082), (2558, 0.006864895619497669), (2334, 0.006864352107137832), (2762, 0.006864216801592103), (2306, 0.006863962346167682), (3233, 0.006860929084789846), (2530, 0.006852360513556581), (3446, 0.006849147749958971), (531, 0.006834178382040652), (3216, 0.006830510206758019), (4248, 0.006823343966825926), (811, 0.006820364625379829), (2784, 0.0068166162952879175), (3908, 0.006815869983469109), (1811, 0.006808793303994331), (3727, 0.006805586418605735), (4278, 0.006805464773453836), (3340, 0.006804111656359248), (3810, 0.006795736346325499), (2439, 0.006790836973505637), (2788, 0.006789589801738379), (3210, 0.006785804299677171), (848, 0.006784549140041416), (832, 0.006781061800399881), (3252, 0.006758764467306134), (3793, 0.0067479066918392045), (2069, 0.006743987310520693), (4020, 0.006733887518502138), (4137, 0.006730345475798657), (226, 0.006726429522308332), (993, 0.0067181790902213195), (1163, 0.006715494817692496), (244, 0.0067148260215126885), (2169, 0.006712239842672804), (4686, 0.006709789209437184), (4755, 0.006709590745777296), (4604, 0.00670515354542947), (3125, 0.0067020717237419045), (3480, 0.006696542635192076), (2824, 0.006687217444069657), (1483, 0.006675172197136802), (2839, 0.006673944922941597), (4000, 0.006672826262227385), (825, 0.006657156385897331), (3955, 0.006655347682832639), (1831, 0.006651669802398023), (4673, 0.006648096696229573), (3173, 0.006625194735926639), (3421, 0.006623206283401349), (2364, 0.006623035200329235), (1115, 0.006618918454110454), (1098, 0.006614270146891575), (105, 0.006614216049928584), (402, 0.0066136807551656854), (2716, 0.006611536327704706), (4519, 0.006608557203002104), (894, 0.006606481064211111), (3435, 0.006604309168603024), (1059, 0.006601604541854512), (1624, 0.0066005323928238924), (4241, 0.006595722101267343), (1248, 0.006594840329588885), (435, 0.006577208393985859), (1857, 0.006565499609853724), (3746, 0.0065651271034973735), (3744, 0.006561356314666403), (3498, 0.006558260421159738), (127, 0.006550366790869276), (4284, 0.00654365814986672), (3557, 0.006539926213837432), (4157, 0.006535403331792853), (1123, 0.006523472752405095), (4687, 0.006521055815152432), (360, 0.006513059844867679), (1030, 0.006512015874540458), (3368, 0.0065111971103609025), (4069, 0.006497901130632579), (1576, 0.006496921101022665), (3994, 0.006480995919480113), (1035, 0.0064788948276806235), (2113, 0.006472557674022144), (1996, 0.006464000411020225), (2895, 0.006453286168664211), (1201, 0.006446464908015972), (2245, 0.00644149632032878), (2612, 0.00644096874790087), (3011, 0.006440007614347405), (1969, 0.006436051329003559), (3720, 0.0064358768028474215), (112, 0.006420600198000817), (3881, 0.006415449457857943), (1086, 0.006411047097900975), (2567, 0.006397745656222389), (18, 0.00639494841588903), (3338, 0.006394854945841139), (1632, 0.006394275175119331), (4438, 0.006393831033514101), (2038, 0.0063897142352588865), (111, 0.006376267649132688), (4481, 0.006371996273925425), (4155, 0.006371305730174639), (854, 0.006364706645463659), (2304, 0.006359862885586443), (1562, 0.006357797908989076), (2852, 0.006356562152800261), (3094, 0.006347963903248241), (1132, 0.006338107003080821), (3465, 0.006334606192767376), (1274, 0.006333565910150679), (304, 0.006328233182545624), (2707, 0.0063275999420375545), (767, 0.006326361488162827), (4124, 0.006310481208205654), (3377, 0.006308802920220009), (1404, 0.006304103520497525), (359, 0.006299124645097306), (1054, 0.006297430566073092), (3819, 0.006296915162967418), (3967, 0.006292395728280547), (4238, 0.006291259413500335), (3788, 0.00628846822286287), (1014, 0.006285477326460903), (4322, 0.006284729242171988), (1672, 0.0062835742394984915), (863, 0.006274259313900601), (4026, 0.006271385889347439), (2899, 0.006269251977022066), (3550, 0.006249004413399227), (974, 0.006243155757104576), (1398, 0.006241117492832044), (4059, 0.006236747904814578), (810, 0.006230902111146424), (4634, 0.006223034947376536), (3966, 0.0062198804491772385), (285, 0.006216560198169055), (4664, 0.006209185872783178), (3280, 0.0062090599199524565), (3423, 0.006207677846117951), (3532, 0.006207345863148162), (549, 0.00618764566790249), (3972, 0.006175089526724292), (1052, 0.006174135865591685), (240, 0.006172960198528652), (96, 0.006172444722780889), (2317, 0.00617074136320852), (3854, 0.006167261193671166), (4402, 0.006166737006608264), (335, 0.006165495961054273), (4526, 0.006149276579590883), (2482, 0.006147285440955089), (590, 0.006146694758386331), (2936, 0.006141401174792315), (2135, 0.0061348131165872835), (4348, 0.006133083994574252), (4176, 0.006132354902250357), (2776, 0.0061305347578399835), (829, 0.006126454768183745), (1236, 0.006118053020671057), (4094, 0.006100249038526906), (2064, 0.0060923027576634675), (4608, 0.0060911356357200306), (1568, 0.0060859746295324445), (419, 0.006072078026131497), (2538, 0.0060715847228320656), (3008, 0.006065107294366609), (2710, 0.006061889096821173), (337, 0.006053029458191555), (997, 0.006050352522632359), (4160, 0.006044720198995088), (3934, 0.006044520050092484), (4535, 0.00603437391102157), (4233, 0.006028843299473806), (2356, 0.006026927082261048), (2505, 0.006025090365031106), (4401, 0.00602358582326713), (2566, 0.006017781631401906), (3797, 0.006003530442145077), (41, 0.0059990652852918176), (1000, 0.005998479993429861), (722, 0.00599248512651506), (1808, 0.005981088761690476), (2806, 0.005970798468994865), (1460, 0.005968509395232516), (591, 0.005920744983908707), (69, 0.00591971584080782), (3160, 0.005909250298897547), (3787, 0.005902383813791284), (2148, 0.005899838987146689), (2915, 0.0058997807278600035), (166, 0.00588987639443222), (2743, 0.005884933602476095), (4553, 0.00588239183440305), (2898, 0.005875218747982347), (3163, 0.005868132662059745), (4491, 0.005866234213831765), (1015, 0.005864520415172944), (3202, 0.0058617891036431315), (190, 0.005857466130524818), (3894, 0.005848971485664963), (844, 0.005847602233908979), (3016, 0.005843474569394507), (1894, 0.005842266890993207), (2888, 0.005840098645571733), (4493, 0.005838770183471883), (1770, 0.005833565508497675), (3637, 0.005832274177737233), (1585, 0.00582476014543148), (2171, 0.005824343942394721), (3977, 0.005822834053120685), (3852, 0.00581097727367983), (1712, 0.00579902049173374), (1141, 0.005797789955217967), (2451, 0.005790394029322454), (4703, 0.0057783880816652524), (3782, 0.00577493578834472), (1559, 0.005771863969358951), (2565, 0.005755120155408782), (4149, 0.0057547175385500885), (1324, 0.005750981012035217), (1116, 0.005747453640481998), (1280, 0.005740955901982246), (1546, 0.005737303603373817), (470, 0.005721901382664616), (2611, 0.005721515109502705), (2801, 0.0057209475720263), (3132, 0.005716008880192535), (3776, 0.005711707315556832), (1904, 0.005701592799816512), (173, 0.005685918787522332), (1328, 0.005685380610637575), (3806, 0.005675356882929223), (1570, 0.005669933116282984), (3208, 0.0056674348993035325), (482, 0.005662694633743023), (3968, 0.005661607757255868), (2413, 0.005655222635153674), (331, 0.005653369220637277), (1971, 0.005652742462370471), (2545, 0.005652246638079264), (386, 0.005649187856966595), (1634, 0.005641570546656588), (4354, 0.0056399260521612276), (3565, 0.005633325247565992), (3871, 0.005627103937902559), (3134, 0.005627021553279929), (3764, 0.005624625428114308), (313, 0.00562243594135146), (1042, 0.005618576057699628), (27, 0.0056003937419861925), (3124, 0.0055974174008793405), (2988, 0.005595501674800797), (186, 0.0055771616516767965), (3928, 0.0055708121338184854), (151, 0.005569257435751974), (4456, 0.005552244225734067), (2048, 0.00554907353556191), (3585, 0.005547825100687335), (3484, 0.0055462346352052605), (95, 0.00554586419253525), (4643, 0.005545712370760711), (1761, 0.005544135692466871), (406, 0.005535177375401566), (902, 0.005530462166679993), (442, 0.005529862439842379), (1901, 0.005525384802300234), (2155, 0.0055200654792931176), (4533, 0.005517750429408898), (3597, 0.0055176808134809185), (4663, 0.005516738895896003), (4719, 0.005512178068098112), (1686, 0.005511842636358428), (4255, 0.00549967351268279), (4288, 0.005485133561652776), (3352, 0.005473856687357693), (2887, 0.005462844449330841), (3520, 0.005457798827152028), (2526, 0.005456628930792494), (4041, 0.0054530546906619), (3482, 0.005424357161847975), (4103, 0.00542052342048198), (3427, 0.005411713425324191), (2506, 0.005408854894002134), (1151, 0.005406001805800775), (3367, 0.005399829127335555), (3982, 0.00538999725881733), (2823, 0.005389178923665926), (1759, 0.0053782447586130586), (3553, 0.005376896372741202), (3944, 0.005375923110979015), (4128, 0.00537166138699004), (1226, 0.005370606581786331), (4056, 0.005362216204502687), (2767, 0.005355098435118706), (1868, 0.005330913537169735), (3319, 0.0053219844164109735), (1773, 0.00531542492335222), (1358, 0.005313482751974441), (2078, 0.005304005399040092), (1180, 0.0053019331239238625), (3147, 0.005299051919446906), (446, 0.005292351480808841), (4211, 0.005292287116808579), (2759, 0.005286425467909322), (1096, 0.00527800251924755), (668, 0.005276205218441107), (539, 0.005275706970259937), (90, 0.00527204176397075), (273, 0.005264689924881357), (1846, 0.0052520028767795105), (1607, 0.0052502745815994414), (817, 0.005250087463836573), (1315, 0.005244095222563559), (4336, 0.005240303636821302), (3555, 0.005225275180985999), (2544, 0.005224069994422091), (4588, 0.005221343163327775), (2117, 0.0051714538917067504), (3199, 0.005164526723732491), (1255, 0.0051547959726343335), (1207, 0.0051505992337803844), (1019, 0.00514818824606153), (3105, 0.0051481735182626045), (2950, 0.005123422970801021), (3700, 0.005120998204975121), (3954, 0.005120219207420748), (3223, 0.005109238327016179), (3991, 0.005084344911216727), (900, 0.0050725055155534165), (3135, 0.005049616430427119), (650, 0.005047823903984971), (2742, 0.0050370762455566155), (565, 0.005035557544771231), (766, 0.005019826725854436), (248, 0.0050189406482307785), (43, 0.004979684710247403), (1789, 0.004978444745361876), (183, 0.004975558929430657), (379, 0.004965037647954121), (4439, 0.004955125263319463), (457, 0.004948234594327074), (1730, 0.004946116069102069), (2011, 0.004933171442444042), (397, 0.0049294360601492785), (2523, 0.0049190618193658015), (4193, 0.0049029811448024156), (4405, 0.004899826500152072), (3726, 0.004862946140554183), (4018, 0.004851524806772119), (501, 0.004841292852579867), (3795, 0.004822712655494632), (323, 0.00482259035287501), (2935, 0.004818302200510407), (1, 0.004815540132146866), (1009, 0.0048128622237715865), (856, 0.004812401813508557), (2737, 0.00475854128650472), (293, 0.004741931320127697), (4385, 0.0047219988448350455), (4171, 0.004713339482277455), (2692, 0.0047110789913987), (2597, 0.004699712072267409), (147, 0.004693701089182729), (1863, 0.004685459088860378), (3429, 0.004666844753956219), (445, 0.00464437269850311), (364, 0.004638205614093256), (2678, 0.004635108959775077), (3475, 0.004626343118465179), (1745, 0.0046145750076799046), (2352, 0.004607593148820721), (3693, 0.004599993189793257), (601, 0.0045992598884680705), (4571, 0.0045224471664998276), (44, 0.004516112699614307), (843, 0.004461540091043689), (3115, 0.0044306027868805786), (1037, 0.004413225195233039), (2703, 0.004405756415508098), (602, 0.0044018529076795924), (290, 0.004399429640464907), (3512, 0.00436417830430954), (4223, 0.004362458125181997), (4626, 0.004358861361442153), (289, 0.004327095710633863), (4555, 0.004289418435207913), (2010, 0.004257626206687001), (2469, 0.0042476230701640255), (1417, 0.004234905095801744), (1747, 0.0042220549729621104), (3946, 0.004207208232658241), (2657, 0.004168878794771628), (271, 0.004157782995741637), (764, 0.004153654670611311), (2529, 0.004131363480095374), (2684, 0.0041215617513356406), (2379, 0.00410739337280663), (2490, 0.004102059921296762), (2312, 0.004097467588843905), (2858, 0.0040340101551409125), (2137, 0.0040337849684170595), (2891, 0.0040314013115236485), (3139, 0.004029478711686241), (996, 0.004016052886644547), (2722, 0.00399537469840258), (3009, 0.003985186586838583), (3040, 0.003974569043882062), (3166, 0.003947816256176703), (2395, 0.003936836241363916), (3949, 0.003912260338109772), (735, 0.0038862933796322643), (2667, 0.00387815182217359), (2922, 0.0038724838288523443), (2885, 0.0038332150045022086), (2990, 0.0038312887742143298), (2731, 0.003820286027093015), (4222, 0.003816968570521151), (3204, 0.003809823147954343), (3479, 0.00380083658131631), (2281, 0.0037758287699565574), (4198, 0.0037580073705974237), (2483, 0.0037533625294873625), (2832, 0.0037350219076036726), (2536, 0.0037178011188616074), (2948, 0.003706295071833021), (2199, 0.003704765384747284), (4537, 0.0037047408904552145), (3892, 0.0036997724441973066), (2928, 0.003675107916178516), (4040, 0.003672523005276545), (3715, 0.003672509767122396), (4084, 0.0036596301376545857), (2282, 0.0036566298088295244), (2838, 0.003637194013780435), (2875, 0.0036172630044045456), (4102, 0.0036136221247751368), (2455, 0.003612393450563613), (3740, 0.003601874006073577), (3936, 0.0036004016511922703), (2983, 0.003591937309083745), (2600, 0.003590669381959969), (3087, 0.0035905962891190505), (2423, 0.003586734348835732), (3988, 0.0035823398355290313), (2543, 0.0035711370466618257), (3671, 0.0035427022745630884), (4721, 0.0035421833342501453), (4058, 0.003540027931841234), (4562, 0.0035356282651065433), (2515, 0.003533421263102104), (3922, 0.0035133809964716816), (3074, 0.0034918020253910773), (2077, 0.0034709350924634727), (4147, 0.0034654414700000876), (4127, 0.0034546549327925166), (4720, 0.0034543808969761465), (3554, 0.00344521768664979), (4514, 0.0034425038457968848), (2781, 0.0034298723821761866), (3203, 0.0034276085107349074), (3054, 0.0034198109743328034), (3413, 0.0034184529222605667), (3758, 0.0034039243139356184), (4506, 0.0033979288015390497), (4483, 0.003395067635914319), (4190, 0.003394325204417852), (3996, 0.003393404716818525), (2333, 0.0033879924693668824), (4204, 0.003387429974469574), (3686, 0.003383434657710593), (3017, 0.0033814568743560694), (1049, 0.003374768269537107), (3308, 0.003369400427379022), (2986, 0.0033664405503006705), (795, 0.0033638624011750056), (3789, 0.003361148980204953), (4717, 0.0033605748077658545), (4711, 0.0033590668782955877), (4451, 0.003357951792292781), (431, 0.0033564231761675227), (2570, 0.003349718849024073), (3621, 0.0033489766398012103), (1792, 0.0033446103758357935), (1187, 0.0033438432918868385), (2846, 0.003330179558000104), (3931, 0.0033293182321608443), (2468, 0.003325351681018752), (2158, 0.003318366096241117), (2924, 0.0033006878261303296), (2261, 0.0032989465333450097), (3190, 0.003297892702191021), (905, 0.003292274006377586), (2884, 0.003285437346916524), (4010, 0.0032839488689638927), (3337, 0.0032839077658563093), (4650, 0.003279903238833195), (2872, 0.0032760797902214997), (925, 0.0032724868007542717), (4507, 0.003269014054113403), (3835, 0.0032674606166648882), (2187, 0.003266390953535956), (3952, 0.003263811611896013), (2676, 0.0032635403594332615), (1656, 0.003262975877686486), (1507, 0.0032591643392472355), (3851, 0.00325857118256956), (2796, 0.0032570440003741644), (985, 0.0032556765819685505), (4295, 0.0032494419508387984), (1424, 0.0032492723004978376), (4117, 0.0032488338219624794), (3791, 0.00324750304421857), (2982, 0.0032389158191779284), (2223, 0.0032359871232166275), (2302, 0.0032326187234256233), (2357, 0.0032309971668748297), (3649, 0.003228693943328036), (4746, 0.003228044827030168), (4317, 0.0032273060032112044), (4737, 0.003227018996855273), (998, 0.0032263799832378723), (2138, 0.003225696481104251), (999, 0.003223739416087863), (3383, 0.003222619178509053), (4452, 0.0032191109217911493), (2914, 0.0032186994835433093), (3992, 0.0032171159598984585), (839, 0.0032155153855882106), (3168, 0.003204753723635149), (3373, 0.003203294728914142), (1489, 0.003198011399911194), (4105, 0.0031946342922114326), (1311, 0.003192858343360616), (2420, 0.0031879360808953136), (3146, 0.0031834529113140097), (4453, 0.003177735777288251), (4580, 0.0031759081493747915), (4293, 0.0031758507904885128), (4051, 0.003175197517232076), (1260, 0.003174754320950334), (3080, 0.003172303792018241), (2782, 0.003168127692324542), (4706, 0.003161938012617818), (3003, 0.003161604735620529), (4259, 0.00316131114367242), (1923, 0.0031608134620571826), (2535, 0.0031544197529680936), (3688, 0.0031535561642736937), (3572, 0.0031509776334835197), (2592, 0.003150766658826667), (3652, 0.0031447321155861196), (3026, 0.00314442575312681), (4003, 0.0031438778732174387), (2493, 0.0031410748825821235), (1766, 0.003140638463771023), (3097, 0.003138277197508675), (3519, 0.003133403007964632), (2930, 0.0031291801364380823), (3581, 0.003128640860506094), (3529, 0.003127380902593647), (3837, 0.0031240321998454285), (2410, 0.003122208168510105), (2464, 0.003121363248835364), (4308, 0.0031211030972367712), (4097, 0.003116724894748732), (318, 0.0031102620242813633), (2968, 0.003106531728924498), (1243, 0.003104260782212603), (1905, 0.0031028571296896953), (3044, 0.0031023286105073843), (4522, 0.0031015598142215095), (1491, 0.0031015140329985935), (4258, 0.0031009775608260306), (2604, 0.0030972760474929644), (2748, 0.0030948466392322336), (3258, 0.003094782016546756), (2978, 0.003094650277744895), (4207, 0.0030887261582983635), (2082, 0.003087559282361714), (3889, 0.003086592096432031), (2258, 0.0030861612000588888), (2021, 0.003080669988219095), (4734, 0.0030757081770942355), (146, 0.0030699530672071928), (1441, 0.003068097885952181), (2880, 0.003067427599956677), (1103, 0.0030668542104605014), (771, 0.003066199551493687), (1848, 0.003063751805781919), (4132, 0.0030634600429785283), (3943, 0.0030591730676319093), (3584, 0.003056557432324796), (3496, 0.003054968449493706), (405, 0.00305110642548399), (3175, 0.0030497444761822478), (754, 0.0030491177037801145), (2786, 0.0030478073398202297), (873, 0.0030476740472097025), (4131, 0.003045642230528747), (4173, 0.003045059197771776), (1614, 0.0030446565922984292), (2260, 0.0030445479491345833), (4370, 0.00303961690944845), (3601, 0.003035272840761497), (4315, 0.003030834629557413), (1791, 0.0030298972328301173), (1205, 0.0030282518225254558), (3236, 0.0030269929552691915), (1856, 0.003026691278578457), (4560, 0.003026664946261701), (1596, 0.003023200002066677), (4622, 0.003021036826601327), (4256, 0.0030201983343425285), (3084, 0.003018555946753679), (4489, 0.0030185076711379444), (4054, 0.0030178157151875815), (2516, 0.003015574032032724), (205, 0.0030136681737854064), (4655, 0.003012490563537924), (3905, 0.003010505012882854), (4260, 0.0030081097714426326), (4180, 0.0030075827480800007), (4027, 0.0030052745463942537), (3037, 0.003004170503714937), (3041, 0.003004095589586394), (4420, 0.0030010281841599392), (2394, 0.002998897751527449), (2385, 0.002997611626381951), (3187, 0.0029949872375626763), (3984, 0.002993120182011937), (667, 0.002992215148000662), (474, 0.0029904916556306995), (3189, 0.0029901629768732813), (2754, 0.0029838035745843546), (1734, 0.0029821345676736685), (2217, 0.0029794753740162803), (3038, 0.002977185034928671), (2380, 0.002976947234659417), (3514, 0.0029711854259772447), (4421, 0.0029709473177422967), (3591, 0.0029703971477136187), (3351, 0.00297037694480513), (2090, 0.0029703430235332637), (797, 0.002970263949341477), (2042, 0.002969832071950888), (4433, 0.0029693194931030933), (3845, 0.002968574588791018), (1513, 0.002964743860980239), (1432, 0.0029645965876735217), (1024, 0.0029642582354724146), (1727, 0.0029591191524760353), (2325, 0.0029545705304960712), (4756, 0.002954098866965307), (1602, 0.0029528790838108305), (3349, 0.002952728508718474), (784, 0.0029509885891181474), (1542, 0.0029466630810108313), (1469, 0.0029463572148825334), (4648, 0.002943378670912256), (4422, 0.002941106690268553), (3428, 0.0029403315633132004), (4287, 0.0029403301451826824), (3198, 0.0029400867257906686), (1847, 0.0029384576453259114), (708, 0.0029363668247564876), (2519, 0.0029356931491794657), (1735, 0.0029350410820592745), (730, 0.0029305055915173285), (3290, 0.002928896866810884), (4319, 0.002925281395242482), (1557, 0.0029244932550031386), (1777, 0.0029239096551673905), (2856, 0.0029232606715643345), (4329, 0.002922295732130928), (1917, 0.002921486733642781), (2307, 0.002919288755935823), (869, 0.0029180448936752907), (3169, 0.002917663493455615), (3683, 0.002913274485988471), (4093, 0.002911299162011535), (115, 0.002910153289219022), (2200, 0.0029083791434862845), (4404, 0.0029077093770562517), (3912, 0.002907659637111399), (134, 0.0029073636352379578), (933, 0.002906609686219482), (3113, 0.0029028305263577277), (4197, 0.0029013966748679494), (1166, 0.0029011198274332805), (3603, 0.0029003726201994517), (2397, 0.002894526373159925), (1361, 0.002891009453991232), (2440, 0.002890357901565613), (2896, 0.0028901548240683516), (4702, 0.0028900203530243846), (4049, 0.0028884388224328242), (2041, 0.0028863527126633975), (2586, 0.0028836238292657902), (1476, 0.0028834368770292657), (4214, 0.002882809870440926), (1473, 0.0028827242938390305), (3462, 0.0028813951193508683), (3332, 0.0028801375396036834), (1879, 0.0028792942815325556), (1956, 0.002878743911208072), (3676, 0.0028760918829735765), (630, 0.002875689962756486), (3245, 0.00287556550050957), (1722, 0.002874013285144777), (1232, 0.002868010054901349), (2192, 0.002866131579483256), (398, 0.0028658463288009427), (312, 0.002865748327922083), (3155, 0.0028655242704554293), (3034, 0.0028645751426272332), (2994, 0.0028645070026420963), (2449, 0.0028644873231689063), (3494, 0.0028643228479013315), (2284, 0.002861411305270731), (494, 0.00285912009805162), (1906, 0.0028557106695814077), (943, 0.002852878114317602), (2081, 0.00284906599245799), (2709, 0.0028472930722578944), (2495, 0.0028458039020616776), (3662, 0.002844630466115789), (479, 0.0028426948759464376), (4291, 0.002842065653302105), (3106, 0.0028370433610201235), (1638, 0.002835017053909824), (3673, 0.002834529134373115), (1444, 0.0028320236381022346), (1298, 0.0028302880670408054), (3570, 0.002828249210959885), (4688, 0.002825950711741759), (3545, 0.0028248995039497123), (1834, 0.0028214873687812387), (3888, 0.0028160250144128114), (2825, 0.002811561940067468), (2435, 0.0028103978210236562), (1028, 0.0028089055470010703), (1313, 0.0028045223145340206), (1757, 0.0028036633279850884), (2687, 0.0028000687080869495), (1292, 0.002798736221670884), (983, 0.002795269377330358), (1330, 0.0027938332648963318), (1286, 0.0027901295095590696), (1842, 0.002784647596155011), (4530, 0.002783422506157558), (4234, 0.00277641782779025), (1880, 0.002774844157430685), (3402, 0.00277342183459167), (503, 0.0027685445337932027), (755, 0.0027658761526784463), (3879, 0.0027592507817187552), (3375, 0.00275903137813263), (49, 0.0027586521860425294), (4382, 0.002752035289482988), (2693, 0.0027512533347463205), (2467, 0.002745879213343409), (3896, 0.0027443563823037684), (2465, 0.0027429787804472993), (2681, 0.0027361880626278544), (1125, 0.002734912304698962), (1767, 0.0027339898920974628), (1544, 0.0027320527135831847), (3503, 0.0027290870172249327), (367, 0.0027264551991339164), (4434, 0.0027263640825985615), (1839, 0.002717897294977335), (2620, 0.0027157899697961446), (1929, 0.002713208801968282), (157, 0.0027105613009615922), (4213, 0.002706290021561197), (2140, 0.0027061629077093545), (1073, 0.00270579277255453), (505, 0.0027036977215901046), (1532, 0.0027015509424341533), (4037, 0.002696122289650729), (3859, 0.0026919674841442147), (3194, 0.0026863071025424855), (3811, 0.0026830134278245624), (2972, 0.0026826861181114296), (1663, 0.0026811914466665482), (1783, 0.0026778952097396684), (1139, 0.0026769482085642515), (2179, 0.0026736453690142134), (4254, 0.0026723133003029964), (1203, 0.002672206022060019), (1693, 0.002672203767471661), (4690, 0.0026690364703116955), (886, 0.0026681948340427347), (3941, 0.002667049480410812), (941, 0.00266561383773738), (4667, 0.0026615373211591685), (2099, 0.0026601477252314832), (1899, 0.002653221344599497), (1673, 0.002649558675985716), (2866, 0.002648363431809949), (1353, 0.0026462604120043257), (3500, 0.0026404555332651663), (1152, 0.0026385794247408166), (3589, 0.002624525915843778), (1149, 0.0026237084088731946), (2445, 0.002619495490007176), (2274, 0.0026187138777037707), (3050, 0.00260752097211241), (1729, 0.002592177879783871), (3842, 0.0025904245776655014), (3885, 0.0025890639294202317), (4447, 0.0025820840880333568), (2063, 0.0025802088535315415), (2424, 0.0025796726181330863), (1093, 0.0025723387080753917), (632, 0.002572233899062845), (1485, 0.002567742807920483), (3716, 0.0025579476774438923), (4304, 0.002554357684719162), (1980, 0.0025527098349411113), (3070, 0.0025423131025909926), (672, 0.0025378306818378974), (1978, 0.002536638104700897), (3082, 0.002531291898131638), (2264, 0.002528465504295361), (2366, 0.0025239765391405194), (4104, 0.0025227117469831845), (1251, 0.0025184609957133656), (3755, 0.002515325964185894), (2059, 0.0024821473257690685), (2971, 0.0024763804929078394), (2721, 0.002472979623705814), (1217, 0.00247083936234808), (103, 0.002465092463921892), (3856, 0.0024630895032126997), (4426, 0.0024556988771538783), (2001, 0.002450723920532413), (1323, 0.002445304785168988), (1088, 0.002432921174054585), (1070, 0.002432520926112954), (2146, 0.0024322224865859668), (1340, 0.0024169937564275244), (1639, 0.002409368367788718), (4636, 0.002400076470614813), (707, 0.002393821658271288), (1222, 0.0023858614196931153), (786, 0.0023837249113033998), (709, 0.002383204728708724), (1062, 0.002379708036014162), (2876, 0.002376980491488024), (1367, 0.002376716291400701), (2373, 0.0023735090180621457), (1938, 0.0023728989334846676), (1078, 0.0023701460698593723), (2227, 0.002364925568610811), (2770, 0.0023535013512209), (1752, 0.002353074505082377), (1289, 0.002338236764651457), (1156, 0.002336375195800761), (1427, 0.0023330220978850054), (4311, 0.00231226647454618), (4744, 0.0023071669220358273), (506, 0.002306384113663071), (3971, 0.0022951808423631545), (1268, 0.0022784612436985868), (1676, 0.0022724419285080183), (1040, 0.0022228915357682603), (837, 0.0021877815056992795), (351, 0.002171364716713733), (1362, 0.002114969088816621), (2219, 0.002100371571074321), (1153, 0.0019954808453951796), (129, 0.001987399651986822), (475, 0.001896603493403808), (4, 0.0), (5, 0.0), (16, 0.0), (21, 0.0), (34, 0.0), (51, 0.0), (52, 0.0), (66, 0.0), (68, 0.0), (70, 0.0), (76, 0.0), (77, 0.0), (87, 0.0), (98, 0.0), (99, 0.0), (100, 0.0), (120, 0.0), (126, 0.0), (128, 0.0), (132, 0.0), (133, 0.0), (140, 0.0), (143, 0.0), (145, 0.0), (149, 0.0), (172, 0.0), (176, 0.0), (178, 0.0), (187, 0.0), (198, 0.0), (200, 0.0), (207, 0.0), (213, 0.0), (224, 0.0), (227, 0.0), (235, 0.0), (236, 0.0), (254, 0.0), (255, 0.0), (256, 0.0), (262, 0.0), (267, 0.0), (268, 0.0), (274, 0.0), (281, 0.0), (302, 0.0), (308, 0.0), (349, 0.0), (370, 0.0), (376, 0.0), (378, 0.0), (394, 0.0), (399, 0.0), (400, 0.0), (429, 0.0), (432, 0.0), (438, 0.0), (447, 0.0), (450, 0.0), (453, 0.0), (458, 0.0), (476, 0.0), (478, 0.0), (481, 0.0), (487, 0.0), (488, 0.0), (489, 0.0), (490, 0.0), (499, 0.0), (514, 0.0), (517, 0.0), (518, 0.0), (526, 0.0), (533, 0.0), (534, 0.0), (541, 0.0), (542, 0.0), (543, 0.0), (544, 0.0), (552, 0.0), (556, 0.0), (557, 0.0), (558, 0.0), (571, 0.0), (573, 0.0), (574, 0.0), (578, 0.0), (581, 0.0), (584, 0.0), (587, 0.0), (593, 0.0), (596, 0.0), (611, 0.0), (619, 0.0), (624, 0.0), (628, 0.0), (633, 0.0), (642, 0.0), (646, 0.0), (652, 0.0), (655, 0.0), (656, 0.0), (658, 0.0), (663, 0.0), (673, 0.0), (682, 0.0), (688, 0.0), (693, 0.0), (694, 0.0), (695, 0.0), (696, 0.0), (698, 0.0), (721, 0.0), (728, 0.0), (729, 0.0), (739, 0.0), (743, 0.0), (746, 0.0), (753, 0.0), (799, 0.0), (801, 0.0), (804, 0.0), (816, 0.0), (823, 0.0), (827, 0.0), (828, 0.0), (830, 0.0), (831, 0.0), (845, 0.0), (855, 0.0), (857, 0.0), (858, 0.0), (860, 0.0), (876, 0.0), (877, 0.0), (889, 0.0), (896, 0.0), (917, 0.0), (922, 0.0), (927, 0.0), (937, 0.0), (947, 0.0), (950, 0.0), (959, 0.0), (960, 0.0), (967, 0.0), (975, 0.0), (976, 0.0), (986, 0.0), (987, 0.0), (1003, 0.0), (1004, 0.0), (1034, 0.0), (1053, 0.0), (1057, 0.0), (1058, 0.0), (1065, 0.0), (1072, 0.0), (1092, 0.0), (1101, 0.0), (1102, 0.0), (1119, 0.0), (1127, 0.0), (1131, 0.0), (1138, 0.0), (1145, 0.0), (1147, 0.0), (1148, 0.0), (1154, 0.0), (1158, 0.0), (1160, 0.0), (1161, 0.0), (1164, 0.0), (1167, 0.0), (1174, 0.0), (1177, 0.0), (1188, 0.0), (1229, 0.0), (1230, 0.0), (1233, 0.0), (1237, 0.0), (1264, 0.0), (1275, 0.0), (1276, 0.0), (1281, 0.0), (1285, 0.0), (1295, 0.0), (1303, 0.0), (1325, 0.0), (1334, 0.0), (1342, 0.0), (1355, 0.0), (1357, 0.0), (1391, 0.0), (1393, 0.0), (1399, 0.0), (1406, 0.0), (1415, 0.0), (1416, 0.0), (1428, 0.0), (1429, 0.0), (1438, 0.0), (1439, 0.0), (1449, 0.0), (1452, 0.0), (1454, 0.0), (1462, 0.0), (1480, 0.0), (1504, 0.0), (1527, 0.0), (1540, 0.0), (1541, 0.0), (1556, 0.0), (1558, 0.0), (1573, 0.0), (1575, 0.0), (1580, 0.0), (1590, 0.0), (1591, 0.0), (1606, 0.0), (1621, 0.0), (1623, 0.0), (1628, 0.0), (1641, 0.0), (1651, 0.0), (1657, 0.0), (1670, 0.0), (1699, 0.0), (1703, 0.0), (1711, 0.0), (1717, 0.0), (1736, 0.0), (1739, 0.0), (1748, 0.0), (1749, 0.0), (1760, 0.0), (1763, 0.0), (1795, 0.0), (1800, 0.0), (1801, 0.0), (1814, 0.0), (1819, 0.0), (1820, 0.0), (1826, 0.0), (1838, 0.0), (1853, 0.0), (1854, 0.0), (1862, 0.0), (1866, 0.0), (1882, 0.0), (1884, 0.0), (1885, 0.0), (1890, 0.0), (1892, 0.0), (1916, 0.0), (1930, 0.0), (1937, 0.0), (1940, 0.0), (1946, 0.0), (1953, 0.0), (1962, 0.0), (1970, 0.0), (1972, 0.0), (1975, 0.0), (1979, 0.0), (1983, 0.0), (1991, 0.0), (2004, 0.0), (2024, 0.0), (2030, 0.0), (2035, 0.0), (2054, 0.0), (2057, 0.0), (2080, 0.0), (2084, 0.0), (2085, 0.0), (2089, 0.0), (2091, 0.0), (2104, 0.0), (2105, 0.0), (2120, 0.0), (2123, 0.0), (2132, 0.0), (2133, 0.0), (2152, 0.0), (2159, 0.0), (2162, 0.0), (2163, 0.0), (2181, 0.0), (2184, 0.0), (2188, 0.0), (2189, 0.0), (2196, 0.0), (2213, 0.0), (2214, 0.0), (2216, 0.0), (2220, 0.0), (2231, 0.0), (2232, 0.0), (2238, 0.0), (2243, 0.0), (2247, 0.0), (2251, 0.0), (2253, 0.0), (2255, 0.0), (2256, 0.0), (2266, 0.0), (2267, 0.0), (2273, 0.0), (2275, 0.0), (2288, 0.0), (2289, 0.0), (2293, 0.0), (2299, 0.0), (2310, 0.0), (2313, 0.0), (2314, 0.0), (2323, 0.0), (2328, 0.0), (2342, 0.0), (2343, 0.0), (2344, 0.0), (2345, 0.0), (2346, 0.0), (2347, 0.0), (2350, 0.0), (2355, 0.0), (2358, 0.0), (2361, 0.0), (2362, 0.0), (2369, 0.0), (2378, 0.0), (2382, 0.0), (2383, 0.0), (2386, 0.0), (2405, 0.0), (2406, 0.0), (2407, 0.0), (2408, 0.0), (2415, 0.0), (2419, 0.0), (2425, 0.0), (2429, 0.0), (2438, 0.0), (2448, 0.0), (2453, 0.0), (2454, 0.0), (2457, 0.0), (2471, 0.0), (2475, 0.0), (2476, 0.0), (2477, 0.0), (2484, 0.0), (2496, 0.0), (2521, 0.0), (2528, 0.0), (2540, 0.0), (2557, 0.0), (2576, 0.0), (2577, 0.0), (2578, 0.0), (2579, 0.0), (2580, 0.0), (2583, 0.0), (2589, 0.0), (2593, 0.0), (2595, 0.0), (2596, 0.0), (2598, 0.0), (2602, 0.0), (2606, 0.0), (2614, 0.0), (2617, 0.0), (2618, 0.0), (2623, 0.0), (2624, 0.0), (2629, 0.0), (2630, 0.0), (2643, 0.0), (2650, 0.0), (2651, 0.0), (2655, 0.0), (2664, 0.0), (2670, 0.0), (2674, 0.0), (2683, 0.0), (2694, 0.0), (2695, 0.0), (2700, 0.0), (2704, 0.0), (2705, 0.0), (2717, 0.0), (2736, 0.0), (2750, 0.0), (2753, 0.0), (2757, 0.0), (2768, 0.0), (2772, 0.0), (2773, 0.0), (2779, 0.0), (2783, 0.0), (2800, 0.0), (2802, 0.0), (2815, 0.0), (2827, 0.0), (2828, 0.0), (2849, 0.0), (2851, 0.0), (2861, 0.0), (2863, 0.0), (2865, 0.0), (2870, 0.0), (2871, 0.0), (2879, 0.0), (2881, 0.0), (2883, 0.0), (2886, 0.0), (2889, 0.0), (2894, 0.0), (2901, 0.0), (2903, 0.0), (2916, 0.0), (2921, 0.0), (2923, 0.0), (2932, 0.0), (2934, 0.0), (2943, 0.0), (2946, 0.0), (2947, 0.0), (2949, 0.0), (2958, 0.0), (2961, 0.0), (2967, 0.0), (2974, 0.0), (2987, 0.0), (2989, 0.0), (2991, 0.0), (2993, 0.0), (2995, 0.0), (2997, 0.0), (3001, 0.0), (3002, 0.0), (3004, 0.0), (3005, 0.0), (3006, 0.0), (3012, 0.0), (3019, 0.0), (3025, 0.0), (3030, 0.0), (3032, 0.0), (3035, 0.0), (3045, 0.0), (3047, 0.0), (3049, 0.0), (3055, 0.0), (3059, 0.0), (3064, 0.0), (3075, 0.0), (3076, 0.0), (3079, 0.0), (3092, 0.0), (3107, 0.0), (3112, 0.0), (3117, 0.0), (3118, 0.0), (3119, 0.0), (3120, 0.0), (3128, 0.0), (3130, 0.0), (3138, 0.0), (3140, 0.0), (3143, 0.0), (3148, 0.0), (3153, 0.0), (3154, 0.0), (3158, 0.0), (3159, 0.0), (3161, 0.0), (3165, 0.0), (3167, 0.0), (3171, 0.0), (3176, 0.0), (3179, 0.0), (3185, 0.0), (3186, 0.0), (3196, 0.0), (3219, 0.0), (3241, 0.0), (3243, 0.0), (3248, 0.0), (3255, 0.0), (3261, 0.0), (3268, 0.0), (3274, 0.0), (3278, 0.0), (3279, 0.0), (3281, 0.0), (3285, 0.0), (3292, 0.0), (3296, 0.0), (3298, 0.0), (3301, 0.0), (3307, 0.0), (3314, 0.0), (3318, 0.0), (3322, 0.0), (3326, 0.0), (3331, 0.0), (3333, 0.0), (3334, 0.0), (3339, 0.0), (3358, 0.0), (3363, 0.0), (3379, 0.0), (3381, 0.0), (3391, 0.0), (3396, 0.0), (3434, 0.0), (3437, 0.0), (3441, 0.0), (3452, 0.0), (3455, 0.0), (3466, 0.0), (3471, 0.0), (3476, 0.0), (3478, 0.0), (3488, 0.0), (3495, 0.0), (3497, 0.0), (3499, 0.0), (3505, 0.0), (3511, 0.0), (3523, 0.0), (3525, 0.0), (3527, 0.0), (3528, 0.0), (3530, 0.0), (3533, 0.0), (3535, 0.0), (3542, 0.0), (3548, 0.0), (3569, 0.0), (3573, 0.0), (3576, 0.0), (3588, 0.0), (3590, 0.0), (3593, 0.0), (3605, 0.0), (3607, 0.0), (3608, 0.0), (3611, 0.0), (3615, 0.0), (3617, 0.0), (3620, 0.0), (3624, 0.0), (3625, 0.0), (3627, 0.0), (3645, 0.0), (3653, 0.0), (3659, 0.0), (3663, 0.0), (3664, 0.0), (3666, 0.0), (3669, 0.0), (3670, 0.0), (3675, 0.0), (3679, 0.0), (3680, 0.0), (3682, 0.0), (3691, 0.0), (3692, 0.0), (3694, 0.0), (3699, 0.0), (3703, 0.0), (3704, 0.0), (3707, 0.0), (3708, 0.0), (3710, 0.0), (3714, 0.0), (3717, 0.0), (3719, 0.0), (3721, 0.0), (3725, 0.0), (3729, 0.0), (3734, 0.0), (3745, 0.0), (3756, 0.0), (3757, 0.0), (3760, 0.0), (3761, 0.0), (3762, 0.0), (3766, 0.0), (3768, 0.0), (3769, 0.0), (3770, 0.0), (3779, 0.0), (3781, 0.0), (3794, 0.0), (3799, 0.0), (3804, 0.0), (3807, 0.0), (3809, 0.0), (3814, 0.0), (3815, 0.0), (3816, 0.0), (3827, 0.0), (3830, 0.0), (3833, 0.0), (3838, 0.0), (3843, 0.0), (3850, 0.0), (3853, 0.0), (3862, 0.0), (3863, 0.0), (3867, 0.0), (3872, 0.0), (3874, 0.0), (3883, 0.0), (3887, 0.0), (3893, 0.0), (3898, 0.0), (3899, 0.0), (3901, 0.0), (3902, 0.0), (3904, 0.0), (3918, 0.0), (3925, 0.0), (3929, 0.0), (3932, 0.0), (3938, 0.0), (3939, 0.0), (3945, 0.0), (3947, 0.0), (3953, 0.0), (3956, 0.0), (3974, 0.0), (3975, 0.0), (3978, 0.0), (3981, 0.0), (3985, 0.0), (3987, 0.0), (3989, 0.0), (3990, 0.0), (3993, 0.0), (3995, 0.0), (4014, 0.0), (4017, 0.0), (4019, 0.0), (4021, 0.0), (4022, 0.0), (4024, 0.0), (4028, 0.0), (4030, 0.0), (4033, 0.0), (4039, 0.0), (4043, 0.0), (4044, 0.0), (4045, 0.0), (4047, 0.0), (4048, 0.0), (4050, 0.0), (4053, 0.0), (4060, 0.0), (4065, 0.0), (4072, 0.0), (4075, 0.0), (4079, 0.0), (4080, 0.0), (4082, 0.0), (4085, 0.0), (4089, 0.0), (4090, 0.0), (4095, 0.0), (4096, 0.0), (4100, 0.0), (4107, 0.0), (4114, 0.0), (4116, 0.0), (4122, 0.0), (4123, 0.0), (4126, 0.0), (4129, 0.0), (4133, 0.0), (4138, 0.0), (4139, 0.0), (4145, 0.0), (4146, 0.0), (4151, 0.0), (4154, 0.0), (4159, 0.0), (4161, 0.0), (4162, 0.0), (4163, 0.0), (4169, 0.0), (4170, 0.0), (4172, 0.0), (4178, 0.0), (4179, 0.0), (4185, 0.0), (4187, 0.0), (4202, 0.0), (4208, 0.0), (4212, 0.0), (4215, 0.0), (4216, 0.0), (4219, 0.0), (4221, 0.0), (4225, 0.0), (4228, 0.0), (4229, 0.0), (4231, 0.0), (4235, 0.0), (4243, 0.0), (4244, 0.0), (4245, 0.0), (4249, 0.0), (4250, 0.0), (4251, 0.0), (4253, 0.0), (4261, 0.0), (4264, 0.0), (4268, 0.0), (4273, 0.0), (4274, 0.0), (4275, 0.0), (4276, 0.0), (4277, 0.0), (4280, 0.0), (4286, 0.0), (4296, 0.0), (4298, 0.0), (4299, 0.0), (4301, 0.0), (4302, 0.0), (4306, 0.0), (4309, 0.0), (4310, 0.0), (4313, 0.0), (4316, 0.0), (4326, 0.0), (4331, 0.0), (4333, 0.0), (4343, 0.0), (4345, 0.0), (4359, 0.0), (4360, 0.0), (4361, 0.0), (4362, 0.0), (4365, 0.0), (4369, 0.0), (4372, 0.0), (4377, 0.0), (4381, 0.0), (4384, 0.0), (4386, 0.0), (4389, 0.0), (4390, 0.0), (4392, 0.0), (4393, 0.0), (4397, 0.0), (4398, 0.0), (4400, 0.0), (4403, 0.0), (4407, 0.0), (4409, 0.0), (4410, 0.0), (4412, 0.0), (4415, 0.0), (4416, 0.0), (4417, 0.0), (4424, 0.0), (4425, 0.0), (4427, 0.0), (4429, 0.0), (4443, 0.0), (4445, 0.0), (4458, 0.0), (4461, 0.0), (4465, 0.0), (4469, 0.0), (4470, 0.0), (4474, 0.0), (4475, 0.0), (4485, 0.0), (4487, 0.0), (4488, 0.0), (4490, 0.0), (4494, 0.0), (4495, 0.0), (4500, 0.0), (4508, 0.0), (4510, 0.0), (4512, 0.0), (4520, 0.0), (4527, 0.0), (4528, 0.0), (4529, 0.0), (4532, 0.0), (4534, 0.0), (4536, 0.0), (4538, 0.0), (4539, 0.0), (4540, 0.0), (4543, 0.0), (4544, 0.0), (4546, 0.0), (4547, 0.0), (4559, 0.0), (4561, 0.0), (4563, 0.0), (4565, 0.0), (4567, 0.0), (4573, 0.0), (4575, 0.0), (4578, 0.0), (4579, 0.0), (4585, 0.0), (4586, 0.0), (4606, 0.0), (4614, 0.0), (4615, 0.0), (4616, 0.0), (4617, 0.0), (4618, 0.0), (4619, 0.0), (4625, 0.0), (4630, 0.0), (4632, 0.0), (4637, 0.0), (4639, 0.0), (4640, 0.0), (4641, 0.0), (4644, 0.0), (4651, 0.0), (4654, 0.0), (4665, 0.0), (4666, 0.0), (4668, 0.0), (4670, 0.0), (4671, 0.0), (4672, 0.0), (4680, 0.0), (4681, 0.0), (4683, 0.0), (4684, 0.0), (4691, 0.0), (4692, 0.0), (4693, 0.0), (4694, 0.0), (4696, 0.0), (4697, 0.0), (4698, 0.0), (4699, 0.0), (4704, 0.0), (4707, 0.0), (4712, 0.0), (4713, 0.0), (4714, 0.0), (4716, 0.0), (4718, 0.0), (4722, 0.0), (4723, 0.0), (4724, 0.0), (4727, 0.0), (4728, 0.0), (4729, 0.0), (4730, 0.0), (4731, 0.0), (4733, 0.0), (4735, 0.0), (4740, 0.0), (4741, 0.0), (4749, 0.0), (4750, 0.0), (4751, 0.0), (4753, 0.0), (4758, 0.0), (4759, 0.0)]\n"
          ]
        }
      ]
    },
    {
      "cell_type": "code",
      "source": [
        "print('Top 30 Movies Suggested for You are : \\n')\n",
        "\n",
        "i = 1\n",
        "\n",
        "for movie in Sorted_Similar_Movies:\n",
        "  index = movie[0]\n",
        "  title_from_index = df[df.index==index]['Movie_Title'].values[0]\n",
        "  if (i<31):\n",
        "    print(i, '.',title_from_index)\n",
        "    i+=1"
      ],
      "metadata": {
        "id": "SDuqp1vQsok4",
        "colab": {
          "base_uri": "https://localhost:8080/"
        },
        "outputId": "290b114e-f052-4cbd-f20f-75c6db42545b"
      },
      "execution_count": 41,
      "outputs": [
        {
          "output_type": "stream",
          "name": "stdout",
          "text": [
            "Top 30 Movies Suggested for You are : \n",
            "\n",
            "1 . Monty Python and the Holy Grail\n",
            "2 . The Fisher King\n",
            "3 . Time Bandits\n",
            "4 . The Imaginarium of Doctor Parnassus\n",
            "5 . The Brothers Grimm\n",
            "6 . Brazil\n",
            "7 . Fear and Loathing in Las Vegas\n",
            "8 . The Da Vinci Code\n",
            "9 . Indiana Jones and the Last Crusade\n",
            "10 . The Exorcist\n",
            "11 . The Ridiculous 6\n",
            "12 . Dudley Do-Right\n",
            "13 . Nine Dead\n",
            "14 . Sliding Doors\n",
            "15 . Draft Day\n",
            "16 . Friday the 13th Part VII: The New Blood\n",
            "17 . Idiocracy\n",
            "18 . The Devil's Own\n",
            "19 . Zombie Hunter\n",
            "20 . The House of Mirth\n",
            "21 . Mirrormask\n",
            "22 . Notes on a Scandal\n",
            "23 . The Deer Hunter\n",
            "24 . Tsotsi\n",
            "25 . Save the Last Dance\n",
            "26 . The Lost Weekend\n",
            "27 . Beyond the Mat\n",
            "28 . Day of the Dead\n",
            "29 . Highlander\n",
            "30 . Sherlock Holmes\n"
          ]
        }
      ]
    },
    {
      "cell_type": "code",
      "source": [],
      "metadata": {
        "id": "QikPTfaCsooa"
      },
      "execution_count": 41,
      "outputs": []
    }
  ]
}